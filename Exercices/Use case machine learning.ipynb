{
 "cells": [
  {
   "cell_type": "code",
   "execution_count": 1,
   "id": "f97771ac",
   "metadata": {},
   "outputs": [],
   "source": [
    "import pandas as pd\n",
    "import numpy as np\n",
    "import seaborn as sns\n",
    "import matplotlib.pyplot as plt\n",
    "from sklearn.model_selection import train_test_split\n",
    "from pandas.plotting import parallel_coordinates\n",
    "from sklearn.tree import DecisionTreeClassifier, plot_tree\n",
    "from sklearn import metrics\n",
    "from sklearn.naive_bayes import GaussianNB\n",
    "from sklearn.discriminant_analysis import LinearDiscriminantAnalysis, QuadraticDiscriminantAnalysis\n",
    "from sklearn.neighbors import KNeighborsClassifier\n",
    "from sklearn.svm import SVC\n",
    "from sklearn.linear_model import LogisticRegression"
   ]
  },
  {
   "cell_type": "code",
   "execution_count": 2,
   "id": "fe833642",
   "metadata": {},
   "outputs": [],
   "source": [
    "data = pd.read_excel(r\"C:\\Users\\Sarah\\Downloads\\Use_case_data.xlsx\")"
   ]
  },
  {
   "cell_type": "code",
   "execution_count": 11,
   "id": "6159b18d",
   "metadata": {},
   "outputs": [
    {
     "data": {
      "text/html": [
       "<div>\n",
       "<style scoped>\n",
       "    .dataframe tbody tr th:only-of-type {\n",
       "        vertical-align: middle;\n",
       "    }\n",
       "\n",
       "    .dataframe tbody tr th {\n",
       "        vertical-align: top;\n",
       "    }\n",
       "\n",
       "    .dataframe thead th {\n",
       "        text-align: right;\n",
       "    }\n",
       "</style>\n",
       "<table border=\"1\" class=\"dataframe\">\n",
       "  <thead>\n",
       "    <tr style=\"text-align: right;\">\n",
       "      <th></th>\n",
       "      <th>User_ID</th>\n",
       "      <th>Gender</th>\n",
       "      <th>Age</th>\n",
       "      <th>Location</th>\n",
       "      <th>Verification</th>\n",
       "      <th>Sexual_orientation</th>\n",
       "      <th>Sexual_polarity</th>\n",
       "      <th>Looking_for</th>\n",
       "      <th>Points_Rank</th>\n",
       "      <th>Member_since</th>\n",
       "      <th>Number_of_Comments_in_public_forum</th>\n",
       "      <th>Number_of_advertisments_posted</th>\n",
       "      <th>Number_of_offline_meetings_attended</th>\n",
       "      <th>Profile_pictures</th>\n",
       "      <th>Risk</th>\n",
       "    </tr>\n",
       "  </thead>\n",
       "  <tbody>\n",
       "    <tr>\n",
       "      <th>0</th>\n",
       "      <td>10386.0</td>\n",
       "      <td>male</td>\n",
       "      <td>34.6</td>\n",
       "      <td>A</td>\n",
       "      <td>Non_Verified</td>\n",
       "      <td>Homosexual</td>\n",
       "      <td>Switch</td>\n",
       "      <td>Men</td>\n",
       "      <td>50</td>\n",
       "      <td>41169</td>\n",
       "      <td>32</td>\n",
       "      <td>0.0</td>\n",
       "      <td>0.0</td>\n",
       "      <td>0.0</td>\n",
       "      <td>No_risk</td>\n",
       "    </tr>\n",
       "    <tr>\n",
       "      <th>1</th>\n",
       "      <td>14.0</td>\n",
       "      <td>male</td>\n",
       "      <td>32.2</td>\n",
       "      <td>J</td>\n",
       "      <td>Non_Verified</td>\n",
       "      <td>Heterosexual</td>\n",
       "      <td>Dominant</td>\n",
       "      <td>Women</td>\n",
       "      <td>518</td>\n",
       "      <td>40118</td>\n",
       "      <td>710</td>\n",
       "      <td>9.0</td>\n",
       "      <td>0.0</td>\n",
       "      <td>0.0</td>\n",
       "      <td>No_risk</td>\n",
       "    </tr>\n",
       "    <tr>\n",
       "      <th>2</th>\n",
       "      <td>16721.0</td>\n",
       "      <td>male</td>\n",
       "      <td>33.6</td>\n",
       "      <td>K</td>\n",
       "      <td>Non_Verified</td>\n",
       "      <td>Heterosexual</td>\n",
       "      <td>Dominant</td>\n",
       "      <td>Women</td>\n",
       "      <td>150</td>\n",
       "      <td>41365</td>\n",
       "      <td>25</td>\n",
       "      <td>1.0</td>\n",
       "      <td>1.0</td>\n",
       "      <td>45.0</td>\n",
       "      <td>No_risk</td>\n",
       "    </tr>\n",
       "    <tr>\n",
       "      <th>3</th>\n",
       "      <td>16957.0</td>\n",
       "      <td>male</td>\n",
       "      <td>34.0</td>\n",
       "      <td>H</td>\n",
       "      <td>Non_Verified</td>\n",
       "      <td>Heterosexual</td>\n",
       "      <td>Dominant</td>\n",
       "      <td>Women</td>\n",
       "      <td>114</td>\n",
       "      <td>41372</td>\n",
       "      <td>107</td>\n",
       "      <td>1.0</td>\n",
       "      <td>0.0</td>\n",
       "      <td>1.0</td>\n",
       "      <td>No_risk</td>\n",
       "    </tr>\n",
       "    <tr>\n",
       "      <th>4</th>\n",
       "      <td>17125.0</td>\n",
       "      <td>male</td>\n",
       "      <td>39.5</td>\n",
       "      <td>B</td>\n",
       "      <td>Non_Verified</td>\n",
       "      <td>Heterosexual</td>\n",
       "      <td>Dominant</td>\n",
       "      <td>Women</td>\n",
       "      <td>497</td>\n",
       "      <td>41378</td>\n",
       "      <td>600</td>\n",
       "      <td>0.0</td>\n",
       "      <td>6.0</td>\n",
       "      <td>8.0</td>\n",
       "      <td>No_risk</td>\n",
       "    </tr>\n",
       "  </tbody>\n",
       "</table>\n",
       "</div>"
      ],
      "text/plain": [
       "   User_ID Gender   Age Location  Verification Sexual_orientation  \\\n",
       "0  10386.0   male  34.6        A  Non_Verified         Homosexual   \n",
       "1     14.0   male  32.2        J  Non_Verified       Heterosexual   \n",
       "2  16721.0   male  33.6        K  Non_Verified       Heterosexual   \n",
       "3  16957.0   male  34.0        H  Non_Verified       Heterosexual   \n",
       "4  17125.0   male  39.5        B  Non_Verified       Heterosexual   \n",
       "\n",
       "  Sexual_polarity Looking_for Points_Rank  Member_since  \\\n",
       "0          Switch         Men          50         41169   \n",
       "1        Dominant       Women         518         40118   \n",
       "2        Dominant       Women         150         41365   \n",
       "3        Dominant       Women         114         41372   \n",
       "4        Dominant       Women         497         41378   \n",
       "\n",
       "   Number_of_Comments_in_public_forum  Number_of_advertisments_posted  \\\n",
       "0                                  32                             0.0   \n",
       "1                                 710                             9.0   \n",
       "2                                  25                             1.0   \n",
       "3                                 107                             1.0   \n",
       "4                                 600                             0.0   \n",
       "\n",
       "   Number_of_offline_meetings_attended  Profile_pictures     Risk  \n",
       "0                                  0.0               0.0  No_risk  \n",
       "1                                  0.0               0.0  No_risk  \n",
       "2                                  1.0              45.0  No_risk  \n",
       "3                                  0.0               1.0  No_risk  \n",
       "4                                  6.0               8.0  No_risk  "
      ]
     },
     "execution_count": 11,
     "metadata": {},
     "output_type": "execute_result"
    }
   ],
   "source": [
    "data.head()"
   ]
  },
  {
   "cell_type": "code",
   "execution_count": 17,
   "id": "b8d5c953",
   "metadata": {},
   "outputs": [
    {
     "data": {
      "text/plain": [
       "No_risk      57\n",
       "High_risk    32\n",
       "Name: Risk, dtype: int64"
      ]
     },
     "execution_count": 17,
     "metadata": {},
     "output_type": "execute_result"
    }
   ],
   "source": [
    "data['Risk'].value_counts()"
   ]
  },
  {
   "cell_type": "code",
   "execution_count": 21,
   "id": "804f605f",
   "metadata": {},
   "outputs": [
    {
     "data": {
      "text/plain": [
       "User_ID                                float64\n",
       "Gender                                  object\n",
       "Age                                    float64\n",
       "Location                                object\n",
       "Verification                            object\n",
       "Sexual_orientation                      object\n",
       "Sexual_polarity                         object\n",
       "Looking_for                             object\n",
       "Points_Rank                             object\n",
       "Member_since                             int64\n",
       "Number_of_Comments_in_public_forum       int64\n",
       "Number_of_advertisments_posted         float64\n",
       "Number_of_offline_meetings_attended    float64\n",
       "Profile_pictures                       float64\n",
       "Risk                                    object\n",
       "dtype: object"
      ]
     },
     "execution_count": 21,
     "metadata": {},
     "output_type": "execute_result"
    }
   ],
   "source": [
    "data.dtypes"
   ]
  },
  {
   "cell_type": "code",
   "execution_count": 27,
   "id": "ed0b9d29",
   "metadata": {},
   "outputs": [],
   "source": [
    "data['Points_Rank'] = pd.to_numeric(data['Points_Rank'],errors='coerce')"
   ]
  },
  {
   "cell_type": "code",
   "execution_count": 33,
   "id": "5ed7e303",
   "metadata": {},
   "outputs": [
    {
     "data": {
      "text/plain": [
       "User_ID                                float64\n",
       "Gender                                  object\n",
       "Age                                    float64\n",
       "Location                                object\n",
       "Verification                            object\n",
       "Sexual_orientation                      object\n",
       "Sexual_polarity                         object\n",
       "Looking_for                             object\n",
       "Points_Rank                            float64\n",
       "Member_since                             int64\n",
       "Number_of_Comments_in_public_forum       int64\n",
       "Number_of_advertisments_posted         float64\n",
       "Number_of_offline_meetings_attended    float64\n",
       "Profile_pictures                       float64\n",
       "Risk                                    object\n",
       "dtype: object"
      ]
     },
     "execution_count": 33,
     "metadata": {},
     "output_type": "execute_result"
    }
   ],
   "source": [
    "data.dtypes"
   ]
  },
  {
   "cell_type": "code",
   "execution_count": 45,
   "id": "966b04d9",
   "metadata": {},
   "outputs": [],
   "source": [
    "data.isnull().sum()\n",
    "data.dropna(inplace=True)"
   ]
  },
  {
   "cell_type": "code",
   "execution_count": 46,
   "id": "95f49eee",
   "metadata": {},
   "outputs": [
    {
     "data": {
      "text/plain": [
       "User_ID                                0\n",
       "Gender                                 0\n",
       "Age                                    0\n",
       "Location                               0\n",
       "Verification                           0\n",
       "Sexual_orientation                     0\n",
       "Sexual_polarity                        0\n",
       "Looking_for                            0\n",
       "Points_Rank                            0\n",
       "Member_since                           0\n",
       "Number_of_Comments_in_public_forum     0\n",
       "Number_of_advertisments_posted         0\n",
       "Number_of_offline_meetings_attended    0\n",
       "Profile_pictures                       0\n",
       "Risk                                   0\n",
       "dtype: int64"
      ]
     },
     "execution_count": 46,
     "metadata": {},
     "output_type": "execute_result"
    }
   ],
   "source": [
    "data.isnull().sum()\n"
   ]
  },
  {
   "cell_type": "code",
   "execution_count": 47,
   "id": "05b0371f",
   "metadata": {},
   "outputs": [
    {
     "data": {
      "text/plain": [
       "Index(['User_ID', 'Age', 'Points_Rank', 'Member_since',\n",
       "       'Number_of_Comments_in_public_forum', 'Number_of_advertisments_posted',\n",
       "       'Number_of_offline_meetings_attended', 'Profile_pictures',\n",
       "       'Gender_female', 'Gender_male', 'Location_A', 'Location_B',\n",
       "       'Location_C', 'Location_E', 'Location_F', 'Location_H', 'Location_J',\n",
       "       'Location_K', 'Location_L', 'Location_M', 'Location_N', 'Location_O',\n",
       "       'Location_S', 'Verification_Non_Verified', 'Verification_Verified',\n",
       "       'Sexual_orientation_Heterosexual', 'Sexual_orientation_Homosexual',\n",
       "       'Sexual_orientation_bicurious', 'Sexual_orientation_bisexual',\n",
       "       'Sexual_polarity_Dominant', 'Sexual_polarity_Submisive',\n",
       "       'Sexual_polarity_Switch', 'Looking_for_Men',\n",
       "       'Looking_for_Men_and_Women', 'Looking_for_Nobody',\n",
       "       'Looking_for_Nobody_but_maybe', 'Looking_for_Women'],\n",
       "      dtype='object')"
      ]
     },
     "execution_count": 47,
     "metadata": {},
     "output_type": "execute_result"
    }
   ],
   "source": [
    "data_dummy = pd.get_dummies(data=data.drop(['Risk'], axis=1),drop_first=False)\n",
    "data_dummy.columns"
   ]
  },
  {
   "cell_type": "code",
   "execution_count": 48,
   "id": "008a4aaf",
   "metadata": {},
   "outputs": [],
   "source": [
    "risk = data[\"Risk\"]\n",
    "data_dummy = data_dummy.join(risk)"
   ]
  },
  {
   "cell_type": "code",
   "execution_count": 49,
   "id": "fb631c59",
   "metadata": {},
   "outputs": [
    {
     "data": {
      "text/html": [
       "<div>\n",
       "<style scoped>\n",
       "    .dataframe tbody tr th:only-of-type {\n",
       "        vertical-align: middle;\n",
       "    }\n",
       "\n",
       "    .dataframe tbody tr th {\n",
       "        vertical-align: top;\n",
       "    }\n",
       "\n",
       "    .dataframe thead th {\n",
       "        text-align: right;\n",
       "    }\n",
       "</style>\n",
       "<table border=\"1\" class=\"dataframe\">\n",
       "  <thead>\n",
       "    <tr style=\"text-align: right;\">\n",
       "      <th></th>\n",
       "      <th>User_ID</th>\n",
       "      <th>Age</th>\n",
       "      <th>Points_Rank</th>\n",
       "      <th>Member_since</th>\n",
       "      <th>Number_of_Comments_in_public_forum</th>\n",
       "      <th>Number_of_advertisments_posted</th>\n",
       "      <th>Number_of_offline_meetings_attended</th>\n",
       "      <th>Profile_pictures</th>\n",
       "      <th>Gender_female</th>\n",
       "      <th>Gender_male</th>\n",
       "      <th>...</th>\n",
       "      <th>Sexual_orientation_bisexual</th>\n",
       "      <th>Sexual_polarity_Dominant</th>\n",
       "      <th>Sexual_polarity_Submisive</th>\n",
       "      <th>Sexual_polarity_Switch</th>\n",
       "      <th>Looking_for_Men</th>\n",
       "      <th>Looking_for_Men_and_Women</th>\n",
       "      <th>Looking_for_Nobody</th>\n",
       "      <th>Looking_for_Nobody_but_maybe</th>\n",
       "      <th>Looking_for_Women</th>\n",
       "      <th>Risk</th>\n",
       "    </tr>\n",
       "  </thead>\n",
       "  <tbody>\n",
       "    <tr>\n",
       "      <th>0</th>\n",
       "      <td>10386.0</td>\n",
       "      <td>34.6</td>\n",
       "      <td>50.0</td>\n",
       "      <td>41169</td>\n",
       "      <td>32</td>\n",
       "      <td>0.0</td>\n",
       "      <td>0.0</td>\n",
       "      <td>0.0</td>\n",
       "      <td>0</td>\n",
       "      <td>1</td>\n",
       "      <td>...</td>\n",
       "      <td>0</td>\n",
       "      <td>0</td>\n",
       "      <td>0</td>\n",
       "      <td>1</td>\n",
       "      <td>1</td>\n",
       "      <td>0</td>\n",
       "      <td>0</td>\n",
       "      <td>0</td>\n",
       "      <td>0</td>\n",
       "      <td>No_risk</td>\n",
       "    </tr>\n",
       "    <tr>\n",
       "      <th>1</th>\n",
       "      <td>14.0</td>\n",
       "      <td>32.2</td>\n",
       "      <td>518.0</td>\n",
       "      <td>40118</td>\n",
       "      <td>710</td>\n",
       "      <td>9.0</td>\n",
       "      <td>0.0</td>\n",
       "      <td>0.0</td>\n",
       "      <td>0</td>\n",
       "      <td>1</td>\n",
       "      <td>...</td>\n",
       "      <td>0</td>\n",
       "      <td>1</td>\n",
       "      <td>0</td>\n",
       "      <td>0</td>\n",
       "      <td>0</td>\n",
       "      <td>0</td>\n",
       "      <td>0</td>\n",
       "      <td>0</td>\n",
       "      <td>1</td>\n",
       "      <td>No_risk</td>\n",
       "    </tr>\n",
       "    <tr>\n",
       "      <th>2</th>\n",
       "      <td>16721.0</td>\n",
       "      <td>33.6</td>\n",
       "      <td>150.0</td>\n",
       "      <td>41365</td>\n",
       "      <td>25</td>\n",
       "      <td>1.0</td>\n",
       "      <td>1.0</td>\n",
       "      <td>45.0</td>\n",
       "      <td>0</td>\n",
       "      <td>1</td>\n",
       "      <td>...</td>\n",
       "      <td>0</td>\n",
       "      <td>1</td>\n",
       "      <td>0</td>\n",
       "      <td>0</td>\n",
       "      <td>0</td>\n",
       "      <td>0</td>\n",
       "      <td>0</td>\n",
       "      <td>0</td>\n",
       "      <td>1</td>\n",
       "      <td>No_risk</td>\n",
       "    </tr>\n",
       "    <tr>\n",
       "      <th>3</th>\n",
       "      <td>16957.0</td>\n",
       "      <td>34.0</td>\n",
       "      <td>114.0</td>\n",
       "      <td>41372</td>\n",
       "      <td>107</td>\n",
       "      <td>1.0</td>\n",
       "      <td>0.0</td>\n",
       "      <td>1.0</td>\n",
       "      <td>0</td>\n",
       "      <td>1</td>\n",
       "      <td>...</td>\n",
       "      <td>0</td>\n",
       "      <td>1</td>\n",
       "      <td>0</td>\n",
       "      <td>0</td>\n",
       "      <td>0</td>\n",
       "      <td>0</td>\n",
       "      <td>0</td>\n",
       "      <td>0</td>\n",
       "      <td>1</td>\n",
       "      <td>No_risk</td>\n",
       "    </tr>\n",
       "    <tr>\n",
       "      <th>4</th>\n",
       "      <td>17125.0</td>\n",
       "      <td>39.5</td>\n",
       "      <td>497.0</td>\n",
       "      <td>41378</td>\n",
       "      <td>600</td>\n",
       "      <td>0.0</td>\n",
       "      <td>6.0</td>\n",
       "      <td>8.0</td>\n",
       "      <td>0</td>\n",
       "      <td>1</td>\n",
       "      <td>...</td>\n",
       "      <td>0</td>\n",
       "      <td>1</td>\n",
       "      <td>0</td>\n",
       "      <td>0</td>\n",
       "      <td>0</td>\n",
       "      <td>0</td>\n",
       "      <td>0</td>\n",
       "      <td>0</td>\n",
       "      <td>1</td>\n",
       "      <td>No_risk</td>\n",
       "    </tr>\n",
       "    <tr>\n",
       "      <th>...</th>\n",
       "      <td>...</td>\n",
       "      <td>...</td>\n",
       "      <td>...</td>\n",
       "      <td>...</td>\n",
       "      <td>...</td>\n",
       "      <td>...</td>\n",
       "      <td>...</td>\n",
       "      <td>...</td>\n",
       "      <td>...</td>\n",
       "      <td>...</td>\n",
       "      <td>...</td>\n",
       "      <td>...</td>\n",
       "      <td>...</td>\n",
       "      <td>...</td>\n",
       "      <td>...</td>\n",
       "      <td>...</td>\n",
       "      <td>...</td>\n",
       "      <td>...</td>\n",
       "      <td>...</td>\n",
       "      <td>...</td>\n",
       "      <td>...</td>\n",
       "    </tr>\n",
       "    <tr>\n",
       "      <th>83</th>\n",
       "      <td>5648.0</td>\n",
       "      <td>41.4</td>\n",
       "      <td>62.0</td>\n",
       "      <td>41084</td>\n",
       "      <td>30</td>\n",
       "      <td>0.0</td>\n",
       "      <td>0.0</td>\n",
       "      <td>7.0</td>\n",
       "      <td>0</td>\n",
       "      <td>1</td>\n",
       "      <td>...</td>\n",
       "      <td>0</td>\n",
       "      <td>0</td>\n",
       "      <td>1</td>\n",
       "      <td>0</td>\n",
       "      <td>1</td>\n",
       "      <td>0</td>\n",
       "      <td>0</td>\n",
       "      <td>0</td>\n",
       "      <td>0</td>\n",
       "      <td>High_risk</td>\n",
       "    </tr>\n",
       "    <tr>\n",
       "      <th>84</th>\n",
       "      <td>5675.0</td>\n",
       "      <td>36.2</td>\n",
       "      <td>52.0</td>\n",
       "      <td>41088</td>\n",
       "      <td>51</td>\n",
       "      <td>1.0</td>\n",
       "      <td>0.0</td>\n",
       "      <td>0.0</td>\n",
       "      <td>0</td>\n",
       "      <td>1</td>\n",
       "      <td>...</td>\n",
       "      <td>0</td>\n",
       "      <td>0</td>\n",
       "      <td>1</td>\n",
       "      <td>0</td>\n",
       "      <td>0</td>\n",
       "      <td>0</td>\n",
       "      <td>0</td>\n",
       "      <td>0</td>\n",
       "      <td>1</td>\n",
       "      <td>High_risk</td>\n",
       "    </tr>\n",
       "    <tr>\n",
       "      <th>85</th>\n",
       "      <td>5782.0</td>\n",
       "      <td>29.9</td>\n",
       "      <td>155.0</td>\n",
       "      <td>41091</td>\n",
       "      <td>209</td>\n",
       "      <td>0.0</td>\n",
       "      <td>0.0</td>\n",
       "      <td>0.0</td>\n",
       "      <td>0</td>\n",
       "      <td>1</td>\n",
       "      <td>...</td>\n",
       "      <td>0</td>\n",
       "      <td>0</td>\n",
       "      <td>1</td>\n",
       "      <td>0</td>\n",
       "      <td>0</td>\n",
       "      <td>0</td>\n",
       "      <td>0</td>\n",
       "      <td>0</td>\n",
       "      <td>1</td>\n",
       "      <td>High_risk</td>\n",
       "    </tr>\n",
       "    <tr>\n",
       "      <th>86</th>\n",
       "      <td>6035.0</td>\n",
       "      <td>52.3</td>\n",
       "      <td>114.0</td>\n",
       "      <td>41092</td>\n",
       "      <td>120</td>\n",
       "      <td>1.0</td>\n",
       "      <td>0.0</td>\n",
       "      <td>0.0</td>\n",
       "      <td>0</td>\n",
       "      <td>1</td>\n",
       "      <td>...</td>\n",
       "      <td>0</td>\n",
       "      <td>0</td>\n",
       "      <td>1</td>\n",
       "      <td>0</td>\n",
       "      <td>0</td>\n",
       "      <td>0</td>\n",
       "      <td>0</td>\n",
       "      <td>0</td>\n",
       "      <td>1</td>\n",
       "      <td>High_risk</td>\n",
       "    </tr>\n",
       "    <tr>\n",
       "      <th>87</th>\n",
       "      <td>6288.0</td>\n",
       "      <td>28.8</td>\n",
       "      <td>10.0</td>\n",
       "      <td>41094</td>\n",
       "      <td>11</td>\n",
       "      <td>0.0</td>\n",
       "      <td>0.0</td>\n",
       "      <td>0.0</td>\n",
       "      <td>1</td>\n",
       "      <td>0</td>\n",
       "      <td>...</td>\n",
       "      <td>0</td>\n",
       "      <td>1</td>\n",
       "      <td>0</td>\n",
       "      <td>0</td>\n",
       "      <td>0</td>\n",
       "      <td>0</td>\n",
       "      <td>1</td>\n",
       "      <td>0</td>\n",
       "      <td>0</td>\n",
       "      <td>High_risk</td>\n",
       "    </tr>\n",
       "  </tbody>\n",
       "</table>\n",
       "<p>87 rows × 38 columns</p>\n",
       "</div>"
      ],
      "text/plain": [
       "    User_ID   Age  Points_Rank  Member_since  \\\n",
       "0   10386.0  34.6         50.0         41169   \n",
       "1      14.0  32.2        518.0         40118   \n",
       "2   16721.0  33.6        150.0         41365   \n",
       "3   16957.0  34.0        114.0         41372   \n",
       "4   17125.0  39.5        497.0         41378   \n",
       "..      ...   ...          ...           ...   \n",
       "83   5648.0  41.4         62.0         41084   \n",
       "84   5675.0  36.2         52.0         41088   \n",
       "85   5782.0  29.9        155.0         41091   \n",
       "86   6035.0  52.3        114.0         41092   \n",
       "87   6288.0  28.8         10.0         41094   \n",
       "\n",
       "    Number_of_Comments_in_public_forum  Number_of_advertisments_posted  \\\n",
       "0                                   32                             0.0   \n",
       "1                                  710                             9.0   \n",
       "2                                   25                             1.0   \n",
       "3                                  107                             1.0   \n",
       "4                                  600                             0.0   \n",
       "..                                 ...                             ...   \n",
       "83                                  30                             0.0   \n",
       "84                                  51                             1.0   \n",
       "85                                 209                             0.0   \n",
       "86                                 120                             1.0   \n",
       "87                                  11                             0.0   \n",
       "\n",
       "    Number_of_offline_meetings_attended  Profile_pictures  Gender_female  \\\n",
       "0                                   0.0               0.0              0   \n",
       "1                                   0.0               0.0              0   \n",
       "2                                   1.0              45.0              0   \n",
       "3                                   0.0               1.0              0   \n",
       "4                                   6.0               8.0              0   \n",
       "..                                  ...               ...            ...   \n",
       "83                                  0.0               7.0              0   \n",
       "84                                  0.0               0.0              0   \n",
       "85                                  0.0               0.0              0   \n",
       "86                                  0.0               0.0              0   \n",
       "87                                  0.0               0.0              1   \n",
       "\n",
       "    Gender_male  ...  Sexual_orientation_bisexual  Sexual_polarity_Dominant  \\\n",
       "0             1  ...                            0                         0   \n",
       "1             1  ...                            0                         1   \n",
       "2             1  ...                            0                         1   \n",
       "3             1  ...                            0                         1   \n",
       "4             1  ...                            0                         1   \n",
       "..          ...  ...                          ...                       ...   \n",
       "83            1  ...                            0                         0   \n",
       "84            1  ...                            0                         0   \n",
       "85            1  ...                            0                         0   \n",
       "86            1  ...                            0                         0   \n",
       "87            0  ...                            0                         1   \n",
       "\n",
       "    Sexual_polarity_Submisive  Sexual_polarity_Switch  Looking_for_Men  \\\n",
       "0                           0                       1                1   \n",
       "1                           0                       0                0   \n",
       "2                           0                       0                0   \n",
       "3                           0                       0                0   \n",
       "4                           0                       0                0   \n",
       "..                        ...                     ...              ...   \n",
       "83                          1                       0                1   \n",
       "84                          1                       0                0   \n",
       "85                          1                       0                0   \n",
       "86                          1                       0                0   \n",
       "87                          0                       0                0   \n",
       "\n",
       "    Looking_for_Men_and_Women  Looking_for_Nobody  \\\n",
       "0                           0                   0   \n",
       "1                           0                   0   \n",
       "2                           0                   0   \n",
       "3                           0                   0   \n",
       "4                           0                   0   \n",
       "..                        ...                 ...   \n",
       "83                          0                   0   \n",
       "84                          0                   0   \n",
       "85                          0                   0   \n",
       "86                          0                   0   \n",
       "87                          0                   1   \n",
       "\n",
       "    Looking_for_Nobody_but_maybe  Looking_for_Women       Risk  \n",
       "0                              0                  0    No_risk  \n",
       "1                              0                  1    No_risk  \n",
       "2                              0                  1    No_risk  \n",
       "3                              0                  1    No_risk  \n",
       "4                              0                  1    No_risk  \n",
       "..                           ...                ...        ...  \n",
       "83                             0                  0  High_risk  \n",
       "84                             0                  1  High_risk  \n",
       "85                             0                  1  High_risk  \n",
       "86                             0                  1  High_risk  \n",
       "87                             0                  0  High_risk  \n",
       "\n",
       "[87 rows x 38 columns]"
      ]
     },
     "execution_count": 49,
     "metadata": {},
     "output_type": "execute_result"
    }
   ],
   "source": [
    "data_dummy"
   ]
  },
  {
   "cell_type": "code",
   "execution_count": 50,
   "id": "93839777",
   "metadata": {},
   "outputs": [
    {
     "data": {
      "text/plain": [
       "User_ID                                float64\n",
       "Age                                    float64\n",
       "Points_Rank                            float64\n",
       "Member_since                             int64\n",
       "Number_of_Comments_in_public_forum       int64\n",
       "Number_of_advertisments_posted         float64\n",
       "Number_of_offline_meetings_attended    float64\n",
       "Profile_pictures                       float64\n",
       "Gender_female                            uint8\n",
       "Gender_male                              uint8\n",
       "Location_A                               uint8\n",
       "Location_B                               uint8\n",
       "Location_C                               uint8\n",
       "Location_E                               uint8\n",
       "Location_F                               uint8\n",
       "Location_H                               uint8\n",
       "Location_J                               uint8\n",
       "Location_K                               uint8\n",
       "Location_L                               uint8\n",
       "Location_M                               uint8\n",
       "Location_N                               uint8\n",
       "Location_O                               uint8\n",
       "Location_S                               uint8\n",
       "Verification_Non_Verified                uint8\n",
       "Verification_Verified                    uint8\n",
       "Sexual_orientation_Heterosexual          uint8\n",
       "Sexual_orientation_Homosexual            uint8\n",
       "Sexual_orientation_bicurious             uint8\n",
       "Sexual_orientation_bisexual              uint8\n",
       "Sexual_polarity_Dominant                 uint8\n",
       "Sexual_polarity_Submisive                uint8\n",
       "Sexual_polarity_Switch                   uint8\n",
       "Looking_for_Men                          uint8\n",
       "Looking_for_Men_and_Women                uint8\n",
       "Looking_for_Nobody                       uint8\n",
       "Looking_for_Nobody_but_maybe             uint8\n",
       "Looking_for_Women                        uint8\n",
       "Risk                                    object\n",
       "dtype: object"
      ]
     },
     "execution_count": 50,
     "metadata": {},
     "output_type": "execute_result"
    }
   ],
   "source": [
    "data_dummy.dtypes"
   ]
  },
  {
   "cell_type": "markdown",
   "id": "ee9a2d3a",
   "metadata": {},
   "source": [
    "# Test_train_split"
   ]
  },
  {
   "cell_type": "code",
   "execution_count": 51,
   "id": "1b8749ed",
   "metadata": {},
   "outputs": [],
   "source": [
    "from sklearn.model_selection import train_test_split\n",
    "x = data_dummy.drop(['Risk'],axis=1) # X is all the independant variables ('features') \n",
    "y = data_dummy['Risk'] # Y is our Target, or labels, dependant variable\n",
    "\n",
    "X_train, X_test, y_train, y_test = train_test_split(\n",
    "    x, y, test_size=0.2, random_state=5)\n"
   ]
  },
  {
   "cell_type": "code",
   "execution_count": 54,
   "id": "888a446d",
   "metadata": {},
   "outputs": [],
   "source": [
    "from sklearn.preprocessing import StandardScaler\n",
    "sc = StandardScaler()\n",
    "x_train = sc.fit_transform(X_train)\n",
    "x_test = sc.transform(X_test)"
   ]
  },
  {
   "cell_type": "markdown",
   "id": "431147de",
   "metadata": {},
   "source": [
    "# Testing logistic regressing (poor accuracy so not tested further)"
   ]
  },
  {
   "cell_type": "code",
   "execution_count": 55,
   "id": "60eaae14",
   "metadata": {},
   "outputs": [],
   "source": [
    "from sklearn.linear_model import LogisticRegression\n",
    "\n",
    "lr = LogisticRegression(random_state = 0, solver='lbfgs', multi_class='auto')"
   ]
  },
  {
   "cell_type": "code",
   "execution_count": 56,
   "id": "66ea872c",
   "metadata": {},
   "outputs": [
    {
     "data": {
      "text/plain": [
       "LogisticRegression(random_state=0)"
      ]
     },
     "execution_count": 56,
     "metadata": {},
     "output_type": "execute_result"
    }
   ],
   "source": [
    "lr.fit(x_train, y_train)"
   ]
  },
  {
   "cell_type": "code",
   "execution_count": 57,
   "id": "b2d2da13",
   "metadata": {},
   "outputs": [
    {
     "name": "stdout",
     "output_type": "stream",
     "text": [
      "The accuracy of the Logistic Regression is: 16.666666666666664 %\n"
     ]
    }
   ],
   "source": [
    "y_pred = lr.predict(x_test)\n",
    "# Predict probabilities\n",
    "probs_y=lr.predict_proba(x_test)\n",
    "### Print results \n",
    "probs_y = np.round(probs_y, 2)\n",
    "print('The accuracy of the Logistic Regression is:', lr.score(X_test, y_test) * 100, '%')"
   ]
  },
  {
   "cell_type": "markdown",
   "id": "d96f3d1d",
   "metadata": {},
   "source": [
    "# Decision tree"
   ]
  },
  {
   "cell_type": "code",
   "execution_count": null,
   "id": "94d904a7",
   "metadata": {},
   "outputs": [],
   "source": []
  },
  {
   "cell_type": "code",
   "execution_count": 87,
   "id": "49bbb60e",
   "metadata": {},
   "outputs": [
    {
     "name": "stdout",
     "output_type": "stream",
     "text": [
      "The accuracy of the Decision Tree is 0.889\n"
     ]
    }
   ],
   "source": [
    "tree = DecisionTreeClassifier(max_depth = 3, random_state = 1)\n",
    "tree.fit(x_train,y_train)\n",
    "prediction=tree.predict(x_test)\n",
    "print(\"The accuracy of the Decision Tree is\",\"{:.3f}\".format(metrics.accuracy_score(prediction,y_test)))"
   ]
  },
  {
   "cell_type": "code",
   "execution_count": 70,
   "id": "ab5e4d9e",
   "metadata": {},
   "outputs": [
    {
     "data": {
      "image/png": "[encoded data removed]",
      "text/plain": [
       "<Figure size 1080x864 with 1 Axes>"
      ]
     },
     "metadata": {
      "needs_background": "light"
     },
     "output_type": "display_data"
    }
   ],
   "source": [
    "plt.figure(figsize = (15,12))\n",
    "fn = X_train.columns\n",
    "cn = y_train\n",
    "plot_tree(tree, feature_names = fn, class_names = cn, filled = True);"
   ]
  },
  {
   "cell_type": "markdown",
   "id": "ae514f47",
   "metadata": {},
   "source": [
    "# Creating new data to predict"
   ]
  },
  {
   "cell_type": "code",
   "execution_count": 74,
   "id": "690aa05a",
   "metadata": {},
   "outputs": [],
   "source": [
    "new_data = pd.DataFrame(columns = X_test.columns)"
   ]
  },
  {
   "cell_type": "code",
   "execution_count": 75,
   "id": "2075f4c5",
   "metadata": {},
   "outputs": [
    {
     "data": {
      "text/html": [
       "<div>\n",
       "<style scoped>\n",
       "    .dataframe tbody tr th:only-of-type {\n",
       "        vertical-align: middle;\n",
       "    }\n",
       "\n",
       "    .dataframe tbody tr th {\n",
       "        vertical-align: top;\n",
       "    }\n",
       "\n",
       "    .dataframe thead th {\n",
       "        text-align: right;\n",
       "    }\n",
       "</style>\n",
       "<table border=\"1\" class=\"dataframe\">\n",
       "  <thead>\n",
       "    <tr style=\"text-align: right;\">\n",
       "      <th></th>\n",
       "      <th>User_ID</th>\n",
       "      <th>Age</th>\n",
       "      <th>Points_Rank</th>\n",
       "      <th>Member_since</th>\n",
       "      <th>Number_of_Comments_in_public_forum</th>\n",
       "      <th>Number_of_advertisments_posted</th>\n",
       "      <th>Number_of_offline_meetings_attended</th>\n",
       "      <th>Profile_pictures</th>\n",
       "      <th>Gender_female</th>\n",
       "      <th>Gender_male</th>\n",
       "      <th>...</th>\n",
       "      <th>Sexual_orientation_bicurious</th>\n",
       "      <th>Sexual_orientation_bisexual</th>\n",
       "      <th>Sexual_polarity_Dominant</th>\n",
       "      <th>Sexual_polarity_Submisive</th>\n",
       "      <th>Sexual_polarity_Switch</th>\n",
       "      <th>Looking_for_Men</th>\n",
       "      <th>Looking_for_Men_and_Women</th>\n",
       "      <th>Looking_for_Nobody</th>\n",
       "      <th>Looking_for_Nobody_but_maybe</th>\n",
       "      <th>Looking_for_Women</th>\n",
       "    </tr>\n",
       "  </thead>\n",
       "  <tbody>\n",
       "  </tbody>\n",
       "</table>\n",
       "<p>0 rows × 37 columns</p>\n",
       "</div>"
      ],
      "text/plain": [
       "Empty DataFrame\n",
       "Columns: [User_ID, Age, Points_Rank, Member_since, Number_of_Comments_in_public_forum, Number_of_advertisments_posted, Number_of_offline_meetings_attended, Profile_pictures, Gender_female, Gender_male, Location_A, Location_B, Location_C, Location_E, Location_F, Location_H, Location_J, Location_K, Location_L, Location_M, Location_N, Location_O, Location_S, Verification_Non_Verified, Verification_Verified, Sexual_orientation_Heterosexual, Sexual_orientation_Homosexual, Sexual_orientation_bicurious, Sexual_orientation_bisexual, Sexual_polarity_Dominant, Sexual_polarity_Submisive, Sexual_polarity_Switch, Looking_for_Men, Looking_for_Men_and_Women, Looking_for_Nobody, Looking_for_Nobody_but_maybe, Looking_for_Women]\n",
       "Index: []\n",
       "\n",
       "[0 rows x 37 columns]"
      ]
     },
     "execution_count": 75,
     "metadata": {},
     "output_type": "execute_result"
    }
   ],
   "source": [
    "new_data"
   ]
  },
  {
   "cell_type": "code",
   "execution_count": 79,
   "id": "6a3eeef5",
   "metadata": {},
   "outputs": [],
   "source": [
    "new_data1 ={'User_ID': 1, 'Age': 30, 'Points_Rank':50, 'Member_since': 41169,\n",
    "       'Number_of_Comments_in_public_forum': 120, 'Number_of_advertisments_posted':1,\n",
    "       'Number_of_offline_meetings_attended':0, 'Profile_pictures':2,\n",
    "       'Gender_female':0, 'Gender_male':1, 'Location_A':1, 'Location_B':0,\n",
    "       'Location_C':0, 'Location_E':0, 'Location_F':0, 'Location_H':0, 'Location_J':0,\n",
    "       'Location_K':0, 'Location_L':0, 'Location_M':0, 'Location_N':0, 'Location_O':0,\n",
    "       'Location_S':0, 'Verification_Non_Verified':1, 'Verification_Verified':0,\n",
    "       'Sexual_orientation_Heterosexual':1, 'Sexual_orientation_Homosexual':0,\n",
    "       'Sexual_orientation_bicurious':0, 'Sexual_orientation_bisexual':0,\n",
    "       'Sexual_polarity_Dominant':0, 'Sexual_polarity_Submisive':0,\n",
    "       'Sexual_polarity_Switch':1, 'Looking_for_Men':0,\n",
    "       'Looking_for_Men_and_Women':0, 'Looking_for_Nobody':0,\n",
    "       'Looking_for_Nobody_but_maybe':0, 'Looking_for_Women':1}"
   ]
  },
  {
   "cell_type": "code",
   "execution_count": 78,
   "id": "f2a8cef3",
   "metadata": {},
   "outputs": [],
   "source": [
    "new_data2 = {'User_ID':2, 'Age':30, 'Points_Rank':518, 'Member_since':40118,\n",
    "       'Number_of_Comments_in_public_forum':100, 'Number_of_advertisments_posted':9,\n",
    "       'Number_of_offline_meetings_attended':0, 'Profile_pictures':3,\n",
    "       'Gender_female':1, 'Gender_male':0, 'Location_A':0, 'Location_B':0,\n",
    "       'Location_C':0, 'Location_E':0, 'Location_F':0, 'Location_H':0, 'Location_J':0,\n",
    "       'Location_K':0, 'Location_L':0, 'Location_M':0, 'Location_N':0, 'Location_O':0,\n",
    "       'Location_S':0, 'Verification_Non_Verified':1, 'Verification_Verified':1,\n",
    "       'Sexual_orientation_Heterosexual':1, 'Sexual_orientation_Homosexual':0,\n",
    "       'Sexual_orientation_bicurious':0, 'Sexual_orientation_bisexual':0,\n",
    "       'Sexual_polarity_Dominant':1, 'Sexual_polarity_Submisive':0,\n",
    "       'Sexual_polarity_Switch':0, 'Looking_for_Men':1,\n",
    "       'Looking_for_Men_and_Women':0, 'Looking_for_Nobody':0,\n",
    "       'Looking_for_Nobody_but_maybe':0, 'Looking_for_Women':0}"
   ]
  },
  {
   "cell_type": "code",
   "execution_count": 80,
   "id": "5f8352f5",
   "metadata": {},
   "outputs": [],
   "source": [
    "new_data = pd.DataFrame()"
   ]
  },
  {
   "cell_type": "code",
   "execution_count": 82,
   "id": "efdd992b",
   "metadata": {},
   "outputs": [],
   "source": [
    "new_data = new_data.append(new_data1, ignore_index=True)"
   ]
  },
  {
   "cell_type": "code",
   "execution_count": 84,
   "id": "33e22d92",
   "metadata": {},
   "outputs": [],
   "source": [
    "new_data = new_data.append(new_data2, ignore_index=True)"
   ]
  },
  {
   "cell_type": "code",
   "execution_count": 88,
   "id": "2fe061c7",
   "metadata": {},
   "outputs": [
    {
     "data": {
      "text/plain": [
       "array(['High_risk', 'High_risk'], dtype=object)"
      ]
     },
     "execution_count": 88,
     "metadata": {},
     "output_type": "execute_result"
    }
   ],
   "source": [
    "prediction=tree.predict(new_data)\n",
    "prediction"
   ]
  },
  {
   "cell_type": "code",
   "execution_count": null,
   "id": "c37a7aa2",
   "metadata": {},
   "outputs": [],
   "source": []
  }
 ],
 "metadata": {
  "kernelspec": {
   "display_name": "Python 3 (ipykernel)",
   "language": "python",
   "name": "python3"
  },
  "language_info": {
   "codemirror_mode": {
    "name": "ipython",
    "version": 3
   },
   "file_extension": ".py",
   "mimetype": "text/x-python",
   "name": "python",
   "nbconvert_exporter": "python",
   "pygments_lexer": "ipython3",
   "version": "3.9.7"
  }
 },
 "nbformat": 4,
 "nbformat_minor": 5
}
