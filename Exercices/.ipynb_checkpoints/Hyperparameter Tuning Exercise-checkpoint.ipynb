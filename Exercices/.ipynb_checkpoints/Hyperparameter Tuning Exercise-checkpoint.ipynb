{
 "cells": [
  {
   "cell_type": "code",
   "execution_count": 20,
   "id": "bb84abe1",
   "metadata": {},
   "outputs": [],
   "source": [
    "import seaborn as sns\n",
    "import numpy as np\n",
    "import pandas as pd"
   ]
  },
  {
   "cell_type": "code",
   "execution_count": 2,
   "id": "fa048b18",
   "metadata": {},
   "outputs": [
    {
     "data": {
      "text/plain": [
       "['anagrams',\n",
       " 'anscombe',\n",
       " 'attention',\n",
       " 'brain_networks',\n",
       " 'car_crashes',\n",
       " 'diamonds',\n",
       " 'dots',\n",
       " 'exercise',\n",
       " 'flights',\n",
       " 'fmri',\n",
       " 'gammas',\n",
       " 'geyser',\n",
       " 'iris',\n",
       " 'mpg',\n",
       " 'penguins',\n",
       " 'planets',\n",
       " 'taxis',\n",
       " 'tips',\n",
       " 'titanic']"
      ]
     },
     "execution_count": 2,
     "metadata": {},
     "output_type": "execute_result"
    }
   ],
   "source": [
    "sns.get_dataset_names()"
   ]
  },
  {
   "cell_type": "code",
   "execution_count": 16,
   "id": "0ffc6ef7",
   "metadata": {},
   "outputs": [],
   "source": [
    "titanic = sns.load_dataset('titanic')"
   ]
  },
  {
   "cell_type": "code",
   "execution_count": 17,
   "id": "2ea2e1ca",
   "metadata": {},
   "outputs": [
    {
     "data": {
      "text/plain": [
       "survived         0\n",
       "pclass           0\n",
       "sex              0\n",
       "age            177\n",
       "sibsp            0\n",
       "parch            0\n",
       "fare             0\n",
       "embarked         2\n",
       "class            0\n",
       "who              0\n",
       "adult_male       0\n",
       "deck           688\n",
       "embark_town      2\n",
       "alive            0\n",
       "alone            0\n",
       "dtype: int64"
      ]
     },
     "execution_count": 17,
     "metadata": {},
     "output_type": "execute_result"
    }
   ],
   "source": [
    "titanic.isnull().sum()"
   ]
  },
  {
   "cell_type": "code",
   "execution_count": 18,
   "id": "211c6b99",
   "metadata": {},
   "outputs": [],
   "source": [
    "titanic.drop(['deck'],axis=1, inplace =True)"
   ]
  },
  {
   "cell_type": "code",
   "execution_count": 25,
   "id": "aa34411d",
   "metadata": {},
   "outputs": [],
   "source": [
    "titanic['age'] = np.where(titanic['age'].isna() == True,titanic['age'].mean(), titanic['age'] )"
   ]
  },
  {
   "cell_type": "code",
   "execution_count": 26,
   "id": "19e69bc1",
   "metadata": {},
   "outputs": [
    {
     "data": {
      "text/plain": [
       "survived       0\n",
       "pclass         0\n",
       "sex            0\n",
       "age            0\n",
       "sibsp          0\n",
       "parch          0\n",
       "fare           0\n",
       "embarked       2\n",
       "class          0\n",
       "who            0\n",
       "adult_male     0\n",
       "embark_town    2\n",
       "alive          0\n",
       "alone          0\n",
       "dtype: int64"
      ]
     },
     "execution_count": 26,
     "metadata": {},
     "output_type": "execute_result"
    }
   ],
   "source": [
    "titanic.isnull().sum()"
   ]
  },
  {
   "cell_type": "code",
   "execution_count": 28,
   "id": "37ee4e3e",
   "metadata": {},
   "outputs": [],
   "source": [
    "titanic.dropna(inplace=True)"
   ]
  },
  {
   "cell_type": "code",
   "execution_count": 29,
   "id": "067fe90e",
   "metadata": {},
   "outputs": [
    {
     "data": {
      "text/plain": [
       "survived       0\n",
       "pclass         0\n",
       "sex            0\n",
       "age            0\n",
       "sibsp          0\n",
       "parch          0\n",
       "fare           0\n",
       "embarked       0\n",
       "class          0\n",
       "who            0\n",
       "adult_male     0\n",
       "embark_town    0\n",
       "alive          0\n",
       "alone          0\n",
       "dtype: int64"
      ]
     },
     "execution_count": 29,
     "metadata": {},
     "output_type": "execute_result"
    }
   ],
   "source": [
    "titanic.isnull().sum()"
   ]
  },
  {
   "cell_type": "code",
   "execution_count": 34,
   "id": "f76383d2",
   "metadata": {},
   "outputs": [
    {
     "data": {
      "text/plain": [
       "0        male\n",
       "1      female\n",
       "2      female\n",
       "3      female\n",
       "4        male\n",
       "        ...  \n",
       "886      male\n",
       "887    female\n",
       "888    female\n",
       "889      male\n",
       "890      male\n",
       "Name: sex, Length: 889, dtype: object"
      ]
     },
     "execution_count": 34,
     "metadata": {},
     "output_type": "execute_result"
    }
   ],
   "source": [
    "titanic['sex']"
   ]
  },
  {
   "cell_type": "code",
   "execution_count": 38,
   "id": "aeebe7ac",
   "metadata": {},
   "outputs": [],
   "source": [
    "from sklearn import preprocessing\n",
    "le = preprocessing.LabelEncoder()\n",
    "le.fit(titanic['sex'])\n",
    "titanic['sex'] = le.transform(titanic['sex'])\n",
    "# 1 is male , 0 is female "
   ]
  },
  {
   "cell_type": "code",
   "execution_count": 40,
   "id": "2c91a0bc",
   "metadata": {},
   "outputs": [
    {
     "data": {
      "text/plain": [
       "survived          int64\n",
       "pclass            int64\n",
       "sex               int32\n",
       "age             float64\n",
       "sibsp             int64\n",
       "parch             int64\n",
       "fare            float64\n",
       "embarked         object\n",
       "class          category\n",
       "who              object\n",
       "adult_male         bool\n",
       "embark_town      object\n",
       "alive            object\n",
       "alone              bool\n",
       "dtype: object"
      ]
     },
     "execution_count": 40,
     "metadata": {},
     "output_type": "execute_result"
    }
   ],
   "source": [
    "titanic.dtypes"
   ]
  },
  {
   "cell_type": "code",
   "execution_count": 44,
   "id": "e9ad223e",
   "metadata": {},
   "outputs": [],
   "source": [
    "le = preprocessing.LabelEncoder()\n",
    "le.fit(titanic['embarked'])\n",
    "titanic['embarked'] = le.transform(titanic['embarked'])\n",
    "# S is 2, C is 0, Q is 1"
   ]
  },
  {
   "cell_type": "code",
   "execution_count": 47,
   "id": "2a215c27",
   "metadata": {},
   "outputs": [],
   "source": [
    "le = preprocessing.LabelEncoder()\n",
    "le.fit(titanic['who'])\n",
    "titanic['who'] = le.transform(titanic['who'])\n",
    "# man is 1, woman is 2, child = 0 "
   ]
  },
  {
   "cell_type": "code",
   "execution_count": 50,
   "id": "2c899a74",
   "metadata": {},
   "outputs": [],
   "source": [
    "le = preprocessing.LabelEncoder()\n",
    "le.fit(titanic['embark_town'])\n",
    "titanic['embark_town'] = le.transform(titanic['embark_town'])\n",
    "# Cherbourg = 0, Southampton = 2, Queenstown = 1"
   ]
  },
  {
   "cell_type": "code",
   "execution_count": 53,
   "id": "915ce836",
   "metadata": {},
   "outputs": [],
   "source": [
    "le = preprocessing.LabelEncoder()\n",
    "le.fit(titanic['alive'])\n",
    "titanic['alive'] = le.transform(titanic['alive'])\n",
    "# yes = 1, no = 0 "
   ]
  },
  {
   "cell_type": "code",
   "execution_count": 57,
   "id": "e12916a7",
   "metadata": {},
   "outputs": [],
   "source": [
    "le = preprocessing.LabelEncoder()\n",
    "le.fit(titanic['class'])\n",
    "titanic['class'] = le.transform(titanic['class'])\n",
    "# First = 0, Second = 1, Third = 2 "
   ]
  },
  {
   "cell_type": "code",
   "execution_count": 61,
   "id": "b5218ee4",
   "metadata": {},
   "outputs": [],
   "source": [
    "le = preprocessing.LabelEncoder()\n",
    "le.fit(titanic['adult_male'])\n",
    "titanic['adult_male'] = le.transform(titanic['adult_male'])\n",
    "# True = 1, False = 0 "
   ]
  },
  {
   "cell_type": "code",
   "execution_count": 64,
   "id": "ca11c38d",
   "metadata": {},
   "outputs": [],
   "source": [
    "le = preprocessing.LabelEncoder()\n",
    "le.fit(titanic['alone'])\n",
    "titanic['alone'] = le.transform(titanic['alone'])\n",
    "# True = 1, False = 0"
   ]
  },
  {
   "cell_type": "code",
   "execution_count": 66,
   "id": "42b4aa04",
   "metadata": {},
   "outputs": [
    {
     "data": {
      "text/plain": [
       "survived         int64\n",
       "pclass           int64\n",
       "sex              int32\n",
       "age            float64\n",
       "sibsp            int64\n",
       "parch            int64\n",
       "fare           float64\n",
       "embarked         int32\n",
       "class            int32\n",
       "who              int32\n",
       "adult_male       int64\n",
       "embark_town      int32\n",
       "alive            int32\n",
       "alone            int64\n",
       "dtype: object"
      ]
     },
     "execution_count": 66,
     "metadata": {},
     "output_type": "execute_result"
    }
   ],
   "source": [
    "titanic.dtypes"
   ]
  },
  {
   "cell_type": "code",
   "execution_count": 76,
   "id": "5070af91",
   "metadata": {},
   "outputs": [],
   "source": [
    "titanic.drop(['alive'], axis=1, inplace=True)"
   ]
  },
  {
   "cell_type": "code",
   "execution_count": 86,
   "id": "c5d62b7d",
   "metadata": {},
   "outputs": [],
   "source": [
    "y = titanic['survived']\n",
    "X = titanic.drop(['survived'], axis=1)"
   ]
  },
  {
   "cell_type": "code",
   "execution_count": 87,
   "id": "e69da7ef",
   "metadata": {},
   "outputs": [],
   "source": [
    "from sklearn.feature_selection import RFE\n",
    "from sklearn.ensemble import RandomForestClassifier\n",
    "from sklearn.feature_selection import SelectFromModel"
   ]
  },
  {
   "cell_type": "code",
   "execution_count": 88,
   "id": "b5666b49",
   "metadata": {},
   "outputs": [
    {
     "name": "stdout",
     "output_type": "stream",
     "text": [
      "Num Features: 6\n",
      "Selected Features: [ True  True  True False False  True False False  True  True False False]\n",
      "Feature Ranking: [1 1 1 2 4 1 5 3 1 1 7 6]\n"
     ]
    }
   ],
   "source": [
    "rfe_selector = RFE(estimator=RandomForestClassifier())\n",
    "m=rfe_selector.fit(X, y)\n",
    "X.columns[m.get_support()]\n",
    "print(\"Num Features: %s\" % (m.n_features_))\n",
    "print(\"Selected Features: %s\" % (m.support_))\n",
    "print(\"Feature Ranking: %s\" % (m.ranking_))"
   ]
  },
  {
   "cell_type": "code",
   "execution_count": 91,
   "id": "372bfd72",
   "metadata": {},
   "outputs": [
    {
     "data": {
      "text/plain": [
       "Index(['pclass', 'sex', 'age', 'fare', 'who', 'adult_male'], dtype='object')"
      ]
     },
     "execution_count": 91,
     "metadata": {},
     "output_type": "execute_result"
    }
   ],
   "source": [
    "X.loc[:, m.support_].columns"
   ]
  },
  {
   "cell_type": "code",
   "execution_count": 92,
   "id": "60966010",
   "metadata": {},
   "outputs": [],
   "source": [
    "SFM = SelectFromModel(estimator=RandomForestClassifier())\n",
    "s=SFM.fit(X, y)"
   ]
  },
  {
   "cell_type": "code",
   "execution_count": 93,
   "id": "ce4383ce",
   "metadata": {},
   "outputs": [
    {
     "data": {
      "text/plain": [
       "Index(['sex', 'age', 'fare', 'adult_male'], dtype='object')"
      ]
     },
     "execution_count": 93,
     "metadata": {},
     "output_type": "execute_result"
    }
   ],
   "source": [
    "feature_idx = s.get_support()\n",
    "feature_name = X.columns[feature_idx]\n",
    "feature_name "
   ]
  },
  {
   "cell_type": "code",
   "execution_count": 95,
   "id": "d2e44b10",
   "metadata": {},
   "outputs": [],
   "source": [
    "from sklearn.model_selection import train_test_split"
   ]
  },
  {
   "cell_type": "code",
   "execution_count": 97,
   "id": "cac50a27",
   "metadata": {},
   "outputs": [],
   "source": [
    "X_train, X_test, y_train, y_test = train_test_split(\n",
    "    X, y, test_size=0.2, random_state=5)"
   ]
  },
  {
   "cell_type": "code",
   "execution_count": 98,
   "id": "ee5e30fe",
   "metadata": {},
   "outputs": [
    {
     "name": "stdout",
     "output_type": "stream",
     "text": [
      "The accuracy of the Random Forest Classifier is: 83.14606741573034 %\n"
     ]
    }
   ],
   "source": [
    "rfc = RandomForestClassifier()\n",
    "rfc.fit(X_train, y_train)\n",
    "y_pred = rfc.predict(X_test)\n",
    "acc_rfc = rfc.score(X_test, y_test)\n",
    "print('The accuracy of the Random Forest Classifier is:', acc_rfc * 100, '%')"
   ]
  },
  {
   "cell_type": "code",
   "execution_count": null,
   "id": "332ec6d2",
   "metadata": {},
   "outputs": [],
   "source": []
  }
 ],
 "metadata": {
  "kernelspec": {
   "display_name": "Python 3 (ipykernel)",
   "language": "python",
   "name": "python3"
  },
  "language_info": {
   "codemirror_mode": {
    "name": "ipython",
    "version": 3
   },
   "file_extension": ".py",
   "mimetype": "text/x-python",
   "name": "python",
   "nbconvert_exporter": "python",
   "pygments_lexer": "ipython3",
   "version": "3.9.7"
  }
 },
 "nbformat": 4,
 "nbformat_minor": 5
}
