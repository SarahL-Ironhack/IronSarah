{
 "cells": [
  {
   "cell_type": "code",
   "execution_count": 1,
   "id": "da2f615d",
   "metadata": {},
   "outputs": [],
   "source": [
    "std = 10 #cm\n",
    "sample = 100 #ppl\n",
    "sample_mean = 170 #cm \n"
   ]
  },
  {
   "cell_type": "code",
   "execution_count": null,
   "id": "08e64bf4",
   "metadata": {},
   "outputs": [],
   "source": [
    "#CONFIDENCE INTERVAL CALCULATION\n",
    "# CI = sample_mean +/- z* (s/rac(n))\n",
    "# with the data we already have CI = 170 +/- z (10/10) : missing z to do the calculation \n",
    "#z \n",
    "# we chose here to take 95%\n",
    "# alpha = 1- CL = 0.05 \n",
    "# z = alpha / 2 = 0.025 \n",
    "# meaning we are working with all values above the 2.5th percentile and below the 97.5th percentile (1-0.025 = 0.975)\n",
    "#according to z-score table , with these values : Z = 1.9+0.06=1.96\n",
    "\n",
    "CI=170 +-1.96*10/10= 170+-1.96=[168.04 ; 171.96]\n"
   ]
  }
 ],
 "metadata": {
  "kernelspec": {
   "display_name": "Python 3 (ipykernel)",
   "language": "python",
   "name": "python3"
  },
  "language_info": {
   "codemirror_mode": {
    "name": "ipython",
    "version": 3
   },
   "file_extension": ".py",
   "mimetype": "text/x-python",
   "name": "python",
   "nbconvert_exporter": "python",
   "pygments_lexer": "ipython3",
   "version": "3.9.7"
  }
 },
 "nbformat": 4,
 "nbformat_minor": 5
}
