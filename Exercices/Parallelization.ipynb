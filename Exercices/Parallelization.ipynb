{
 "cells": [
  {
   "cell_type": "code",
   "execution_count": null,
   "id": "cc318458",
   "metadata": {},
   "outputs": [],
   "source": [
    "import multiprocessing\n"
   ]
  },
  {
   "cell_type": "code",
   "execution_count": null,
   "id": "396bd7df",
   "metadata": {},
   "outputs": [],
   "source": [
    "def square(x):  \n",
    "    return x*x\n",
    " \n",
    "data = [x for x in range(100)]"
   ]
  },
  {
   "cell_type": "code",
   "execution_count": null,
   "id": "2dd1e8c9",
   "metadata": {},
   "outputs": [],
   "source": [
    "%%time\n",
    "seq = [square(x) for x in data]\n",
    "print(seq)"
   ]
  },
  {
   "cell_type": "code",
   "execution_count": null,
   "id": "cd446907",
   "metadata": {},
   "outputs": [],
   "source": [
    "%%time\n",
    "pool = multiprocessing.Pool()\n",
    "result = pool.map(square, data)\n",
    "pool.terminate()\n",
    "pool.join()\n",
    "print(result)"
   ]
  },
  {
   "cell_type": "code",
   "execution_count": null,
   "id": "165134e5",
   "metadata": {},
   "outputs": [],
   "source": [
    "import os"
   ]
  },
  {
   "cell_type": "code",
   "execution_count": null,
   "id": "7e62ecce",
   "metadata": {},
   "outputs": [],
   "source": [
    "dirs = os.listdir(r'C:\\Users\\Sarah\\Downloads\\directories\\directories')\n",
    "dirs.remove('.DS_Store')"
   ]
  },
  {
   "cell_type": "code",
   "execution_count": null,
   "id": "4c8d0689",
   "metadata": {},
   "outputs": [],
   "source": [
    "def find_markdowns(dir):\n",
    "    files = os.listdir(dir)\n",
    "    markdowns = [dir +'/' + file for file in files if file.endswith('.md')]\n",
    "    return markdowns"
   ]
  },
  {
   "cell_type": "code",
   "execution_count": null,
   "id": "6074bb8f",
   "metadata": {},
   "outputs": [],
   "source": [
    "%%time\n",
    "result = [find_markdowns(dir) for dir in dirs]\n",
    "flatten = [file for sublist in result for file in sublist]"
   ]
  },
  {
   "cell_type": "code",
   "execution_count": null,
   "id": "da50d408",
   "metadata": {},
   "outputs": [],
   "source": [
    "%%time\n",
    "pool = multiprocessing.Pool()\n",
    "result = pool.map(find_markdowns, dirs)\n",
    "pool.terminate()\n",
    "pool.join()\n",
    "flatten = [file for sublist in result for file in sublist]"
   ]
  },
  {
   "cell_type": "code",
   "execution_count": null,
   "id": "5f148e7c",
   "metadata": {},
   "outputs": [],
   "source": []
  }
 ],
 "metadata": {
  "kernelspec": {
   "display_name": "Python 3 (ipykernel)",
   "language": "python",
   "name": "python3"
  },
  "language_info": {
   "codemirror_mode": {
    "name": "ipython",
    "version": 3
   },
   "file_extension": ".py",
   "mimetype": "text/x-python",
   "name": "python",
   "nbconvert_exporter": "python",
   "pygments_lexer": "ipython3",
   "version": "3.9.7"
  }
 },
 "nbformat": 4,
 "nbformat_minor": 5
}
