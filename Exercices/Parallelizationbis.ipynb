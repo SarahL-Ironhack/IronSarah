{
 "cells": [
  {
   "cell_type": "code",
   "execution_count": 1,
   "id": "bbcaae5f",
   "metadata": {},
   "outputs": [],
   "source": [
    "import multiprocessing\n"
   ]
  },
  {
   "cell_type": "code",
   "execution_count": 2,
   "id": "ce55c789",
   "metadata": {},
   "outputs": [],
   "source": [
    "def square(x):  \n",
    "    return x*x\n",
    " \n",
    "data = [x for x in range(100)]"
   ]
  },
  {
   "cell_type": "code",
   "execution_count": 3,
   "id": "66664d2e",
   "metadata": {},
   "outputs": [
    {
     "name": "stdout",
     "output_type": "stream",
     "text": [
      "[0, 1, 4, 9, 16, 25, 36, 49, 64, 81, 100, 121, 144, 169, 196, 225, 256, 289, 324, 361, 400, 441, 484, 529, 576, 625, 676, 729, 784, 841, 900, 961, 1024, 1089, 1156, 1225, 1296, 1369, 1444, 1521, 1600, 1681, 1764, 1849, 1936, 2025, 2116, 2209, 2304, 2401, 2500, 2601, 2704, 2809, 2916, 3025, 3136, 3249, 3364, 3481, 3600, 3721, 3844, 3969, 4096, 4225, 4356, 4489, 4624, 4761, 4900, 5041, 5184, 5329, 5476, 5625, 5776, 5929, 6084, 6241, 6400, 6561, 6724, 6889, 7056, 7225, 7396, 7569, 7744, 7921, 8100, 8281, 8464, 8649, 8836, 9025, 9216, 9409, 9604, 9801]\n",
      "Wall time: 0 ns\n"
     ]
    }
   ],
   "source": [
    "%%time\n",
    "seq = [square(x) for x in data]\n",
    "print(seq)"
   ]
  },
  {
   "cell_type": "code",
   "execution_count": 4,
   "id": "f9783c69",
   "metadata": {},
   "outputs": [
    {
     "name": "stdout",
     "output_type": "stream",
     "text": [
      "Wall time: 32.1 ms\n"
     ]
    }
   ],
   "source": [
    "%%time\n",
    "pool = multiprocessing.Pool()\n"
   ]
  },
  {
   "cell_type": "code",
   "execution_count": null,
   "id": "68645f6b",
   "metadata": {},
   "outputs": [],
   "source": [
    "if __name__ == '__main__':\n",
    "    result = pool.map(square, data)\n"
   ]
  },
  {
   "cell_type": "code",
   "execution_count": null,
   "id": "19a24dec",
   "metadata": {},
   "outputs": [],
   "source": [
    "pool.terminate()\n"
   ]
  },
  {
   "cell_type": "code",
   "execution_count": null,
   "id": "7e12cd19",
   "metadata": {},
   "outputs": [],
   "source": [
    "pool.join()\n"
   ]
  },
  {
   "cell_type": "code",
   "execution_count": null,
   "id": "7baf9737",
   "metadata": {},
   "outputs": [],
   "source": [
    "print(result)"
   ]
  },
  {
   "cell_type": "code",
   "execution_count": null,
   "id": "8dcc92a7",
   "metadata": {},
   "outputs": [],
   "source": [
    "if __name__ ==  '__main__': \n",
    "    with Pool(4) as pool:\n",
    "        pool = multiprocessing.Pool()\n",
    "        results = pool.map(square, data)\n",
    "        pool.close()\n",
    "        pool.join()\n",
    "        print(results)"
   ]
  },
  {
   "cell_type": "code",
   "execution_count": null,
   "id": "79afadbc",
   "metadata": {},
   "outputs": [],
   "source": [
    "from multiprocessing.pool import ThreadPool as Pool\n",
    "from os import getpid\n",
    "import time\n",
    "import pandas as pd\n",
    "\n",
    "\n",
    "pyfiles = [10,2,3,5]    \n",
    "\n",
    "def scraper(x):\n",
    "    results_df = pd.DataFrame({})\n",
    "    print('Program started:',x,\"I'm process\", getpid())\n",
    "    time.sleep(x)\n",
    "    print('Program completed:',x)\n",
    "    results_df.to_csv('multi{}.csv'.format(x))\n",
    "\n",
    "\n",
    "if __name__ == '__main__':\n",
    "    with Pool(4) as pool:\n",
    "        start=time.time()\n",
    "        result = pool.map(scraper, pyfiles)\n",
    "        pool.terminate()\n",
    "        pool.join()\n",
    "        print(\"Time Taken: \",str(time.time()-start))"
   ]
  },
  {
   "cell_type": "code",
   "execution_count": null,
   "id": "c10db150",
   "metadata": {},
   "outputs": [],
   "source": [
    "from multiprocessing import Pool\n",
    "\n",
    "def f(x):\n",
    "    return x*x\n",
    "\n",
    "if __name__ == '__main__':\n",
    "    with Pool(5) as p:\n",
    "        print(p.map(f, [1, 2, 3]))"
   ]
  },
  {
   "cell_type": "code",
   "execution_count": null,
   "id": "182cb62c",
   "metadata": {},
   "outputs": [],
   "source": []
  }
 ],
 "metadata": {
  "kernelspec": {
   "display_name": "Python 3 (ipykernel)",
   "language": "python",
   "name": "python3"
  },
  "language_info": {
   "codemirror_mode": {
    "name": "ipython",
    "version": 3
   },
   "file_extension": ".py",
   "mimetype": "text/x-python",
   "name": "python",
   "nbconvert_exporter": "python",
   "pygments_lexer": "ipython3",
   "version": "3.9.7"
  }
 },
 "nbformat": 4,
 "nbformat_minor": 5
}
