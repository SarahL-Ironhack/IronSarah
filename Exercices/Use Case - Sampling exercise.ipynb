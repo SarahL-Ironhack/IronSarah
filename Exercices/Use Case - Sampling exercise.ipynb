{
 "cells": [
  {
   "cell_type": "raw",
   "id": "f0027c79",
   "metadata": {},
   "source": [
    "609 observations - create a sample of 69 observations\n",
    "\n",
    "- Do we have any stratums ? -> yes Male/Female\n",
    "- How many females and males do we have ? 349 // 341 \n",
    "- Any ideas about sampling type ?\n",
    "- How many females and males should be in the sample ? "
   ]
  },
  {
   "cell_type": "code",
   "execution_count": 189,
   "id": "6ebdbaa7",
   "metadata": {},
   "outputs": [],
   "source": [
    "import pandas as pd\n",
    "import numpy as np"
   ]
  },
  {
   "cell_type": "code",
   "execution_count": 18,
   "id": "374c2de0",
   "metadata": {},
   "outputs": [],
   "source": [
    "data = pd.read_excel(r'C:\\Users\\Sarah\\Downloads\\Module2_Use_Case_2.xlsx')"
   ]
  },
  {
   "cell_type": "code",
   "execution_count": 19,
   "id": "7d0910c0",
   "metadata": {},
   "outputs": [
    {
     "data": {
      "text/plain": [
       "Male      349\n",
       "Female    341\n",
       "Name: Gender_cat, dtype: int64"
      ]
     },
     "execution_count": 19,
     "metadata": {},
     "output_type": "execute_result"
    }
   ],
   "source": [
    "data['Gender_cat'].value_counts()"
   ]
  },
  {
   "cell_type": "code",
   "execution_count": 7,
   "id": "0d2f46c9",
   "metadata": {},
   "outputs": [],
   "source": [
    "# need to select 34 females and 34 males from the data set (10% of each)"
   ]
  },
  {
   "cell_type": "code",
   "execution_count": 8,
   "id": "60a7c23c",
   "metadata": {},
   "outputs": [
    {
     "data": {
      "text/html": [
       "<div>\n",
       "<style scoped>\n",
       "    .dataframe tbody tr th:only-of-type {\n",
       "        vertical-align: middle;\n",
       "    }\n",
       "\n",
       "    .dataframe tbody tr th {\n",
       "        vertical-align: top;\n",
       "    }\n",
       "\n",
       "    .dataframe thead th {\n",
       "        text-align: right;\n",
       "    }\n",
       "</style>\n",
       "<table border=\"1\" class=\"dataframe\">\n",
       "  <thead>\n",
       "    <tr style=\"text-align: right;\">\n",
       "      <th></th>\n",
       "      <th>ID</th>\n",
       "      <th>Salary</th>\n",
       "      <th>Gender</th>\n",
       "    </tr>\n",
       "  </thead>\n",
       "  <tbody>\n",
       "    <tr>\n",
       "      <th>count</th>\n",
       "      <td>690.000000</td>\n",
       "      <td>690.000000</td>\n",
       "      <td>690.000000</td>\n",
       "    </tr>\n",
       "    <tr>\n",
       "      <th>mean</th>\n",
       "      <td>345.500000</td>\n",
       "      <td>6114.721739</td>\n",
       "      <td>1.517391</td>\n",
       "    </tr>\n",
       "    <tr>\n",
       "      <th>std</th>\n",
       "      <td>199.330128</td>\n",
       "      <td>2319.471502</td>\n",
       "      <td>0.500060</td>\n",
       "    </tr>\n",
       "    <tr>\n",
       "      <th>min</th>\n",
       "      <td>1.000000</td>\n",
       "      <td>2010.000000</td>\n",
       "      <td>1.000000</td>\n",
       "    </tr>\n",
       "    <tr>\n",
       "      <th>25%</th>\n",
       "      <td>173.250000</td>\n",
       "      <td>4107.500000</td>\n",
       "      <td>1.000000</td>\n",
       "    </tr>\n",
       "    <tr>\n",
       "      <th>50%</th>\n",
       "      <td>345.500000</td>\n",
       "      <td>6238.500000</td>\n",
       "      <td>2.000000</td>\n",
       "    </tr>\n",
       "    <tr>\n",
       "      <th>75%</th>\n",
       "      <td>517.750000</td>\n",
       "      <td>8166.000000</td>\n",
       "      <td>2.000000</td>\n",
       "    </tr>\n",
       "    <tr>\n",
       "      <th>max</th>\n",
       "      <td>690.000000</td>\n",
       "      <td>9995.000000</td>\n",
       "      <td>2.000000</td>\n",
       "    </tr>\n",
       "  </tbody>\n",
       "</table>\n",
       "</div>"
      ],
      "text/plain": [
       "               ID       Salary      Gender\n",
       "count  690.000000   690.000000  690.000000\n",
       "mean   345.500000  6114.721739    1.517391\n",
       "std    199.330128  2319.471502    0.500060\n",
       "min      1.000000  2010.000000    1.000000\n",
       "25%    173.250000  4107.500000    1.000000\n",
       "50%    345.500000  6238.500000    2.000000\n",
       "75%    517.750000  8166.000000    2.000000\n",
       "max    690.000000  9995.000000    2.000000"
      ]
     },
     "execution_count": 8,
     "metadata": {},
     "output_type": "execute_result"
    }
   ],
   "source": [
    "data.describe()"
   ]
  },
  {
   "cell_type": "code",
   "execution_count": 28,
   "id": "9f4966d1",
   "metadata": {},
   "outputs": [],
   "source": [
    "# Strat dataframes\n",
    "data_strat_male = data[[\"ID\", \"Salary\"]][data[\"Gender_cat\"] == \"Male\"] # create new DF with columns ID and Salary, and with Gender_cat = Male\n",
    "data_strat_female = data[[\"ID\", \"Salary\"]][data[\"Gender_cat\"] == \"Female\"] # create new DF with columns ID and Salary, and with Gender_cat = Male\n",
    "\n",
    "\n",
    "# Sampling\n",
    "data_sample_female = data_strat_female.sample(n=34)\n",
    "data_sample_male = data_strat_male.sample(n=35)"
   ]
  },
  {
   "cell_type": "code",
   "execution_count": 32,
   "id": "74ad997d",
   "metadata": {},
   "outputs": [],
   "source": [
    "data_sample_female.to_excel('data_female.xlsx')"
   ]
  },
  {
   "cell_type": "code",
   "execution_count": 33,
   "id": "8f6c9602",
   "metadata": {},
   "outputs": [],
   "source": [
    "data_sample_male.to_excel('data_male.xlsx')"
   ]
  },
  {
   "cell_type": "code",
   "execution_count": 35,
   "id": "38c1102d",
   "metadata": {},
   "outputs": [],
   "source": [
    "sample = pd.concat((data_sample_female, data_sample_male), axis=0)\n",
    "sample.to_excel('sample.xlsx')"
   ]
  },
  {
   "cell_type": "code",
   "execution_count": 36,
   "id": "6f606d23",
   "metadata": {},
   "outputs": [
    {
     "data": {
      "text/html": [
       "<div>\n",
       "<style scoped>\n",
       "    .dataframe tbody tr th:only-of-type {\n",
       "        vertical-align: middle;\n",
       "    }\n",
       "\n",
       "    .dataframe tbody tr th {\n",
       "        vertical-align: top;\n",
       "    }\n",
       "\n",
       "    .dataframe thead th {\n",
       "        text-align: right;\n",
       "    }\n",
       "</style>\n",
       "<table border=\"1\" class=\"dataframe\">\n",
       "  <thead>\n",
       "    <tr style=\"text-align: right;\">\n",
       "      <th></th>\n",
       "      <th>ID</th>\n",
       "      <th>Salary</th>\n",
       "    </tr>\n",
       "  </thead>\n",
       "  <tbody>\n",
       "    <tr>\n",
       "      <th>count</th>\n",
       "      <td>69.000000</td>\n",
       "      <td>69.000000</td>\n",
       "    </tr>\n",
       "    <tr>\n",
       "      <th>mean</th>\n",
       "      <td>323.318841</td>\n",
       "      <td>6137.376812</td>\n",
       "    </tr>\n",
       "    <tr>\n",
       "      <th>std</th>\n",
       "      <td>194.930417</td>\n",
       "      <td>2346.810477</td>\n",
       "    </tr>\n",
       "    <tr>\n",
       "      <th>min</th>\n",
       "      <td>1.000000</td>\n",
       "      <td>2107.000000</td>\n",
       "    </tr>\n",
       "    <tr>\n",
       "      <th>25%</th>\n",
       "      <td>181.000000</td>\n",
       "      <td>3765.000000</td>\n",
       "    </tr>\n",
       "    <tr>\n",
       "      <th>50%</th>\n",
       "      <td>321.000000</td>\n",
       "      <td>6637.000000</td>\n",
       "    </tr>\n",
       "    <tr>\n",
       "      <th>75%</th>\n",
       "      <td>481.000000</td>\n",
       "      <td>8212.000000</td>\n",
       "    </tr>\n",
       "    <tr>\n",
       "      <th>max</th>\n",
       "      <td>675.000000</td>\n",
       "      <td>9893.000000</td>\n",
       "    </tr>\n",
       "  </tbody>\n",
       "</table>\n",
       "</div>"
      ],
      "text/plain": [
       "               ID       Salary\n",
       "count   69.000000    69.000000\n",
       "mean   323.318841  6137.376812\n",
       "std    194.930417  2346.810477\n",
       "min      1.000000  2107.000000\n",
       "25%    181.000000  3765.000000\n",
       "50%    321.000000  6637.000000\n",
       "75%    481.000000  8212.000000\n",
       "max    675.000000  9893.000000"
      ]
     },
     "execution_count": 36,
     "metadata": {},
     "output_type": "execute_result"
    }
   ],
   "source": [
    "sample.describe()\n",
    "#here to find mean"
   ]
  },
  {
   "cell_type": "code",
   "execution_count": 37,
   "id": "4f6aff04",
   "metadata": {},
   "outputs": [
    {
     "data": {
      "text/plain": [
       "ID         321.0\n",
       "Salary    6637.0\n",
       "dtype: float64"
      ]
     },
     "execution_count": 37,
     "metadata": {},
     "output_type": "execute_result"
    }
   ],
   "source": [
    "sample.median()"
   ]
  },
  {
   "cell_type": "code",
   "execution_count": 42,
   "id": "0bcfd1c8",
   "metadata": {},
   "outputs": [
    {
     "data": {
      "text/html": [
       "<div>\n",
       "<style scoped>\n",
       "    .dataframe tbody tr th:only-of-type {\n",
       "        vertical-align: middle;\n",
       "    }\n",
       "\n",
       "    .dataframe tbody tr th {\n",
       "        vertical-align: top;\n",
       "    }\n",
       "\n",
       "    .dataframe thead th {\n",
       "        text-align: right;\n",
       "    }\n",
       "</style>\n",
       "<table border=\"1\" class=\"dataframe\">\n",
       "  <thead>\n",
       "    <tr style=\"text-align: right;\">\n",
       "      <th></th>\n",
       "      <th>ID</th>\n",
       "      <th>Salary</th>\n",
       "    </tr>\n",
       "  </thead>\n",
       "  <tbody>\n",
       "    <tr>\n",
       "      <th>0</th>\n",
       "      <td>1.0</td>\n",
       "      <td>2107.0</td>\n",
       "    </tr>\n",
       "    <tr>\n",
       "      <th>1</th>\n",
       "      <td>15.0</td>\n",
       "      <td>2140.0</td>\n",
       "    </tr>\n",
       "    <tr>\n",
       "      <th>2</th>\n",
       "      <td>22.0</td>\n",
       "      <td>2301.0</td>\n",
       "    </tr>\n",
       "    <tr>\n",
       "      <th>3</th>\n",
       "      <td>29.0</td>\n",
       "      <td>2490.0</td>\n",
       "    </tr>\n",
       "    <tr>\n",
       "      <th>4</th>\n",
       "      <td>36.0</td>\n",
       "      <td>2548.0</td>\n",
       "    </tr>\n",
       "    <tr>\n",
       "      <th>...</th>\n",
       "      <td>...</td>\n",
       "      <td>...</td>\n",
       "    </tr>\n",
       "    <tr>\n",
       "      <th>64</th>\n",
       "      <td>636.0</td>\n",
       "      <td>9376.0</td>\n",
       "    </tr>\n",
       "    <tr>\n",
       "      <th>65</th>\n",
       "      <td>640.0</td>\n",
       "      <td>9392.0</td>\n",
       "    </tr>\n",
       "    <tr>\n",
       "      <th>66</th>\n",
       "      <td>657.0</td>\n",
       "      <td>9422.0</td>\n",
       "    </tr>\n",
       "    <tr>\n",
       "      <th>67</th>\n",
       "      <td>666.0</td>\n",
       "      <td>9425.0</td>\n",
       "    </tr>\n",
       "    <tr>\n",
       "      <th>68</th>\n",
       "      <td>675.0</td>\n",
       "      <td>9893.0</td>\n",
       "    </tr>\n",
       "  </tbody>\n",
       "</table>\n",
       "<p>69 rows × 2 columns</p>\n",
       "</div>"
      ],
      "text/plain": [
       "       ID  Salary\n",
       "0     1.0  2107.0\n",
       "1    15.0  2140.0\n",
       "2    22.0  2301.0\n",
       "3    29.0  2490.0\n",
       "4    36.0  2548.0\n",
       "..    ...     ...\n",
       "64  636.0  9376.0\n",
       "65  640.0  9392.0\n",
       "66  657.0  9422.0\n",
       "67  666.0  9425.0\n",
       "68  675.0  9893.0\n",
       "\n",
       "[69 rows x 2 columns]"
      ]
     },
     "execution_count": 42,
     "metadata": {},
     "output_type": "execute_result"
    }
   ],
   "source": [
    "sample.mode()"
   ]
  },
  {
   "cell_type": "code",
   "execution_count": 48,
   "id": "af215f54",
   "metadata": {},
   "outputs": [],
   "source": [
    "import matplotlib.pyplot as plt"
   ]
  },
  {
   "cell_type": "code",
   "execution_count": 49,
   "id": "13165a15",
   "metadata": {},
   "outputs": [
    {
     "data": {
      "text/plain": [
       "<AxesSubplot:ylabel='Frequency'>"
      ]
     },
     "execution_count": 49,
     "metadata": {},
     "output_type": "execute_result"
    },
    {
     "data": {
      "image/png": "[encoded data removed]",
      "text/plain": [
       "<Figure size 432x288 with 1 Axes>"
      ]
     },
     "metadata": {
      "needs_background": "light"
     },
     "output_type": "display_data"
    }
   ],
   "source": [
    "sample['Salary'].plot.hist() #show sample as Histogram"
   ]
  },
  {
   "cell_type": "code",
   "execution_count": 52,
   "id": "bf1a76c2",
   "metadata": {},
   "outputs": [
    {
     "data": {
      "text/plain": [
       "(array([20., 10., 20., 19.]),\n",
       " array([2107. , 4053.5, 6000. , 7946.5, 9893. ]),\n",
       " <BarContainer object of 4 artists>)"
      ]
     },
     "execution_count": 52,
     "metadata": {},
     "output_type": "execute_result"
    },
    {
     "data": {
      "image/png": "[encoded data removed]",
      "text/plain": [
       "<Figure size 432x288 with 1 Axes>"
      ]
     },
     "metadata": {
      "needs_background": "light"
     },
     "output_type": "display_data"
    }
   ],
   "source": [
    "plt.hist(sample['Salary'], bins = 4) \n"
   ]
  },
  {
   "cell_type": "code",
   "execution_count": 169,
   "id": "5356442e",
   "metadata": {},
   "outputs": [],
   "source": [
    "sample['salary_bins'] = pd.cut(x=sample['Salary'], bins=[2000, 4000, 6000, 8000, 10000])\n",
    "#create new columns salary_bins where the bins are determined\n"
   ]
  },
  {
   "cell_type": "code",
   "execution_count": 170,
   "id": "3c416505",
   "metadata": {},
   "outputs": [],
   "source": [
    "x = sample.groupby(['salary_bins']).agg('count')\n"
   ]
  },
  {
   "cell_type": "code",
   "execution_count": 171,
   "id": "453c6562",
   "metadata": {},
   "outputs": [
    {
     "data": {
      "text/html": [
       "<div>\n",
       "<style scoped>\n",
       "    .dataframe tbody tr th:only-of-type {\n",
       "        vertical-align: middle;\n",
       "    }\n",
       "\n",
       "    .dataframe tbody tr th {\n",
       "        vertical-align: top;\n",
       "    }\n",
       "\n",
       "    .dataframe thead th {\n",
       "        text-align: right;\n",
       "    }\n",
       "</style>\n",
       "<table border=\"1\" class=\"dataframe\">\n",
       "  <thead>\n",
       "    <tr style=\"text-align: right;\">\n",
       "      <th></th>\n",
       "      <th>ID</th>\n",
       "      <th>Salary</th>\n",
       "    </tr>\n",
       "    <tr>\n",
       "      <th>salary_bins</th>\n",
       "      <th></th>\n",
       "      <th></th>\n",
       "    </tr>\n",
       "  </thead>\n",
       "  <tbody>\n",
       "    <tr>\n",
       "      <th>(2000, 4000]</th>\n",
       "      <td>18</td>\n",
       "      <td>18</td>\n",
       "    </tr>\n",
       "    <tr>\n",
       "      <th>(4000, 6000]</th>\n",
       "      <td>12</td>\n",
       "      <td>12</td>\n",
       "    </tr>\n",
       "    <tr>\n",
       "      <th>(6000, 8000]</th>\n",
       "      <td>20</td>\n",
       "      <td>20</td>\n",
       "    </tr>\n",
       "    <tr>\n",
       "      <th>(8000, 10000]</th>\n",
       "      <td>19</td>\n",
       "      <td>19</td>\n",
       "    </tr>\n",
       "  </tbody>\n",
       "</table>\n",
       "</div>"
      ],
      "text/plain": [
       "               ID  Salary\n",
       "salary_bins              \n",
       "(2000, 4000]   18      18\n",
       "(4000, 6000]   12      12\n",
       "(6000, 8000]   20      20\n",
       "(8000, 10000]  19      19"
      ]
     },
     "execution_count": 171,
     "metadata": {},
     "output_type": "execute_result"
    }
   ],
   "source": [
    "x"
   ]
  },
  {
   "cell_type": "code",
   "execution_count": 172,
   "id": "e46bf3ad",
   "metadata": {},
   "outputs": [],
   "source": [
    "x['Midpoint']= ''"
   ]
  },
  {
   "cell_type": "code",
   "execution_count": 174,
   "id": "b9f6c155",
   "metadata": {},
   "outputs": [],
   "source": [
    "for i in range(len(x.index)):\n",
    "    if x.iloc[i, 2] == '':\n",
    "        x.iloc[i,2] = x.index[i].mid"
   ]
  },
  {
   "cell_type": "code",
   "execution_count": 184,
   "id": "0fa435fe",
   "metadata": {},
   "outputs": [
    {
     "data": {
      "text/html": [
       "<div>\n",
       "<style scoped>\n",
       "    .dataframe tbody tr th:only-of-type {\n",
       "        vertical-align: middle;\n",
       "    }\n",
       "\n",
       "    .dataframe tbody tr th {\n",
       "        vertical-align: top;\n",
       "    }\n",
       "\n",
       "    .dataframe thead th {\n",
       "        text-align: right;\n",
       "    }\n",
       "</style>\n",
       "<table border=\"1\" class=\"dataframe\">\n",
       "  <thead>\n",
       "    <tr style=\"text-align: right;\">\n",
       "      <th></th>\n",
       "      <th>ID</th>\n",
       "      <th>Salary</th>\n",
       "      <th>Midpoint</th>\n",
       "      <th>Midpoint_frequency</th>\n",
       "    </tr>\n",
       "    <tr>\n",
       "      <th>salary_bins</th>\n",
       "      <th></th>\n",
       "      <th></th>\n",
       "      <th></th>\n",
       "      <th></th>\n",
       "    </tr>\n",
       "  </thead>\n",
       "  <tbody>\n",
       "    <tr>\n",
       "      <th>(2000, 4000]</th>\n",
       "      <td>18</td>\n",
       "      <td>18</td>\n",
       "      <td>3000.0</td>\n",
       "      <td>54000.0</td>\n",
       "    </tr>\n",
       "    <tr>\n",
       "      <th>(4000, 6000]</th>\n",
       "      <td>12</td>\n",
       "      <td>12</td>\n",
       "      <td>5000.0</td>\n",
       "      <td>60000.0</td>\n",
       "    </tr>\n",
       "    <tr>\n",
       "      <th>(6000, 8000]</th>\n",
       "      <td>20</td>\n",
       "      <td>20</td>\n",
       "      <td>7000.0</td>\n",
       "      <td>140000.0</td>\n",
       "    </tr>\n",
       "    <tr>\n",
       "      <th>(8000, 10000]</th>\n",
       "      <td>19</td>\n",
       "      <td>19</td>\n",
       "      <td>9000.0</td>\n",
       "      <td>171000.0</td>\n",
       "    </tr>\n",
       "  </tbody>\n",
       "</table>\n",
       "</div>"
      ],
      "text/plain": [
       "               ID  Salary Midpoint Midpoint_frequency\n",
       "salary_bins                                          \n",
       "(2000, 4000]   18      18   3000.0            54000.0\n",
       "(4000, 6000]   12      12   5000.0            60000.0\n",
       "(6000, 8000]   20      20   7000.0           140000.0\n",
       "(8000, 10000]  19      19   9000.0           171000.0"
      ]
     },
     "execution_count": 184,
     "metadata": {},
     "output_type": "execute_result"
    }
   ],
   "source": [
    "x"
   ]
  },
  {
   "cell_type": "code",
   "execution_count": 178,
   "id": "b10bb7bc",
   "metadata": {},
   "outputs": [],
   "source": [
    "x['Midpoint_frequency']=x['Salary']*x['Midpoint']"
   ]
  },
  {
   "cell_type": "code",
   "execution_count": 182,
   "id": "8d6baf9b",
   "metadata": {},
   "outputs": [
    {
     "data": {
      "text/plain": [
       "69"
      ]
     },
     "execution_count": 182,
     "metadata": {},
     "output_type": "execute_result"
    }
   ],
   "source": [
    "total_obs = x['Salary'].sum()\n",
    "total_obs"
   ]
  },
  {
   "cell_type": "code",
   "execution_count": 186,
   "id": "290edbbd",
   "metadata": {},
   "outputs": [
    {
     "data": {
      "text/plain": [
       "425000.0"
      ]
     },
     "execution_count": 186,
     "metadata": {},
     "output_type": "execute_result"
    }
   ],
   "source": [
    "total_to_div=x['Midpoint_frequency'].sum()\n",
    "total_to_div"
   ]
  },
  {
   "cell_type": "code",
   "execution_count": 188,
   "id": "fe54bc67",
   "metadata": {},
   "outputs": [
    {
     "data": {
      "text/plain": [
       "6159.420289855072"
      ]
     },
     "execution_count": 188,
     "metadata": {},
     "output_type": "execute_result"
    }
   ],
   "source": [
    "mean = total_to_div/total_obs\n",
    "mean"
   ]
  },
  {
   "cell_type": "code",
   "execution_count": 194,
   "id": "9ab7a307",
   "metadata": {},
   "outputs": [
    {
     "data": {
      "text/html": [
       "<div>\n",
       "<style scoped>\n",
       "    .dataframe tbody tr th:only-of-type {\n",
       "        vertical-align: middle;\n",
       "    }\n",
       "\n",
       "    .dataframe tbody tr th {\n",
       "        vertical-align: top;\n",
       "    }\n",
       "\n",
       "    .dataframe thead th {\n",
       "        text-align: right;\n",
       "    }\n",
       "</style>\n",
       "<table border=\"1\" class=\"dataframe\">\n",
       "  <thead>\n",
       "    <tr style=\"text-align: right;\">\n",
       "      <th></th>\n",
       "      <th>ID</th>\n",
       "      <th>Salary</th>\n",
       "      <th>Midpoint</th>\n",
       "      <th>Midpoint_frequency</th>\n",
       "      <th>cum_freq</th>\n",
       "    </tr>\n",
       "    <tr>\n",
       "      <th>salary_bins</th>\n",
       "      <th></th>\n",
       "      <th></th>\n",
       "      <th></th>\n",
       "      <th></th>\n",
       "      <th></th>\n",
       "    </tr>\n",
       "  </thead>\n",
       "  <tbody>\n",
       "    <tr>\n",
       "      <th>(2000, 4000]</th>\n",
       "      <td>18</td>\n",
       "      <td>18</td>\n",
       "      <td>3000.0</td>\n",
       "      <td>54000.0</td>\n",
       "      <td>18</td>\n",
       "    </tr>\n",
       "    <tr>\n",
       "      <th>(4000, 6000]</th>\n",
       "      <td>12</td>\n",
       "      <td>12</td>\n",
       "      <td>5000.0</td>\n",
       "      <td>60000.0</td>\n",
       "      <td>30</td>\n",
       "    </tr>\n",
       "    <tr>\n",
       "      <th>(6000, 8000]</th>\n",
       "      <td>20</td>\n",
       "      <td>20</td>\n",
       "      <td>7000.0</td>\n",
       "      <td>140000.0</td>\n",
       "      <td>50</td>\n",
       "    </tr>\n",
       "    <tr>\n",
       "      <th>(8000, 10000]</th>\n",
       "      <td>19</td>\n",
       "      <td>19</td>\n",
       "      <td>9000.0</td>\n",
       "      <td>171000.0</td>\n",
       "      <td>69</td>\n",
       "    </tr>\n",
       "  </tbody>\n",
       "</table>\n",
       "</div>"
      ],
      "text/plain": [
       "               ID  Salary Midpoint Midpoint_frequency  cum_freq\n",
       "salary_bins                                                    \n",
       "(2000, 4000]   18      18   3000.0            54000.0        18\n",
       "(4000, 6000]   12      12   5000.0            60000.0        30\n",
       "(6000, 8000]   20      20   7000.0           140000.0        50\n",
       "(8000, 10000]  19      19   9000.0           171000.0        69"
      ]
     },
     "execution_count": 194,
     "metadata": {},
     "output_type": "execute_result"
    }
   ],
   "source": [
    "x['cum_freq']= np.cumsum(x['Salary'])\n",
    "x"
   ]
  },
  {
   "cell_type": "code",
   "execution_count": 195,
   "id": "537e7334",
   "metadata": {},
   "outputs": [
    {
     "data": {
      "text/plain": [
       "34.5"
      ]
     },
     "execution_count": 195,
     "metadata": {},
     "output_type": "execute_result"
    }
   ],
   "source": [
    "#CALCULATING MEDIAN OF CLASS\n",
    "step1 = total_obs/2\n",
    "step1 #N/2"
   ]
  },
  {
   "cell_type": "code",
   "execution_count": 198,
   "id": "998c0b22",
   "metadata": {},
   "outputs": [
    {
     "data": {
      "text/plain": [
       "6450.0"
      ]
     },
     "execution_count": 198,
     "metadata": {},
     "output_type": "execute_result"
    }
   ],
   "source": [
    "# find group (median class) that includes the value of step 1 - here should be 3rd class -> cum freq from 30 to 50\n",
    "l = 6000 # lower border of median class\n",
    "m = 30 # where the N/2 is situated\n",
    "f = 20 # frequency of median class\n",
    "c = 2000 #width of class (6000-8000)\n",
    "\n",
    "median = l+(step1-m)/f*c\n",
    "median"
   ]
  },
  {
   "cell_type": "code",
   "execution_count": 200,
   "id": "fc6ccacb",
   "metadata": {},
   "outputs": [
    {
     "data": {
      "text/plain": [
       "7777.777777777777"
      ]
     },
     "execution_count": 200,
     "metadata": {},
     "output_type": "execute_result"
    }
   ],
   "source": [
    "# CALCULATION MODE OF CLASS\n",
    "# mod_class is 6000 - 8000\n",
    "L = 6000 #lower border of mode class\n",
    "h = 2000 #size of class interval\n",
    "f1 = 20 #frequency of modal class\n",
    "f0 = 12 #frequency of class preceding\n",
    "f2 = 19 #frequency of class succeeding \n",
    "\n",
    "mode= L+((f1-f0)/(2*f1-f0-f2))*h\n",
    "mode"
   ]
  },
  {
   "cell_type": "code",
   "execution_count": 201,
   "id": "b7a61525",
   "metadata": {},
   "outputs": [
    {
     "data": {
      "text/html": [
       "<div>\n",
       "<style scoped>\n",
       "    .dataframe tbody tr th:only-of-type {\n",
       "        vertical-align: middle;\n",
       "    }\n",
       "\n",
       "    .dataframe tbody tr th {\n",
       "        vertical-align: top;\n",
       "    }\n",
       "\n",
       "    .dataframe thead th {\n",
       "        text-align: right;\n",
       "    }\n",
       "</style>\n",
       "<table border=\"1\" class=\"dataframe\">\n",
       "  <thead>\n",
       "    <tr style=\"text-align: right;\">\n",
       "      <th></th>\n",
       "      <th>ID</th>\n",
       "      <th>Salary</th>\n",
       "      <th>Midpoint</th>\n",
       "      <th>Midpoint_frequency</th>\n",
       "      <th>cum_freq</th>\n",
       "    </tr>\n",
       "    <tr>\n",
       "      <th>salary_bins</th>\n",
       "      <th></th>\n",
       "      <th></th>\n",
       "      <th></th>\n",
       "      <th></th>\n",
       "      <th></th>\n",
       "    </tr>\n",
       "  </thead>\n",
       "  <tbody>\n",
       "    <tr>\n",
       "      <th>(2000, 4000]</th>\n",
       "      <td>18</td>\n",
       "      <td>18</td>\n",
       "      <td>3000.0</td>\n",
       "      <td>54000.0</td>\n",
       "      <td>18</td>\n",
       "    </tr>\n",
       "    <tr>\n",
       "      <th>(4000, 6000]</th>\n",
       "      <td>12</td>\n",
       "      <td>12</td>\n",
       "      <td>5000.0</td>\n",
       "      <td>60000.0</td>\n",
       "      <td>30</td>\n",
       "    </tr>\n",
       "    <tr>\n",
       "      <th>(6000, 8000]</th>\n",
       "      <td>20</td>\n",
       "      <td>20</td>\n",
       "      <td>7000.0</td>\n",
       "      <td>140000.0</td>\n",
       "      <td>50</td>\n",
       "    </tr>\n",
       "    <tr>\n",
       "      <th>(8000, 10000]</th>\n",
       "      <td>19</td>\n",
       "      <td>19</td>\n",
       "      <td>9000.0</td>\n",
       "      <td>171000.0</td>\n",
       "      <td>69</td>\n",
       "    </tr>\n",
       "  </tbody>\n",
       "</table>\n",
       "</div>"
      ],
      "text/plain": [
       "               ID  Salary Midpoint Midpoint_frequency  cum_freq\n",
       "salary_bins                                                    \n",
       "(2000, 4000]   18      18   3000.0            54000.0        18\n",
       "(4000, 6000]   12      12   5000.0            60000.0        30\n",
       "(6000, 8000]   20      20   7000.0           140000.0        50\n",
       "(8000, 10000]  19      19   9000.0           171000.0        69"
      ]
     },
     "execution_count": 201,
     "metadata": {},
     "output_type": "execute_result"
    }
   ],
   "source": [
    "x"
   ]
  },
  {
   "cell_type": "code",
   "execution_count": 214,
   "id": "fd0ae14f",
   "metadata": {},
   "outputs": [
    {
     "data": {
      "text/plain": [
       "5341858.482523445"
      ]
     },
     "execution_count": 214,
     "metadata": {},
     "output_type": "execute_result"
    }
   ],
   "source": [
    "#CALCULATION OF STANDARD DEVIATION \n",
    "# Var = (sumf(x-mean)²)/n\n",
    "# std = root of var \n",
    "\n",
    "var = (18*(3000-mean)**2+12*(5000-mean)**2+20*(7000-mean)**2+19*(9000-mean)**2)/(69-1)\n",
    "var\n",
    "\n"
   ]
  },
  {
   "cell_type": "code",
   "execution_count": 215,
   "id": "2e7c6ffe",
   "metadata": {},
   "outputs": [
    {
     "data": {
      "text/plain": [
       "2311.2460886983554"
      ]
     },
     "execution_count": 215,
     "metadata": {},
     "output_type": "execute_result"
    }
   ],
   "source": [
    "std = var**0.5\n",
    "std"
   ]
  },
  {
   "cell_type": "code",
   "execution_count": null,
   "id": "5f66fe2c",
   "metadata": {},
   "outputs": [],
   "source": []
  }
 ],
 "metadata": {
  "kernelspec": {
   "display_name": "Python 3 (ipykernel)",
   "language": "python",
   "name": "python3"
  },
  "language_info": {
   "codemirror_mode": {
    "name": "ipython",
    "version": 3
   },
   "file_extension": ".py",
   "mimetype": "text/x-python",
   "name": "python",
   "nbconvert_exporter": "python",
   "pygments_lexer": "ipython3",
   "version": "3.9.7"
  }
 },
 "nbformat": 4,
 "nbformat_minor": 5
}
