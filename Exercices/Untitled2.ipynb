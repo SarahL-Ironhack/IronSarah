{
 "cells": [
  {
   "cell_type": "code",
   "execution_count": 2,
   "id": "24c0367f",
   "metadata": {},
   "outputs": [],
   "source": [
    "import pandas as pd\n",
    "import numpy as np"
   ]
  },
  {
   "cell_type": "code",
   "execution_count": 9,
   "id": "2978532c",
   "metadata": {},
   "outputs": [],
   "source": [
    "list_ini= [[0, 1, 2], [11, 12, 13], [52, 53, 54]]"
   ]
  },
  {
   "cell_type": "code",
   "execution_count": 39,
   "id": "6ee5f360",
   "metadata": {},
   "outputs": [],
   "source": [
    "new_list = [ item for elem in list_ini for item in elem]"
   ]
  },
  {
   "cell_type": "code",
   "execution_count": 40,
   "id": "4810ab5d",
   "metadata": {},
   "outputs": [
    {
     "data": {
      "text/plain": [
       "[0, 1, 2, 11, 12, 13, 52, 53, 54]"
      ]
     },
     "execution_count": 40,
     "metadata": {},
     "output_type": "execute_result"
    }
   ],
   "source": [
    "new_list"
   ]
  },
  {
   "cell_type": "code",
   "execution_count": 38,
   "id": "0ec3cf59",
   "metadata": {},
   "outputs": [],
   "source": [
    "values =  [170,167,174,179,179,187,179,183,156,163,156,187,156,167,156,174,183,179,174,179,170,159,\n",
    "187, 179, 170]\n"
   ]
  },
  {
   "cell_type": "code",
   "execution_count": 35,
   "id": "1a117d38",
   "metadata": {},
   "outputs": [],
   "source": [
    "from scipy import stats"
   ]
  },
  {
   "cell_type": "code",
   "execution_count": 61,
   "id": "4eb94d6f",
   "metadata": {},
   "outputs": [],
   "source": [
    "result = stats.ttest_1samp(values,200, alternative = 'greater')"
   ]
  },
  {
   "cell_type": "code",
   "execution_count": 62,
   "id": "1d259f1c",
   "metadata": {},
   "outputs": [
    {
     "data": {
      "text/plain": [
       "Ttest_1sampResult(statistic=-13.3239071675625, pvalue=0.9999999999993048)"
      ]
     },
     "execution_count": 62,
     "metadata": {},
     "output_type": "execute_result"
    }
   ],
   "source": [
    "result"
   ]
  },
  {
   "cell_type": "markdown",
   "id": "cde23e0d",
   "metadata": {},
   "source": [
    "P value higher than 0.05 so H0 accepted : mean = 170,  so it is not greater than 170"
   ]
  },
  {
   "cell_type": "code",
   "execution_count": null,
   "id": "1a524378",
   "metadata": {},
   "outputs": [],
   "source": []
  }
 ],
 "metadata": {
  "kernelspec": {
   "display_name": "Python 3 (ipykernel)",
   "language": "python",
   "name": "python3"
  },
  "language_info": {
   "codemirror_mode": {
    "name": "ipython",
    "version": 3
   },
   "file_extension": ".py",
   "mimetype": "text/x-python",
   "name": "python",
   "nbconvert_exporter": "python",
   "pygments_lexer": "ipython3",
   "version": "3.9.7"
  }
 },
 "nbformat": 4,
 "nbformat_minor": 5
}
