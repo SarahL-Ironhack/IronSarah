{
 "cells": [
  {
   "cell_type": "code",
   "execution_count": 10,
   "id": "20dc53cb",
   "metadata": {},
   "outputs": [
    {
     "name": "stdout",
     "output_type": "stream",
     "text": [
      "There are  17 sheep\n"
     ]
    }
   ],
   "source": [
    "# Exercise 1 : Counting sheep\n",
    "def sheep(x):\n",
    "    nb = 0\n",
    "    for i in x:\n",
    "        if i == True:\n",
    "            nb += 1\n",
    "        if i == False:\n",
    "            pass\n",
    "    print('There are ',nb,'sheep')\n",
    "\n",
    "\n",
    "sheep([True,  True,  True,  False,\n",
    "  True,  True,  True,  True ,\n",
    "  True,  False, True,  False,\n",
    "  True,  False, False, True ,\n",
    "  True,  True,  True,  True ,\n",
    "  False, False, True,  True])\n"
   ]
  },
  {
   "cell_type": "code",
   "execution_count": 9,
   "id": "ad1f9122",
   "metadata": {},
   "outputs": [
    {
     "name": "stdout",
     "output_type": "stream",
     "text": [
      "['one', 'three', 'five', 'seven', 'nine']\n"
     ]
    }
   ],
   "source": [
    "# Exercise 2 : Removing elements\n",
    "\n",
    "def removing(x):\n",
    "    del x[1::2]\n",
    "    print(x)\n",
    "    \n",
    "removing([\"one\",\"two\",\"three\",\"four\",\"five\",\"six\",\"seven\",\"eight\",\"nine\",\"ten\"])"
   ]
  },
  {
   "cell_type": "code",
   "execution_count": 8,
   "id": "b374b5f9",
   "metadata": {},
   "outputs": [
    {
     "name": "stdout",
     "output_type": "stream",
     "text": [
      "enter a number5253\n",
      "['3', '5', '2', '5']\n"
     ]
    }
   ],
   "source": [
    "# Exercise 3 : Convert number to reversed array of digits\n",
    "\n",
    "def reversed(x):\n",
    "    array = list(x[::-1])\n",
    "    print(array)\n",
    "\n",
    "number=input('enter a number')\n",
    "reversed(number)\n"
   ]
  },
  {
   "cell_type": "code",
   "execution_count": 7,
   "id": "17c47e02",
   "metadata": {},
   "outputs": [
    {
     "name": "stdout",
     "output_type": "stream",
     "text": [
      "1491625\n"
     ]
    }
   ],
   "source": [
    "# Exercise 4 : Square every digit\n",
    "def square(x):\n",
    "    solution =str()\n",
    "    x = [int(a) for a in str(number)]\n",
    "    for i in range (0,(len(x))):\n",
    "        x[i]=(x[i]*x[i])\n",
    "    y=[str(int) for int in x]\n",
    "    solution1=''.join(y)  \n",
    "    print(solution1)\n",
    "\n",
    "number = str(12345)\n",
    "square(number)\n"
   ]
  },
  {
   "cell_type": "code",
   "execution_count": 19,
   "id": "fd7959fa",
   "metadata": {},
   "outputs": [
    {
     "name": "stdout",
     "output_type": "stream",
     "text": [
      "[(1, 0), (7, 3), (6, 6), (2, 3), (4, 0)]\n"
     ]
    }
   ],
   "source": [
    "# Exercise 5 : Method For Counting Total Occurence Of Specific Digits \n",
    "def count_spec_digits(integersList,digitList):\n",
    "\n",
    "    result=list()\n",
    "    result_list=list()\n",
    "\n",
    "    integerString=' '.join([str(item) for item in integersList])   #transform first list to string in order to count occurences\n",
    "\n",
    "    for i in range(0,(len(digitList))):\n",
    "        result.append((integerString.count(str(digitList[i]))))    #append a new list with the number of occurences\n",
    "\n",
    "    result_list=list(zip(digitList,result))    #merge the two lists as tuples in a new list\n",
    "    print(result_list)\n",
    "\n",
    "integers_List =  [-77, -65, 56, -79, 6666, 222]\n",
    "digit_List = [1,7,6,2,4]\n",
    "\n",
    "count_spec_digits(integers_List,digit_List)"
   ]
  },
  {
   "cell_type": "code",
   "execution_count": null,
   "id": "b0467d43",
   "metadata": {},
   "outputs": [],
   "source": []
  }
 ],
 "metadata": {
  "kernelspec": {
   "display_name": "Python 3",
   "language": "python",
   "name": "python3"
  },
  "language_info": {
   "codemirror_mode": {
    "name": "ipython",
    "version": 3
   },
   "file_extension": ".py",
   "mimetype": "text/x-python",
   "name": "python",
   "nbconvert_exporter": "python",
   "pygments_lexer": "ipython3",
   "version": "3.8.8"
  }
 },
 "nbformat": 4,
 "nbformat_minor": 5
}
