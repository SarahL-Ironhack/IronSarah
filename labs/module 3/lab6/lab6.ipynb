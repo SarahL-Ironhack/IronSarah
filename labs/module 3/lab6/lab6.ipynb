{
 "cells": [
  {
   "cell_type": "markdown",
   "metadata": {
    "id": "xLLW4yjDFDOg"
   },
   "source": [
    "# Before your start:\n",
    "- Read the README.md file\n",
    "- Comment as much as you can and use the resources (README.md file)\n",
    "- Happy learning!"
   ]
  },
  {
   "cell_type": "code",
   "execution_count": 3,
   "metadata": {
    "id": "5IO5yAWPFDOl"
   },
   "outputs": [],
   "source": [
    "# Run this code:\n",
    "\n",
    "%matplotlib inline\n",
    "\n",
    "import matplotlib.pyplot as plt"
   ]
  },
  {
   "cell_type": "code",
   "execution_count": 4,
   "metadata": {
    "id": "MGqPNs-JFDOm"
   },
   "outputs": [],
   "source": [
    "# Import numpy and pandas:\n",
    "import numpy as np\n",
    "import pandas as pd\n"
   ]
  },
  {
   "cell_type": "markdown",
   "metadata": {
    "id": "nISH216QFDOm"
   },
   "source": [
    "# Challenge 1 - Reading and Standardizing the Data\n",
    "\n",
    "In this challenge we will work with image data and reduce the dimensions of the data to create a 2 dimensional plot. While we have not worked much with image data before, it can be represented as a numpy array where each pixel is assigned a numeric value. In this lesson, we will look at a dataset of cats and a dataset of dogs and see whether reducing them to two dimensions allows us to see if the data is separable. We will start by loading and processing the data. Run the cell below to load the two csv files and convert them into numpy arrays."
   ]
  },
  {
   "cell_type": "code",
   "execution_count": 5,
   "metadata": {
    "id": "6sb4RKhGFDOm"
   },
   "outputs": [],
   "source": [
    "# Run this code\n",
    "\n",
    "cats = np.array(pd.read_csv(\"https://raw.githubusercontent.com/bioramble/pca/master/cat.csv\", header=None))\n",
    "dogs = np.array(pd.read_csv(\"https://raw.githubusercontent.com/bioramble/pca/master/dog.csv\", header=None))"
   ]
  },
  {
   "cell_type": "markdown",
   "metadata": {
    "id": "ea9CtFZOFDOn"
   },
   "source": [
    "Next, we'll examine the shape of both the cats and the dogs arrays. Print out both shapes below."
   ]
  },
  {
   "cell_type": "code",
   "execution_count": 6,
   "metadata": {
    "id": "zwfJ_fAzFDOn",
    "outputId": "7ba12f2a-ea93-45a9-b98d-8ab77ae243c6"
   },
   "outputs": [
    {
     "data": {
      "text/plain": [
       "(4096, 80)"
      ]
     },
     "execution_count": 6,
     "metadata": {},
     "output_type": "execute_result"
    }
   ],
   "source": [
    "# Your code here:\n",
    "cats.shape"
   ]
  },
  {
   "cell_type": "code",
   "execution_count": 7,
   "metadata": {
    "id": "FFzKMIp2FDOo",
    "outputId": "a719376c-ac66-4766-cb59-9c7461c6a3db"
   },
   "outputs": [
    {
     "data": {
      "text/plain": [
       "(4096, 80)"
      ]
     },
     "execution_count": 7,
     "metadata": {},
     "output_type": "execute_result"
    }
   ],
   "source": [
    "dogs.shape"
   ]
  },
  {
   "cell_type": "markdown",
   "metadata": {
    "id": "y_lOarPjFDOo"
   },
   "source": [
    "What this means is that both arrays contain 80 images each (the number of columns). Each image is comprised of 64x64 pixels (so a total of 4096 pixels per image). The images have been flattened such that all 4096 are in a single row.\n",
    "\n",
    "Print out column 0 of the cats array to see what the pixels values look like."
   ]
  },
  {
   "cell_type": "code",
   "execution_count": 8,
   "metadata": {
    "ExecuteTime": {
     "end_time": "2021-02-25T13:05:54.979105Z",
     "start_time": "2021-02-25T13:05:54.969235Z"
    },
    "id": "hiQS9EY8FDOo"
   },
   "outputs": [
    {
     "data": {
      "text/plain": [
       "array([ 64,  23, 250, 137,  55, 173,  18, 134,  19,  47, 109, 164,  41,\n",
       "        78, 108, 108, 247, 105, 158,  54, 103,   4,  23, 102, 239,  72,\n",
       "        42,  21, 168, 109, 112, 177,  22, 233,  15, 236, 250, 137,  32,\n",
       "         5, 178, 109,  24, 107,  53, 241, 226, 143,   5, 136,  98, 100,\n",
       "        89,  66, 228,  92, 255,  88, 230,  56, 160,  69,   6,  24, 195,\n",
       "       183, 239,  35, 154, 154, 122,  18,  87, 106, 174,  69,  28,  60,\n",
       "       223, 101], dtype=int64)"
      ]
     },
     "execution_count": 8,
     "metadata": {},
     "output_type": "execute_result"
    }
   ],
   "source": [
    "# Your code here:\n",
    "cats[0]\n"
   ]
  },
  {
   "cell_type": "markdown",
   "metadata": {
    "id": "9UvFnMgPFDOo"
   },
   "source": [
    "Using `matplotlib` we can plot a single cat or a single dog. We do this by reshaping the vector back to a 64x64 image and then using the `imshow` function.\n",
    "\n",
    "Run the code below to look at the first dog and the first cat."
   ]
  },
  {
   "cell_type": "code",
   "execution_count": 9,
   "metadata": {
    "id": "AcqumTdRFDOp",
    "outputId": "97aa7604-9987-474a-dd74-8a0b45cfbd79"
   },
   "outputs": [
    {
     "data": {
      "text/plain": [
       "<matplotlib.image.AxesImage at 0x210224a6250>"
      ]
     },
     "execution_count": 9,
     "metadata": {},
     "output_type": "execute_result"
    },
    {
     "data": {
      "image/png": "[encoded data removed]",
      "text/plain": [
       "<Figure size 432x288 with 1 Axes>"
      ]
     },
     "metadata": {
      "needs_background": "light"
     },
     "output_type": "display_data"
    }
   ],
   "source": [
    "# Run this code:\n",
    "\n",
    "fig, ax = plt.subplots()\n",
    "ax.imshow(cats[:,0].reshape(64, 64).T, cmap=plt.cm.bone, interpolation='nearest')"
   ]
  },
  {
   "cell_type": "code",
   "execution_count": 10,
   "metadata": {
    "id": "CZzjFZRdFDOp",
    "outputId": "4e5bd9ca-1742-4f29-c9bb-f893baf36747"
   },
   "outputs": [
    {
     "data": {
      "text/plain": [
       "<matplotlib.image.AxesImage at 0x21022efbfd0>"
      ]
     },
     "execution_count": 10,
     "metadata": {},
     "output_type": "execute_result"
    },
    {
     "data": {
      "image/png": "[encoded data removed]",
      "text/plain": [
       "<Figure size 432x288 with 1 Axes>"
      ]
     },
     "metadata": {
      "needs_background": "light"
     },
     "output_type": "display_data"
    }
   ],
   "source": [
    "# Run this code:\n",
    "fig, ax = plt.subplots()\n",
    "ax.imshow(dogs[:,0].reshape(64, 64).T, cmap=plt.cm.bone, interpolation='nearest')"
   ]
  },
  {
   "cell_type": "markdown",
   "metadata": {
    "id": "bOFINuuHFDOq"
   },
   "source": [
    "Now, use the `np.concatenate` function to combine the cats and dogs arrays. Use `axis=1` to combine the two correctly. Make sure to put dogs first."
   ]
  },
  {
   "cell_type": "code",
   "execution_count": 11,
   "metadata": {
    "id": "V2VJM2NYFDOq"
   },
   "outputs": [
    {
     "data": {
      "text/plain": [
       "(4096, 160)"
      ]
     },
     "execution_count": 11,
     "metadata": {},
     "output_type": "execute_result"
    }
   ],
   "source": [
    "# Your code here:\n",
    "array = np.concatenate((dogs, cats), axis=1)\n",
    "array.shape\n"
   ]
  },
  {
   "cell_type": "markdown",
   "metadata": {
    "id": "PycXeWQNFDOp"
   },
   "source": [
    "Next, we would like to create a standardization function. This function will find the mean and standard deviation of each image. We subtract the mean from each pixel and divide each pixel by the standard deviation. Write the function below."
   ]
  },
  {
   "cell_type": "code",
   "execution_count": 12,
   "metadata": {
    "id": "7JM7-kq0FDOp"
   },
   "outputs": [],
   "source": [
    "#Your code here:\n",
    "  "
   ]
  },
  {
   "cell_type": "code",
   "execution_count": 13,
   "metadata": {},
   "outputs": [],
   "source": [
    "def standard(x):\n",
    "    x = (x-x.mean())/x.std()\n",
    "    return x"
   ]
  },
  {
   "cell_type": "code",
   "execution_count": 44,
   "metadata": {},
   "outputs": [
    {
     "data": {
      "text/plain": [
       "array([[ 1.57438352,  0.16697539,  0.10644171, ..., -0.90749748,\n",
       "         1.5592501 , -0.28702723],\n",
       "       [ 1.57438352,  0.06104145,  0.2426425 , ..., -1.05883169,\n",
       "         1.57438352, -0.1962267 ],\n",
       "       [ 1.57438352, -0.24162697,  0.10644171, ..., -0.86209722,\n",
       "         1.58951694, -0.21136013],\n",
       "       ...,\n",
       "       [-0.30216065, -0.24162697, -0.07515934, ..., -0.22649355,\n",
       "         0.90851301, -0.09029276],\n",
       "       [-0.30216065,  0.06104145, -0.24162697, ..., -0.02975908,\n",
       "         0.93877985, -0.43836144],\n",
       "       [-0.30216065,  0.06104145, -0.24162697, ..., -0.24162697,\n",
       "         0.86311275, -0.10542618]])"
      ]
     },
     "execution_count": 44,
     "metadata": {},
     "output_type": "execute_result"
    }
   ],
   "source": [
    "standard_array = standard(array)\n",
    "standard_array"
   ]
  },
  {
   "cell_type": "markdown",
   "metadata": {
    "id": "kRMcgTapFDOq"
   },
   "source": [
    "# Challenge 2 - Using PCA\n",
    "\n",
    "Now that we have created a standardized matrix of cats and dogs, we'll find the two most important components in the data.\n",
    "\n",
    "1. Load the `PCA` function from statsmodel. Create a PCA model with two components.\n",
    "You might need to transpose your data to get the right results."
   ]
  },
  {
   "cell_type": "code",
   "execution_count": 52,
   "metadata": {
    "id": "o6JKMVCpFDOq"
   },
   "outputs": [],
   "source": [
    "# Your code here:\n",
    "from statsmodels.multivariate.pca import PCA\n",
    "import plotly.express as px\n"
   ]
  },
  {
   "cell_type": "code",
   "execution_count": 46,
   "metadata": {},
   "outputs": [
    {
     "data": {
      "text/plain": [
       "array([[ 1.57438352,  1.57438352,  1.57438352, ..., -0.30216065,\n",
       "        -0.30216065, -0.30216065],\n",
       "       [ 0.16697539,  0.06104145, -0.24162697, ..., -0.24162697,\n",
       "         0.06104145,  0.06104145],\n",
       "       [ 0.10644171,  0.2426425 ,  0.10644171, ..., -0.07515934,\n",
       "        -0.24162697, -0.24162697],\n",
       "       ...,\n",
       "       [-0.90749748, -1.05883169, -0.86209722, ..., -0.22649355,\n",
       "        -0.02975908, -0.24162697],\n",
       "       [ 1.5592501 ,  1.57438352,  1.58951694, ...,  0.90851301,\n",
       "         0.93877985,  0.86311275],\n",
       "       [-0.28702723, -0.1962267 , -0.21136013, ..., -0.09029276,\n",
       "        -0.43836144, -0.10542618]])"
      ]
     },
     "execution_count": 46,
     "metadata": {},
     "output_type": "execute_result"
    }
   ],
   "source": [
    "standard_array1 = np.transpose(standard_array)\n",
    "standard_array1"
   ]
  },
  {
   "cell_type": "code",
   "execution_count": 53,
   "metadata": {},
   "outputs": [
    {
     "data": {
      "text/plain": [
       "array([[-1.11301925e-01, -8.63410225e-02],\n",
       "       [ 6.06860492e-02, -1.42214451e-01],\n",
       "       [-6.71287980e-02,  4.09082980e-02],\n",
       "       [ 5.52290778e-02, -3.36599143e-02],\n",
       "       [-4.73124562e-02, -6.43549035e-02],\n",
       "       [ 1.15949714e-02,  1.99911464e-02],\n",
       "       [ 5.04055334e-02, -7.06969760e-02],\n",
       "       [ 3.17174548e-02, -6.94284379e-02],\n",
       "       [-3.68136666e-02, -3.14012980e-02],\n",
       "       [-4.91046746e-02, -1.08901702e-01],\n",
       "       [ 9.96924738e-04, -9.07649695e-03],\n",
       "       [-7.82955209e-02, -1.70579689e-02],\n",
       "       [ 8.21241854e-02, -4.00496675e-02],\n",
       "       [-1.03337177e-01,  2.52750875e-02],\n",
       "       [-1.36688125e-02, -7.02728682e-02],\n",
       "       [-2.94936735e-02, -3.76621221e-02],\n",
       "       [-4.33112801e-02, -3.80018847e-02],\n",
       "       [-3.60946856e-03, -1.15625976e-01],\n",
       "       [-4.90131181e-02, -3.07371886e-02],\n",
       "       [-6.37641832e-02, -5.09719275e-02],\n",
       "       [-5.12897839e-02,  1.59127831e-02],\n",
       "       [ 2.30833160e-02, -2.56816138e-02],\n",
       "       [-1.02761280e-01, -2.37616410e-03],\n",
       "       [ 1.10402598e-01, -8.62812223e-02],\n",
       "       [ 6.30570509e-02, -1.18846326e-01],\n",
       "       [ 1.02049722e-01, -4.03727321e-02],\n",
       "       [-1.01864426e-01,  2.89337080e-02],\n",
       "       [-1.97785355e-02, -9.52453668e-05],\n",
       "       [-2.89763857e-02, -6.70842796e-02],\n",
       "       [ 5.83491930e-02, -4.97267324e-02],\n",
       "       [ 1.66373958e-02, -2.65915805e-02],\n",
       "       [ 7.98212539e-02, -4.53262506e-02],\n",
       "       [-5.91322001e-03, -1.04304072e-01],\n",
       "       [ 1.36167395e-01, -9.24307728e-02],\n",
       "       [ 9.49120342e-02, -7.73561881e-03],\n",
       "       [ 4.59486620e-02, -6.29012184e-02],\n",
       "       [-4.74148831e-02,  3.62562410e-02],\n",
       "       [ 9.95482403e-02, -3.82652451e-02],\n",
       "       [ 1.30550358e-01, -2.11470736e-02],\n",
       "       [ 4.95025915e-02, -1.15846518e-01],\n",
       "       [ 3.60972963e-02, -6.97487652e-02],\n",
       "       [-5.27218061e-02,  5.07941104e-03],\n",
       "       [ 1.50693903e-01, -2.37044353e-02],\n",
       "       [ 8.45791079e-02, -7.00992109e-02],\n",
       "       [ 4.14726971e-02,  1.23697624e-02],\n",
       "       [ 2.07491648e-02, -6.66537049e-02],\n",
       "       [ 1.32086779e-02, -1.02669154e-01],\n",
       "       [ 8.38377484e-02, -3.63275394e-02],\n",
       "       [-2.65971163e-02, -3.81570033e-02],\n",
       "       [ 1.17111275e-01,  8.16762982e-03],\n",
       "       [-1.75102404e-02, -7.95556649e-02],\n",
       "       [-1.66222872e-01, -4.78415072e-02],\n",
       "       [-1.61105791e-01,  3.20321524e-02],\n",
       "       [-9.08516016e-03,  5.77119540e-02],\n",
       "       [ 1.80625718e-02,  4.76965433e-02],\n",
       "       [-4.84093013e-02,  7.04078765e-02],\n",
       "       [-4.01142127e-02, -5.90095621e-02],\n",
       "       [-9.54102479e-03, -2.81777777e-02],\n",
       "       [ 1.93538805e-02,  3.58700265e-02],\n",
       "       [-1.68016602e-02, -4.37708108e-03],\n",
       "       [ 3.17229669e-02, -3.85202672e-02],\n",
       "       [-2.85225272e-02, -5.79726767e-02],\n",
       "       [ 6.62613609e-03, -9.70201495e-02],\n",
       "       [-8.35087010e-02,  7.28637844e-02],\n",
       "       [ 1.48133426e-01,  4.72308988e-05],\n",
       "       [ 2.74464554e-02, -8.56815913e-02],\n",
       "       [-9.43192615e-02,  8.98583180e-03],\n",
       "       [ 1.35161071e-02,  1.17675850e-01],\n",
       "       [ 4.53411884e-02,  3.82318316e-03],\n",
       "       [-1.10757830e-03, -8.10922204e-02],\n",
       "       [ 8.48289205e-02,  9.53360498e-03],\n",
       "       [ 7.79461027e-02, -2.15610973e-02],\n",
       "       [-6.59406346e-03, -1.00211171e-01],\n",
       "       [ 1.16906946e-01,  1.25430388e-02],\n",
       "       [-5.59584339e-02, -2.45885359e-03],\n",
       "       [-3.77661732e-03, -9.42091669e-02],\n",
       "       [-3.50276355e-02, -9.57254318e-02],\n",
       "       [ 6.05550183e-03,  1.54212504e-02],\n",
       "       [ 7.72709346e-02, -1.96281496e-02],\n",
       "       [-8.08976845e-02, -1.08231119e-01],\n",
       "       [-1.59468621e-01,  1.01607702e-01],\n",
       "       [ 2.03970794e-03,  1.32659398e-01],\n",
       "       [-1.60337174e-01, -1.80581864e-01],\n",
       "       [-1.19480805e-01, -5.84991800e-02],\n",
       "       [-1.23495182e-01,  1.30846231e-01],\n",
       "       [ 2.22616282e-03,  8.65866787e-02],\n",
       "       [-6.53988446e-02,  1.32716281e-01],\n",
       "       [-5.30711974e-02,  3.37345219e-02],\n",
       "       [ 3.34056307e-02,  1.41368073e-01],\n",
       "       [ 4.72740403e-02,  8.24922568e-02],\n",
       "       [ 2.51671599e-02, -2.90724166e-03],\n",
       "       [ 1.06361206e-01, -3.96413650e-02],\n",
       "       [ 7.50318129e-02,  1.59014909e-01],\n",
       "       [-7.89983272e-02,  1.13440069e-01],\n",
       "       [-1.95144940e-02, -6.44301973e-02],\n",
       "       [-8.16277990e-03,  6.64584508e-02],\n",
       "       [-2.41759116e-02, -6.12096088e-02],\n",
       "       [-6.76841655e-02,  1.12107746e-01],\n",
       "       [-1.01220348e-01, -8.35098830e-02],\n",
       "       [ 1.07045508e-01,  1.13851391e-01],\n",
       "       [-1.71599325e-01,  2.39080064e-02],\n",
       "       [ 5.59571745e-02,  1.21907770e-01],\n",
       "       [ 1.03772452e-01,  7.12311894e-02],\n",
       "       [ 1.44789095e-01,  4.26965336e-02],\n",
       "       [-1.71857141e-01, -1.32506887e-01],\n",
       "       [ 1.94571923e-02,  2.79629259e-03],\n",
       "       [-7.59768253e-02,  1.12237842e-01],\n",
       "       [ 1.51691162e-01,  5.76652545e-02],\n",
       "       [-4.35250326e-03, -4.72848203e-02],\n",
       "       [-1.63048928e-02,  5.78862637e-02],\n",
       "       [-7.42152242e-02,  3.09788189e-02],\n",
       "       [-1.57574588e-01,  1.27825308e-02],\n",
       "       [-6.99954709e-02,  9.12906071e-02],\n",
       "       [-2.06036285e-01, -1.72847751e-01],\n",
       "       [ 1.92508272e-02,  1.11107052e-01],\n",
       "       [ 1.44017418e-01, -2.53141204e-02],\n",
       "       [-8.94284837e-02, -1.38927698e-01],\n",
       "       [ 6.57847981e-02,  1.07412794e-01],\n",
       "       [ 6.38288347e-02,  2.85347747e-02],\n",
       "       [-1.69488614e-01,  8.49641655e-02],\n",
       "       [ 2.87682909e-02,  1.79355297e-02],\n",
       "       [-1.26558401e-01,  1.63130425e-01],\n",
       "       [ 9.06372586e-02,  1.35572953e-01],\n",
       "       [ 1.35538850e-01,  3.42188544e-02],\n",
       "       [ 1.74875430e-01,  1.46682568e-01],\n",
       "       [ 1.33978384e-01, -8.12586180e-02],\n",
       "       [ 1.42525932e-01, -8.80834950e-02],\n",
       "       [ 5.39846925e-02, -1.11239793e-01],\n",
       "       [ 3.85341857e-02,  1.64371929e-01],\n",
       "       [-5.04447539e-02,  1.98613616e-02],\n",
       "       [-1.25489565e-01,  1.27034187e-01],\n",
       "       [-2.07096056e-02,  3.43764860e-02],\n",
       "       [-8.70726934e-03,  1.42090232e-01],\n",
       "       [ 5.25919826e-02,  1.16364877e-01],\n",
       "       [ 6.03788462e-02, -4.08513685e-02],\n",
       "       [-4.54981344e-03,  9.63468454e-02],\n",
       "       [-4.29762910e-02,  1.90514182e-01],\n",
       "       [ 1.93159799e-02,  3.91641218e-02],\n",
       "       [-3.29861437e-02, -6.00626017e-02],\n",
       "       [ 1.02727880e-01,  1.82452350e-02],\n",
       "       [ 2.51890334e-02, -8.05444007e-03],\n",
       "       [-6.87459223e-02,  6.34447666e-02],\n",
       "       [-6.74099325e-02,  1.36377564e-01],\n",
       "       [ 6.83326623e-02,  9.70480144e-02],\n",
       "       [ 2.68762266e-02, -8.13158476e-02],\n",
       "       [-5.42645880e-03,  2.87301642e-02],\n",
       "       [-7.77095185e-02, -1.40908476e-01],\n",
       "       [-7.90108330e-02,  3.73479639e-02],\n",
       "       [ 9.91817607e-03, -3.33948030e-02],\n",
       "       [ 5.63646708e-02, -1.06219628e-01],\n",
       "       [-1.58130097e-02, -2.80606870e-02],\n",
       "       [ 1.42532141e-02,  9.01366231e-02],\n",
       "       [-5.25465013e-02,  4.11586588e-02],\n",
       "       [-2.54726483e-02, -6.50524372e-04],\n",
       "       [-3.86078156e-02, -1.88649397e-02],\n",
       "       [ 1.32014312e-03,  5.23196946e-02],\n",
       "       [ 4.08150343e-02,  7.14922603e-02],\n",
       "       [ 4.57437226e-02,  7.13861765e-02],\n",
       "       [ 3.50105933e-02, -4.90371387e-02],\n",
       "       [-2.55497455e-02,  2.86220781e-02]])"
      ]
     },
     "execution_count": 53,
     "metadata": {},
     "output_type": "execute_result"
    }
   ],
   "source": [
    "pca = PCA(standard_array1, ncomp=2)\n",
    "pca.factors\n"
   ]
  },
  {
   "cell_type": "markdown",
   "metadata": {
    "id": "HJ0il4Ggehd3"
   },
   "source": [
    "2.  And now lets do the same with sklearn library."
   ]
  },
  {
   "cell_type": "code",
   "execution_count": 54,
   "metadata": {
    "id": "aXde8FwZFDOr"
   },
   "outputs": [],
   "source": [
    "from sklearn.decomposition import PCA"
   ]
  },
  {
   "cell_type": "code",
   "execution_count": 55,
   "metadata": {},
   "outputs": [
    {
     "name": "stdout",
     "output_type": "stream",
     "text": [
      "[0.24412697 0.14886231]\n",
      "[395.24562764 308.63953854]\n"
     ]
    },
    {
     "data": {
      "text/plain": [
       "array([[ 4.31441627e+01,  2.76803378e+01],\n",
       "       [-2.73910390e+01,  4.14199827e+01],\n",
       "       [ 2.63531696e+01, -1.24263559e+01],\n",
       "       [-2.26052008e+01,  9.09166793e+00],\n",
       "       [ 1.81563612e+01,  2.06955511e+01],\n",
       "       [-5.40917220e+00, -5.84596513e+00],\n",
       "       [-2.20927551e+01,  2.17689906e+01],\n",
       "       [-1.52792062e+01,  2.02714609e+01],\n",
       "       [ 1.30742482e+01,  9.51467477e+00],\n",
       "       [ 1.68509082e+01,  3.33163826e+01],\n",
       "       [ 4.22155224e-01,  2.10712932e+00],\n",
       "       [ 3.08833313e+01,  5.90346892e+00],\n",
       "       [-3.26346836e+01,  1.14644349e+01],\n",
       "       [ 4.04075785e+01, -8.12982364e+00],\n",
       "       [ 2.95491732e+00,  2.02335383e+01],\n",
       "       [ 1.07919618e+01,  1.12250021e+01],\n",
       "       [ 1.75791263e+01,  1.04256161e+01],\n",
       "       [-7.14762126e-01,  3.41341298e+01],\n",
       "       [ 1.79305889e+01,  1.04119910e+01],\n",
       "       [ 2.33323192e+01,  1.50095990e+01],\n",
       "       [ 1.76498214e+01, -3.59310057e+00],\n",
       "       [-1.13670324e+01,  7.47675068e+00],\n",
       "       [ 4.03777535e+01,  1.50715089e+00],\n",
       "       [-4.52008143e+01,  2.43423857e+01],\n",
       "       [-2.83086176e+01,  3.49808685e+01],\n",
       "       [-4.07077093e+01,  1.14702623e+01],\n",
       "       [ 4.01081112e+01, -8.79475692e+00],\n",
       "       [ 6.96030561e+00, -1.00321406e-01],\n",
       "       [ 9.25637564e+00,  1.89352674e+01],\n",
       "       [-2.50925033e+01,  1.41345005e+01],\n",
       "       [-8.84339983e+00,  7.76021770e+00],\n",
       "       [-3.38028625e+01,  1.37715018e+01],\n",
       "       [ 1.41062091e-01,  3.09190164e+01],\n",
       "       [-5.57806454e+01,  2.46152796e+01],\n",
       "       [-3.76070205e+01,  7.12304808e-01],\n",
       "       [-2.15389823e+01,  1.91223184e+01],\n",
       "       [ 1.91934575e+01, -1.06919290e+01],\n",
       "       [-4.17580582e+01,  1.03264630e+01],\n",
       "       [-5.26009497e+01,  5.58941374e+00],\n",
       "       [-2.35189544e+01,  3.39701744e+01],\n",
       "       [-1.56653018e+01,  1.99498731e+01],\n",
       "       [ 2.09524926e+01, -2.23689716e-02],\n",
       "       [-5.94292913e+01,  4.06499921e+00],\n",
       "       [-3.39626309e+01,  2.17518344e+01],\n",
       "       [-1.77061757e+01, -4.00275571e+00],\n",
       "       [-6.96078207e+00,  1.81935249e+01],\n",
       "       [-9.65986828e+00,  3.34884131e+01],\n",
       "       [-3.38619842e+01,  1.24538129e+01],\n",
       "       [ 8.83665875e+00,  1.44371270e+01],\n",
       "       [-4.58043101e+01, -5.94456212e+00],\n",
       "       [ 8.97557062e+00,  2.09966766e+01],\n",
       "       [ 6.56196622e+01,  1.75627669e+01],\n",
       "       [ 6.42146034e+01, -9.28552385e+00],\n",
       "       [ 3.94063142e+00, -1.71434279e+01],\n",
       "       [-6.97776667e+00, -1.37548710e+01],\n",
       "       [ 1.71771106e+01, -1.76245931e+01],\n",
       "       [ 1.65050014e+01,  1.69290108e+01],\n",
       "       [ 2.98233232e+00,  7.11029607e+00],\n",
       "       [-5.28897214e+00, -1.57478002e+01],\n",
       "       [ 5.89325381e+00, -1.29827673e+00],\n",
       "       [-1.29533017e+01,  1.13140301e+01],\n",
       "       [ 1.24695765e+01,  1.63169912e+01],\n",
       "       [-6.41726980e+00,  3.12189398e+01],\n",
       "       [ 3.40297503e+01, -2.21807836e+01],\n",
       "       [-6.13237548e+01, -2.00870798e-01],\n",
       "       [-1.48323574e+01,  2.70178669e+01],\n",
       "       [ 3.85334070e+01, -3.14620383e+00],\n",
       "       [-1.94686368e+00, -3.79449048e+01],\n",
       "       [-2.11826860e+01,  1.10190739e+00],\n",
       "       [-5.37296886e-01,  2.25814581e+01],\n",
       "       [-3.22980580e+01, -3.65671163e+00],\n",
       "       [-3.10486939e+01,  6.08117229e+00],\n",
       "       [ 3.38576138e+00,  2.94263067e+01],\n",
       "       [-4.41751413e+01, -7.09529601e+00],\n",
       "       [ 2.14051861e+01,  1.59473433e+00],\n",
       "       [ 4.51786441e-01,  2.99030852e+01],\n",
       "       [ 1.32313470e+01,  2.78177736e+01],\n",
       "       [-7.03852157e+00, -6.86979546e+00],\n",
       "       [-3.09770729e+01,  4.73342811e+00],\n",
       "       [ 3.01787884e+01,  3.49551333e+01],\n",
       "       [ 6.12726733e+01, -2.73588917e+01],\n",
       "       [ 4.56161773e+00, -4.30029002e+01],\n",
       "       [ 5.94290075e+01,  6.02336599e+01],\n",
       "       [ 4.73574983e+01,  1.77457292e+01],\n",
       "       [ 4.99441810e+01, -3.71665923e+01],\n",
       "       [ 2.94181077e+00, -2.39160515e+01],\n",
       "       [ 2.96754796e+01, -4.13611757e+01],\n",
       "       [ 2.53959323e+01, -1.04079956e+01],\n",
       "       [-1.08697046e+01, -4.38961165e+01],\n",
       "       [-1.60214541e+01, -2.46215670e+01],\n",
       "       [-9.28279690e+00,  1.27357817e+00],\n",
       "       [-4.28868014e+01,  1.11923934e+01],\n",
       "       [-2.55652459e+01, -5.03233204e+01],\n",
       "       [ 3.32296694e+01, -3.34339994e+01],\n",
       "       [ 7.40404224e+00,  2.47652478e+01],\n",
       "       [ 4.88769206e+00, -2.00395423e+01],\n",
       "       [ 8.86153748e+00,  2.02089188e+01],\n",
       "       [ 3.10759628e+01, -3.45307305e+01],\n",
       "       [ 3.86053665e+01,  2.79553334e+01],\n",
       "       [-4.06211850e+01, -3.56630394e+01],\n",
       "       [ 6.86568823e+01, -3.36211776e+00],\n",
       "       [-1.65767018e+01, -3.91330435e+01],\n",
       "       [-3.76389756e+01, -2.59081575e+01],\n",
       "       [-5.66326553e+01, -1.63904883e+01],\n",
       "       [ 6.49107949e+01,  4.51178825e+01],\n",
       "       [-6.50927917e+00, -4.27581242e+00],\n",
       "       [ 3.29893824e+01, -3.24258265e+01],\n",
       "       [-5.72602173e+01, -2.06847452e+01],\n",
       "       [ 2.62387694e+00,  1.52909705e+01],\n",
       "       [ 1.01071816e+01, -1.83300140e+01],\n",
       "       [ 3.06964631e+01, -8.65471516e+00],\n",
       "       [ 5.93041433e+01,  2.19155143e+00],\n",
       "       [ 2.99998236e+01, -2.54277092e+01],\n",
       "       [ 7.64198723e+01,  5.83880508e+01],\n",
       "       [-5.31375419e+00, -3.63728538e+01],\n",
       "       [-5.75541107e+01,  5.19110203e+00],\n",
       "       [ 3.11264030e+01,  4.60494358e+01],\n",
       "       [-2.40909995e+01, -3.31737333e+01],\n",
       "       [-2.37985462e+01, -1.25434309e+01],\n",
       "       [ 7.13424569e+01, -2.52140199e+01],\n",
       "       [-1.11972478e+01, -4.71157887e+00],\n",
       "       [ 4.97816061e+01, -4.50459849e+01],\n",
       "       [-3.21396052e+01, -4.41838866e+01],\n",
       "       [-5.26180840e+01, -1.10450383e+01],\n",
       "       [-6.67186866e+01, -4.73999977e+01],\n",
       "       [-5.40022163e+01,  2.51209788e+01],\n",
       "       [-5.76730466e+01,  2.70784281e+01],\n",
       "       [-2.19609592e+01,  3.62191807e+01],\n",
       "       [-1.23165584e+01, -5.14542374e+01],\n",
       "       [ 2.06857870e+01, -4.22205707e+00],\n",
       "       [ 4.91650494e+01, -3.64243994e+01],\n",
       "       [ 1.00756964e+01, -1.17727473e+01],\n",
       "       [ 4.84729911e+00, -4.20933651e+01],\n",
       "       [-2.08518554e+01, -3.27649755e+01],\n",
       "       [-2.41960286e+01,  1.50399984e+01],\n",
       "       [ 3.80255660e+00, -2.79681873e+01],\n",
       "       [ 1.85641958e+01, -5.37446765e+01],\n",
       "       [-6.15850551e+00, -1.31755605e+01],\n",
       "       [ 1.34897093e+01,  1.99248650e+01],\n",
       "       [-4.13116299e+01, -7.67604613e+00],\n",
       "       [-9.79845226e+00,  2.81435685e-01],\n",
       "       [ 3.01972461e+01, -1.90308777e+01],\n",
       "       [ 3.24253539e+01, -4.19798842e+01],\n",
       "       [-2.51310219e+01, -3.24869293e+01],\n",
       "       [-1.05041717e+01,  2.53892902e+01],\n",
       "       [ 4.32731364e+00, -7.94239092e+00],\n",
       "       [ 2.84605027e+01,  4.52742801e+01],\n",
       "       [ 3.16513759e+01, -8.72067146e+00],\n",
       "       [-5.32050712e+00,  1.13850288e+01],\n",
       "       [-2.42460744e+01,  3.10358512e+01],\n",
       "       [ 6.19048191e+00,  9.23095637e+00],\n",
       "       [-4.64968457e+00, -2.80769565e+01],\n",
       "       [ 2.32558748e+01, -1.26890964e+01],\n",
       "       [ 1.00050370e+01, -1.02235796e+00],\n",
       "       [ 1.41132534e+01,  7.21829319e+00],\n",
       "       [ 5.61724019e-01, -1.66618505e+01],\n",
       "       [-1.52341894e+01, -2.42233346e+01],\n",
       "       [-1.60537556e+01, -2.38995074e+01],\n",
       "       [-1.52528905e+01,  1.73479458e+01],\n",
       "       [ 1.14896187e+01, -7.92319806e+00]])"
      ]
     },
     "execution_count": 55,
     "metadata": {},
     "output_type": "execute_result"
    }
   ],
   "source": [
    "pca2 = PCA(n_components=2)\n",
    "test = pca2.fit_transform(standard_array1)\n",
    "print(pca2.explained_variance_ratio_)\n",
    "print(pca2.singular_values_)\n",
    "test"
   ]
  },
  {
   "cell_type": "markdown",
   "metadata": {
    "id": "no-JSnrxFDOr"
   },
   "source": [
    "# Challenge 3 - Plotting the Data\n",
    "\n",
    "Now that we have reduced our cats and dogs arrays, we can easily plot the data in a way that the human eye can understand. We can look at this plot to see whether there are differences between the cat and dog images. \n",
    "\n",
    "In the cell below, turn the two dimensional projection into a pandas dataframe and name the columns `pc1`, and `pc2` respectively."
   ]
  },
  {
   "cell_type": "code",
   "execution_count": 56,
   "metadata": {
    "id": "65tZL3XTFDOr"
   },
   "outputs": [
    {
     "data": {
      "text/html": [
       "<div>\n",
       "<style scoped>\n",
       "    .dataframe tbody tr th:only-of-type {\n",
       "        vertical-align: middle;\n",
       "    }\n",
       "\n",
       "    .dataframe tbody tr th {\n",
       "        vertical-align: top;\n",
       "    }\n",
       "\n",
       "    .dataframe thead th {\n",
       "        text-align: right;\n",
       "    }\n",
       "</style>\n",
       "<table border=\"1\" class=\"dataframe\">\n",
       "  <thead>\n",
       "    <tr style=\"text-align: right;\">\n",
       "      <th></th>\n",
       "      <th>pc1</th>\n",
       "      <th>pc2</th>\n",
       "    </tr>\n",
       "  </thead>\n",
       "  <tbody>\n",
       "    <tr>\n",
       "      <th>0</th>\n",
       "      <td>-0.111302</td>\n",
       "      <td>-0.086341</td>\n",
       "    </tr>\n",
       "    <tr>\n",
       "      <th>1</th>\n",
       "      <td>0.060686</td>\n",
       "      <td>-0.142214</td>\n",
       "    </tr>\n",
       "    <tr>\n",
       "      <th>2</th>\n",
       "      <td>-0.067129</td>\n",
       "      <td>0.040908</td>\n",
       "    </tr>\n",
       "    <tr>\n",
       "      <th>3</th>\n",
       "      <td>0.055229</td>\n",
       "      <td>-0.033660</td>\n",
       "    </tr>\n",
       "    <tr>\n",
       "      <th>4</th>\n",
       "      <td>-0.047312</td>\n",
       "      <td>-0.064355</td>\n",
       "    </tr>\n",
       "    <tr>\n",
       "      <th>...</th>\n",
       "      <td>...</td>\n",
       "      <td>...</td>\n",
       "    </tr>\n",
       "    <tr>\n",
       "      <th>155</th>\n",
       "      <td>0.001320</td>\n",
       "      <td>0.052320</td>\n",
       "    </tr>\n",
       "    <tr>\n",
       "      <th>156</th>\n",
       "      <td>0.040815</td>\n",
       "      <td>0.071492</td>\n",
       "    </tr>\n",
       "    <tr>\n",
       "      <th>157</th>\n",
       "      <td>0.045744</td>\n",
       "      <td>0.071386</td>\n",
       "    </tr>\n",
       "    <tr>\n",
       "      <th>158</th>\n",
       "      <td>0.035011</td>\n",
       "      <td>-0.049037</td>\n",
       "    </tr>\n",
       "    <tr>\n",
       "      <th>159</th>\n",
       "      <td>-0.025550</td>\n",
       "      <td>0.028622</td>\n",
       "    </tr>\n",
       "  </tbody>\n",
       "</table>\n",
       "<p>160 rows × 2 columns</p>\n",
       "</div>"
      ],
      "text/plain": [
       "          pc1       pc2\n",
       "0   -0.111302 -0.086341\n",
       "1    0.060686 -0.142214\n",
       "2   -0.067129  0.040908\n",
       "3    0.055229 -0.033660\n",
       "4   -0.047312 -0.064355\n",
       "..        ...       ...\n",
       "155  0.001320  0.052320\n",
       "156  0.040815  0.071492\n",
       "157  0.045744  0.071386\n",
       "158  0.035011 -0.049037\n",
       "159 -0.025550  0.028622\n",
       "\n",
       "[160 rows x 2 columns]"
      ]
     },
     "execution_count": 56,
     "metadata": {},
     "output_type": "execute_result"
    }
   ],
   "source": [
    "# Your code here:\n",
    "df= pd.DataFrame(pca.factors, columns = [\"pc1\",\"pc2\"])\n",
    "df"
   ]
  },
  {
   "cell_type": "markdown",
   "metadata": {
    "id": "a77mi_VUFDOr"
   },
   "source": [
    "Create a labels list. This list will be of size 160. The first 80 elements in the list will be the word `blue`, and the last 80 elements will be `red`. This will ensure that all dog observations will be colored in blue and all cats will be colored in red. Name this list `colors`."
   ]
  },
  {
   "cell_type": "code",
   "execution_count": 64,
   "metadata": {
    "ExecuteTime": {
     "end_time": "2021-02-25T13:07:40.558939Z",
     "start_time": "2021-02-25T13:07:40.547968Z"
    },
    "id": "uEOkkp9aFDOr"
   },
   "outputs": [],
   "source": [
    "# Your code here:\n",
    "blue = ['blue']*80\n",
    "red = ['red']*80\n",
    "colors = blue + red\n"
   ]
  },
  {
   "cell_type": "markdown",
   "metadata": {
    "id": "3IrkGs-gFDOr"
   },
   "source": [
    "Create a scatter plot of `pc1` and `pc2` below. Use the `colors` list above to color the observations by setting `c=colors`."
   ]
  },
  {
   "cell_type": "code",
   "execution_count": 65,
   "metadata": {
    "ExecuteTime": {
     "end_time": "2021-02-25T13:07:44.414315Z",
     "start_time": "2021-02-25T13:07:44.398349Z"
    },
    "id": "-AbrrG-TFDOr"
   },
   "outputs": [
    {
     "data": {
      "text/plain": [
       "<matplotlib.collections.PathCollection at 0x2102413f850>"
      ]
     },
     "execution_count": 65,
     "metadata": {},
     "output_type": "execute_result"
    },
    {
     "data": {
      "image/png": "[encoded data removed]",
      "text/plain": [
       "<Figure size 432x288 with 1 Axes>"
      ]
     },
     "metadata": {
      "needs_background": "light"
     },
     "output_type": "display_data"
    }
   ],
   "source": [
    "# Your code here:\n",
    "plt.scatter(df['pc1'],df['pc2'], c=colors) ## alpha between 0 and 1 to set transparency\n"
   ]
  },
  {
   "cell_type": "markdown",
   "metadata": {
    "id": "I-meGOYBFDOs"
   },
   "source": [
    "Do you see a clear separation between cats and dogs? Write your answer below."
   ]
  },
  {
   "cell_type": "code",
   "execution_count": 23,
   "metadata": {
    "ExecuteTime": {
     "end_time": "2021-02-25T13:07:49.361753Z",
     "start_time": "2021-02-25T13:07:49.348769Z"
    },
    "id": "nBPHDwtIFDOs"
   },
   "outputs": [],
   "source": [
    "# Your conclusions here:\n",
    "# no difference between cats and dogs"
   ]
  },
  {
   "cell_type": "markdown",
   "metadata": {
    "id": "Qe4Em6IRevAK"
   },
   "source": [
    "TSNE"
   ]
  },
  {
   "cell_type": "code",
   "execution_count": 59,
   "metadata": {
    "id": "1DqU2K1zFDOs"
   },
   "outputs": [],
   "source": [
    "# Your code here:\n",
    "from sklearn.manifold import TSNE\n"
   ]
  },
  {
   "cell_type": "markdown",
   "metadata": {
    "id": "5HvnGNv5e3GZ"
   },
   "source": [
    "And now let's use t-SNE to reduce the dimensions till 2 components"
   ]
  },
  {
   "cell_type": "code",
   "execution_count": 60,
   "metadata": {
    "id": "WOe6hJyNezfs"
   },
   "outputs": [
    {
     "name": "stdout",
     "output_type": "stream",
     "text": [
      "[t-SNE] Computing 121 nearest neighbors...\n",
      "[t-SNE] Indexed 160 samples in 0.001s...\n",
      "[t-SNE] Computed neighbors for 160 samples in 0.007s...\n",
      "[t-SNE] Computed conditional probabilities for sample 160 / 160\n",
      "[t-SNE] Mean sigma: 0.051502\n",
      "[t-SNE] KL divergence after 250 iterations with early exaggeration: 56.514183\n",
      "[t-SNE] KL divergence after 300 iterations: 0.322923\n"
     ]
    }
   ],
   "source": [
    "# Your code here:\n",
    "tsne = TSNE(n_components=2, verbose=1, perplexity=40, n_iter=300)\n",
    "data_reduced = tsne.fit_transform(df)"
   ]
  },
  {
   "cell_type": "code",
   "execution_count": 66,
   "metadata": {},
   "outputs": [
    {
     "data": {
      "text/html": [
       "<div>\n",
       "<style scoped>\n",
       "    .dataframe tbody tr th:only-of-type {\n",
       "        vertical-align: middle;\n",
       "    }\n",
       "\n",
       "    .dataframe tbody tr th {\n",
       "        vertical-align: top;\n",
       "    }\n",
       "\n",
       "    .dataframe thead th {\n",
       "        text-align: right;\n",
       "    }\n",
       "</style>\n",
       "<table border=\"1\" class=\"dataframe\">\n",
       "  <thead>\n",
       "    <tr style=\"text-align: right;\">\n",
       "      <th></th>\n",
       "      <th>tsne1</th>\n",
       "      <th>tsne2</th>\n",
       "    </tr>\n",
       "  </thead>\n",
       "  <tbody>\n",
       "    <tr>\n",
       "      <th>0</th>\n",
       "      <td>-13.697770</td>\n",
       "      <td>-1.129027</td>\n",
       "    </tr>\n",
       "    <tr>\n",
       "      <th>1</th>\n",
       "      <td>-2.604151</td>\n",
       "      <td>-13.736844</td>\n",
       "    </tr>\n",
       "    <tr>\n",
       "      <th>2</th>\n",
       "      <td>-1.797940</td>\n",
       "      <td>9.611494</td>\n",
       "    </tr>\n",
       "    <tr>\n",
       "      <th>3</th>\n",
       "      <td>2.240500</td>\n",
       "      <td>-5.787775</td>\n",
       "    </tr>\n",
       "    <tr>\n",
       "      <th>4</th>\n",
       "      <td>-9.744946</td>\n",
       "      <td>-2.369984</td>\n",
       "    </tr>\n",
       "    <tr>\n",
       "      <th>...</th>\n",
       "      <td>...</td>\n",
       "      <td>...</td>\n",
       "    </tr>\n",
       "    <tr>\n",
       "      <th>155</th>\n",
       "      <td>3.911027</td>\n",
       "      <td>5.386618</td>\n",
       "    </tr>\n",
       "    <tr>\n",
       "      <th>156</th>\n",
       "      <td>7.937628</td>\n",
       "      <td>4.668734</td>\n",
       "    </tr>\n",
       "    <tr>\n",
       "      <th>157</th>\n",
       "      <td>7.728850</td>\n",
       "      <td>5.869301</td>\n",
       "    </tr>\n",
       "    <tr>\n",
       "      <th>158</th>\n",
       "      <td>-0.668774</td>\n",
       "      <td>-6.531349</td>\n",
       "    </tr>\n",
       "    <tr>\n",
       "      <th>159</th>\n",
       "      <td>-0.206336</td>\n",
       "      <td>5.489141</td>\n",
       "    </tr>\n",
       "  </tbody>\n",
       "</table>\n",
       "<p>160 rows × 2 columns</p>\n",
       "</div>"
      ],
      "text/plain": [
       "         tsne1      tsne2\n",
       "0   -13.697770  -1.129027\n",
       "1    -2.604151 -13.736844\n",
       "2    -1.797940   9.611494\n",
       "3     2.240500  -5.787775\n",
       "4    -9.744946  -2.369984\n",
       "..         ...        ...\n",
       "155   3.911027   5.386618\n",
       "156   7.937628   4.668734\n",
       "157   7.728850   5.869301\n",
       "158  -0.668774  -6.531349\n",
       "159  -0.206336   5.489141\n",
       "\n",
       "[160 rows x 2 columns]"
      ]
     },
     "execution_count": 66,
     "metadata": {},
     "output_type": "execute_result"
    }
   ],
   "source": [
    "df2= pd.DataFrame(data_reduced, columns = [\"tsne1\",\"tsne2\"])\n",
    "df2"
   ]
  },
  {
   "cell_type": "markdown",
   "metadata": {
    "id": "s7uiHdrWe7vp"
   },
   "source": [
    "How many information we can describe with 2 components?"
   ]
  },
  {
   "cell_type": "code",
   "execution_count": null,
   "metadata": {
    "id": "fJSJ3tiie5Ou"
   },
   "outputs": [],
   "source": []
  },
  {
   "cell_type": "markdown",
   "metadata": {
    "id": "WTf4b5ePe-rx"
   },
   "source": [
    "Create a scatter plott"
   ]
  },
  {
   "cell_type": "code",
   "execution_count": 67,
   "metadata": {
    "id": "Yb1F8jlXe_Oq"
   },
   "outputs": [
    {
     "data": {
      "text/plain": [
       "<matplotlib.collections.PathCollection at 0x210241b5490>"
      ]
     },
     "execution_count": 67,
     "metadata": {},
     "output_type": "execute_result"
    },
    {
     "data": {
      "image/png": "[encoded data removed]",
      "text/plain": [
       "<Figure size 432x288 with 1 Axes>"
      ]
     },
     "metadata": {
      "needs_background": "light"
     },
     "output_type": "display_data"
    }
   ],
   "source": [
    "plt.scatter(df2['tsne1'],df2['tsne2'], c=colors)"
   ]
  },
  {
   "cell_type": "code",
   "execution_count": null,
   "metadata": {},
   "outputs": [],
   "source": []
  }
 ],
 "metadata": {
  "colab": {
   "collapsed_sections": [],
   "name": "main.ipynb",
   "provenance": []
  },
  "kernelspec": {
   "display_name": "Python 3 (ipykernel)",
   "language": "python",
   "name": "python3"
  },
  "language_info": {
   "codemirror_mode": {
    "name": "ipython",
    "version": 3
   },
   "file_extension": ".py",
   "mimetype": "text/x-python",
   "name": "python",
   "nbconvert_exporter": "python",
   "pygments_lexer": "ipython3",
   "version": "3.9.7"
  },
  "toc": {
   "base_numbering": 1,
   "nav_menu": {},
   "number_sections": true,
   "sideBar": true,
   "skip_h1_title": false,
   "title_cell": "Table of Contents",
   "title_sidebar": "Contents",
   "toc_cell": false,
   "toc_position": {},
   "toc_section_display": true,
   "toc_window_display": false
  },
  "varInspector": {
   "cols": {
    "lenName": 16,
    "lenType": 16,
    "lenVar": 40
   },
   "kernels_config": {
    "python": {
     "delete_cmd_postfix": "",
     "delete_cmd_prefix": "del ",
     "library": "var_list.py",
     "varRefreshCmd": "print(var_dic_list())"
    },
    "r": {
     "delete_cmd_postfix": ") ",
     "delete_cmd_prefix": "rm(",
     "library": "var_list.r",
     "varRefreshCmd": "cat(var_dic_list()) "
    }
   },
   "types_to_exclude": [
    "module",
    "function",
    "builtin_function_or_method",
    "instance",
    "_Feature"
   ],
   "window_display": false
  }
 },
 "nbformat": 4,
 "nbformat_minor": 1
}
