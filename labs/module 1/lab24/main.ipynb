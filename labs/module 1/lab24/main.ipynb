{
 "cells": [
  {
   "cell_type": "markdown",
   "metadata": {},
   "source": [
    "# Intrduction to NumPy\n",
    "\n",
    "\n",
    "#### 1. Import NumPy under the name np."
   ]
  },
  {
   "cell_type": "code",
   "execution_count": 192,
   "metadata": {},
   "outputs": [],
   "source": [
    "# your code here\n",
    "import numpy as np"
   ]
  },
  {
   "cell_type": "markdown",
   "metadata": {},
   "source": [
    "#### 2. Print your NumPy version."
   ]
  },
  {
   "cell_type": "code",
   "execution_count": 193,
   "metadata": {},
   "outputs": [
    {
     "name": "stdout",
     "output_type": "stream",
     "text": [
      "1.20.1\n"
     ]
    }
   ],
   "source": [
    "# your code here\n",
    "print(np.__version__)"
   ]
  },
  {
   "cell_type": "markdown",
   "metadata": {},
   "source": [
    "#### 3. Generate a 2x3x5 3-dimensional array with random values. Assign the array to variable *a*.\n",
    "**Challenge**: there are at least three easy ways that use numpy to generate random arrays. How many ways can you find?"
   ]
  },
  {
   "cell_type": "code",
   "execution_count": 194,
   "metadata": {},
   "outputs": [
    {
     "data": {
      "text/plain": [
       "array([[[0.51182162, 0.9504637 , 0.14415961, 0.94864945, 0.31183145],\n",
       "        [0.42332645, 0.82770259, 0.40919914, 0.54959369, 0.02755911],\n",
       "        [0.75351311, 0.53814331, 0.32973172, 0.7884287 , 0.30319483]],\n",
       "\n",
       "       [[0.45349789, 0.1340417 , 0.40311299, 0.20345524, 0.26231334],\n",
       "        [0.75036467, 0.28040876, 0.48519097, 0.9807372 , 0.96165719],\n",
       "        [0.72478994, 0.54122686, 0.2768912 , 0.16065201, 0.96992541]]])"
      ]
     },
     "execution_count": 194,
     "metadata": {},
     "output_type": "execute_result"
    }
   ],
   "source": [
    "# Method 1\n",
    "rg = np.random.default_rng(1) \n",
    "a=rg.random((2,3,5)) \n",
    "a"
   ]
  },
  {
   "cell_type": "code",
   "execution_count": 195,
   "metadata": {},
   "outputs": [
    {
     "data": {
      "text/plain": [
       "array([[[0.18735616, 0.91996607, 0.66168682, 0.35465348, 0.95358968],\n",
       "        [0.1451573 , 0.17339121, 0.5091223 , 0.02587329, 0.46096725],\n",
       "        [0.87327477, 0.05154621, 0.87417141, 0.30936865, 0.58303425]],\n",
       "\n",
       "       [[0.59384567, 0.08075741, 0.73852591, 0.70636762, 0.03926711],\n",
       "        [0.81522137, 0.61002174, 0.51947912, 0.54601431, 0.21277006],\n",
       "        [0.44711181, 0.35430245, 0.75567209, 0.12113423, 0.58731077]]])"
      ]
     },
     "execution_count": 195,
     "metadata": {},
     "output_type": "execute_result"
    }
   ],
   "source": [
    "# Method 2\n",
    "a= np.random.rand(2,3,5)\n",
    "a"
   ]
  },
  {
   "cell_type": "code",
   "execution_count": 175,
   "metadata": {},
   "outputs": [],
   "source": [
    "# Method 3\n",
    "a = np.random.randint(100, size=(2,3,5)) #range 100, size 2,3,5"
   ]
  },
  {
   "cell_type": "markdown",
   "metadata": {},
   "source": [
    "#### 4. Print *a*.\n"
   ]
  },
  {
   "cell_type": "code",
   "execution_count": 196,
   "metadata": {},
   "outputs": [
    {
     "data": {
      "text/plain": [
       "array([[[0.18735616, 0.91996607, 0.66168682, 0.35465348, 0.95358968],\n",
       "        [0.1451573 , 0.17339121, 0.5091223 , 0.02587329, 0.46096725],\n",
       "        [0.87327477, 0.05154621, 0.87417141, 0.30936865, 0.58303425]],\n",
       "\n",
       "       [[0.59384567, 0.08075741, 0.73852591, 0.70636762, 0.03926711],\n",
       "        [0.81522137, 0.61002174, 0.51947912, 0.54601431, 0.21277006],\n",
       "        [0.44711181, 0.35430245, 0.75567209, 0.12113423, 0.58731077]]])"
      ]
     },
     "execution_count": 196,
     "metadata": {},
     "output_type": "execute_result"
    }
   ],
   "source": [
    "# your code here\n",
    "a"
   ]
  },
  {
   "cell_type": "markdown",
   "metadata": {},
   "source": [
    "#### 5. Create a 5x2x3 3-dimensional array with all values equaling 1. Assign the array to variable *b*."
   ]
  },
  {
   "cell_type": "code",
   "execution_count": 197,
   "metadata": {},
   "outputs": [],
   "source": [
    "# your code here\n",
    "b = np.full((5,2,3),1)"
   ]
  },
  {
   "cell_type": "markdown",
   "metadata": {},
   "source": [
    "#### 6. Print *b*.\n"
   ]
  },
  {
   "cell_type": "code",
   "execution_count": 198,
   "metadata": {},
   "outputs": [
    {
     "data": {
      "text/plain": [
       "array([[[1, 1, 1],\n",
       "        [1, 1, 1]],\n",
       "\n",
       "       [[1, 1, 1],\n",
       "        [1, 1, 1]],\n",
       "\n",
       "       [[1, 1, 1],\n",
       "        [1, 1, 1]],\n",
       "\n",
       "       [[1, 1, 1],\n",
       "        [1, 1, 1]],\n",
       "\n",
       "       [[1, 1, 1],\n",
       "        [1, 1, 1]]])"
      ]
     },
     "execution_count": 198,
     "metadata": {},
     "output_type": "execute_result"
    }
   ],
   "source": [
    "# your code here\n",
    "b"
   ]
  },
  {
   "cell_type": "markdown",
   "metadata": {},
   "source": [
    "#### 7. Do *a* and *b* have the same size? How do you prove that in Python code?"
   ]
  },
  {
   "cell_type": "code",
   "execution_count": 199,
   "metadata": {},
   "outputs": [
    {
     "name": "stdout",
     "output_type": "stream",
     "text": [
      "a and b have the same size\n"
     ]
    }
   ],
   "source": [
    "# your code here\n",
    "if a.size == b.size:\n",
    "    print('a and b have the same size')\n",
    "else:\n",
    "    print('they do not have the same size')"
   ]
  },
  {
   "cell_type": "markdown",
   "metadata": {},
   "source": [
    "#### 8. Are you able to add *a* and *b*? Why or why not?\n"
   ]
  },
  {
   "cell_type": "code",
   "execution_count": 200,
   "metadata": {},
   "outputs": [
    {
     "ename": "ValueError",
     "evalue": "operands could not be broadcast together with shapes (2,3,5) (5,2,3) ",
     "output_type": "error",
     "traceback": [
      "\u001b[1;31m---------------------------------------------------------------------------\u001b[0m",
      "\u001b[1;31mValueError\u001b[0m                                Traceback (most recent call last)",
      "\u001b[1;32m<ipython-input-200-2e1d8966dbc6>\u001b[0m in \u001b[0;36m<module>\u001b[1;34m\u001b[0m\n\u001b[0;32m      1\u001b[0m \u001b[1;31m# your answer here\u001b[0m\u001b[1;33m\u001b[0m\u001b[1;33m\u001b[0m\u001b[1;33m\u001b[0m\u001b[0m\n\u001b[1;32m----> 2\u001b[1;33m \u001b[0ma\u001b[0m\u001b[1;33m+\u001b[0m\u001b[0mb\u001b[0m\u001b[1;33m\u001b[0m\u001b[1;33m\u001b[0m\u001b[0m\n\u001b[0m\u001b[0;32m      3\u001b[0m \u001b[1;31m# Cannot be added together because shapes are not the same\u001b[0m\u001b[1;33m\u001b[0m\u001b[1;33m\u001b[0m\u001b[1;33m\u001b[0m\u001b[0m\n",
      "\u001b[1;31mValueError\u001b[0m: operands could not be broadcast together with shapes (2,3,5) (5,2,3) "
     ]
    }
   ],
   "source": [
    "# your answer here\n",
    "a+b\n",
    "# Cannot be added together because shapes are not the same "
   ]
  },
  {
   "cell_type": "markdown",
   "metadata": {},
   "source": [
    "#### 9. Transpose *b* so that it has the same structure of *a* (i.e. become a 2x3x5 array). Assign the transposed array to variable *c*."
   ]
  },
  {
   "cell_type": "code",
   "execution_count": 201,
   "metadata": {},
   "outputs": [
    {
     "data": {
      "text/plain": [
       "array([[[1, 1, 1, 1, 1],\n",
       "        [1, 1, 1, 1, 1],\n",
       "        [1, 1, 1, 1, 1]],\n",
       "\n",
       "       [[1, 1, 1, 1, 1],\n",
       "        [1, 1, 1, 1, 1],\n",
       "        [1, 1, 1, 1, 1]]])"
      ]
     },
     "execution_count": 201,
     "metadata": {},
     "output_type": "execute_result"
    }
   ],
   "source": [
    "# your code here\n",
    "c = np.reshape(b,(2,3,5))\n",
    "c"
   ]
  },
  {
   "cell_type": "markdown",
   "metadata": {},
   "source": [
    "#### 10. Try to add *a* and *c*. Now it should work. Assign the sum to variable *d*. But why does it work now?"
   ]
  },
  {
   "cell_type": "code",
   "execution_count": 202,
   "metadata": {},
   "outputs": [
    {
     "data": {
      "text/plain": [
       "array([[[1.18735616, 1.91996607, 1.66168682, 1.35465348, 1.95358968],\n",
       "        [1.1451573 , 1.17339121, 1.5091223 , 1.02587329, 1.46096725],\n",
       "        [1.87327477, 1.05154621, 1.87417141, 1.30936865, 1.58303425]],\n",
       "\n",
       "       [[1.59384567, 1.08075741, 1.73852591, 1.70636762, 1.03926711],\n",
       "        [1.81522137, 1.61002174, 1.51947912, 1.54601431, 1.21277006],\n",
       "        [1.44711181, 1.35430245, 1.75567209, 1.12113423, 1.58731077]]])"
      ]
     },
     "execution_count": 202,
     "metadata": {},
     "output_type": "execute_result"
    }
   ],
   "source": [
    "# your code/answer here\n",
    "d = a+c\n",
    "d\n",
    "# It works because each value in array a has it mirror value in array d , so they can be summed up."
   ]
  },
  {
   "cell_type": "markdown",
   "metadata": {},
   "source": [
    "#### 11. Print *a* and *d*. Notice the difference and relation of the two array in terms of the values? Explain."
   ]
  },
  {
   "cell_type": "code",
   "execution_count": 203,
   "metadata": {},
   "outputs": [
    {
     "name": "stdout",
     "output_type": "stream",
     "text": [
      "[[[0.18735616 0.91996607 0.66168682 0.35465348 0.95358968]\n",
      "  [0.1451573  0.17339121 0.5091223  0.02587329 0.46096725]\n",
      "  [0.87327477 0.05154621 0.87417141 0.30936865 0.58303425]]\n",
      "\n",
      " [[0.59384567 0.08075741 0.73852591 0.70636762 0.03926711]\n",
      "  [0.81522137 0.61002174 0.51947912 0.54601431 0.21277006]\n",
      "  [0.44711181 0.35430245 0.75567209 0.12113423 0.58731077]]]\n",
      "\n",
      "[[[1.18735616 1.91996607 1.66168682 1.35465348 1.95358968]\n",
      "  [1.1451573  1.17339121 1.5091223  1.02587329 1.46096725]\n",
      "  [1.87327477 1.05154621 1.87417141 1.30936865 1.58303425]]\n",
      "\n",
      " [[1.59384567 1.08075741 1.73852591 1.70636762 1.03926711]\n",
      "  [1.81522137 1.61002174 1.51947912 1.54601431 1.21277006]\n",
      "  [1.44711181 1.35430245 1.75567209 1.12113423 1.58731077]]]\n"
     ]
    }
   ],
   "source": [
    "# your code/answer here\n",
    "print(a)\n",
    "print('')\n",
    "print(d)\n",
    "#all values of d is +1 to a. "
   ]
  },
  {
   "cell_type": "markdown",
   "metadata": {},
   "source": [
    "#### 12. Multiply *a* and *c*. Assign the result to *e*."
   ]
  },
  {
   "cell_type": "code",
   "execution_count": 204,
   "metadata": {},
   "outputs": [
    {
     "data": {
      "text/plain": [
       "array([[[0.18735616, 0.91996607, 0.66168682, 0.35465348, 0.95358968],\n",
       "        [0.1451573 , 0.17339121, 0.5091223 , 0.02587329, 0.46096725],\n",
       "        [0.87327477, 0.05154621, 0.87417141, 0.30936865, 0.58303425]],\n",
       "\n",
       "       [[0.59384567, 0.08075741, 0.73852591, 0.70636762, 0.03926711],\n",
       "        [0.81522137, 0.61002174, 0.51947912, 0.54601431, 0.21277006],\n",
       "        [0.44711181, 0.35430245, 0.75567209, 0.12113423, 0.58731077]]])"
      ]
     },
     "execution_count": 204,
     "metadata": {},
     "output_type": "execute_result"
    }
   ],
   "source": [
    "# your code here\n",
    "e = a*c\n",
    "e"
   ]
  },
  {
   "cell_type": "markdown",
   "metadata": {},
   "source": [
    "#### 13. Does *e* equal to *a*? Why or why not?\n"
   ]
  },
  {
   "cell_type": "code",
   "execution_count": 205,
   "metadata": {},
   "outputs": [],
   "source": [
    "# your code/answer here\n",
    "\n",
    "#Yes e equals to a since all values in c equal 1 the values of a don't change."
   ]
  },
  {
   "cell_type": "markdown",
   "metadata": {},
   "source": [
    "#### 14. Identify the max, min, and mean values in *d*. Assign those values to variables *d_max*, *d_min* and *d_mean*."
   ]
  },
  {
   "cell_type": "code",
   "execution_count": 206,
   "metadata": {},
   "outputs": [
    {
     "name": "stdout",
     "output_type": "stream",
     "text": [
      "1.953589683424962 1.0258732871058793 1.4736986838591146\n"
     ]
    }
   ],
   "source": [
    "# your code here\n",
    "d_max = np.max(d)\n",
    "d_min = np.min(d)\n",
    "d_mean = np.mean(d)\n",
    "print(d_max, d_min, d_mean)"
   ]
  },
  {
   "cell_type": "markdown",
   "metadata": {},
   "source": [
    "#### 15. Now we want to label the values in *d*. First create an empty array *f* with the same shape (i.e. 2x3x5) as *d* using `np.empty`.\n"
   ]
  },
  {
   "cell_type": "code",
   "execution_count": 207,
   "metadata": {},
   "outputs": [],
   "source": [
    "# your code here\n",
    "f = np.zeros(shape= (2,3,5), dtype=int)"
   ]
  },
  {
   "cell_type": "markdown",
   "metadata": {},
   "source": [
    "#### 16. Populate the values in *f*. \n",
    "\n",
    "For each value in *d*, if it's larger than *d_min* but smaller than *d_mean*, assign 25 to the corresponding value in *f*. If a value in *d* is larger than *d_mean* but smaller than *d_max*, assign 75 to the corresponding value in *f*. If a value equals to *d_mean*, assign 50 to the corresponding value in *f*. Assign 0 to the corresponding value(s) in *f* for *d_min* in *d*. Assign 100 to the corresponding value(s) in *f* for *d_max* in *d*. In the end, f should have only the following values: 0, 25, 50, 75, and 100.\n",
    "\n",
    "**Note**: you don't have to use Numpy in this question."
   ]
  },
  {
   "cell_type": "code",
   "execution_count": 208,
   "metadata": {},
   "outputs": [
    {
     "name": "stdout",
     "output_type": "stream",
     "text": [
      "[[[1 1 1 1 1]\n",
      "  [1 1 1 1 1]\n",
      "  [1 1 1 1 1]]\n",
      "\n",
      " [[1 1 1 1 1]\n",
      "  [1 1 1 1 1]\n",
      "  [1 1 1 1 1]]]\n",
      "1.0258732871058793\n",
      "1.953589683424962\n"
     ]
    },
    {
     "data": {
      "text/plain": [
       "1.4736986838591146"
      ]
     },
     "execution_count": 208,
     "metadata": {},
     "output_type": "execute_result"
    }
   ],
   "source": [
    "print(c)\n",
    "print(d_min)\n",
    "print(d_max)\n",
    "d_mean\n"
   ]
  },
  {
   "cell_type": "code",
   "execution_count": 209,
   "metadata": {},
   "outputs": [
    {
     "name": "stdout",
     "output_type": "stream",
     "text": [
      "1.1873561635563417\n",
      "1.919966074327076\n",
      "1.661686816952856\n",
      "1.3546534810886135\n",
      "1.953589683424962\n",
      "1.1451572969305404\n",
      "1.1733912051300015\n",
      "1.509122297801041\n",
      "1.0258732871058793\n",
      "1.4609672458176601\n",
      "1.873274768766524\n",
      "1.0515462100790196\n",
      "1.874171412500949\n",
      "1.309368647268423\n",
      "1.5830342486335418\n",
      "1.59384567036281\n",
      "1.0807574100466582\n",
      "1.7385259056813651\n",
      "1.7063676228894882\n",
      "1.0392671131039057\n",
      "1.81522137425386\n",
      "1.6100217409523223\n",
      "1.5194791151093128\n",
      "1.5460143103597543\n",
      "1.2127700625232043\n",
      "1.4471118087733195\n",
      "1.3543024531847898\n",
      "1.7556720874288474\n",
      "1.1211342273769582\n",
      "1.5873107743434052\n"
     ]
    }
   ],
   "source": [
    "for i in np.nditer(d):\n",
    "    print (i)"
   ]
  },
  {
   "cell_type": "code",
   "execution_count": 238,
   "metadata": {},
   "outputs": [
    {
     "name": "stdout",
     "output_type": "stream",
     "text": [
      "[[[1.18735616 1.91996607 1.66168682 1.35465348 1.95358968]\n",
      "  [1.1451573  1.17339121 1.5091223  1.02587329 1.46096725]\n",
      "  [1.87327477 1.05154621 1.87417141 1.30936865 1.58303425]]\n",
      "\n",
      " [[1.59384567 1.08075741 1.73852591 1.70636762 1.03926711]\n",
      "  [1.81522137 1.61002174 1.51947912 1.54601431 1.21277006]\n",
      "  [1.44711181 1.35430245 1.75567209 1.12113423 1.58731077]]]\n"
     ]
    },
    {
     "data": {
      "text/plain": [
       "array([[[ 25,  75,  75,  25, 100],\n",
       "        [ 25,  25,  75,   0,  25],\n",
       "        [ 75,  25,  75,  25,  75]],\n",
       "\n",
       "       [[ 75,  25,  75,  75,  25],\n",
       "        [ 75,  75,  75,  75,  25],\n",
       "        [ 25,  25,  75,  25,  75]]])"
      ]
     },
     "execution_count": 238,
     "metadata": {},
     "output_type": "execute_result"
    }
   ],
   "source": [
    "# your code here\n",
    "d = a+c\n",
    "f =[]\n",
    "for i in np.nditer(d):\n",
    "    \n",
    "            if i>d_min and i<d_mean:\n",
    "                f+=[25]\n",
    "            elif i>d_mean and i<d_max:\n",
    "                f+=[75]\n",
    "            elif i==d_mean:\n",
    "                f+=[50]\n",
    "            elif i==d_min:\n",
    "                f+=[0]\n",
    "            elif i==d_max:\n",
    "                f+=[100]\n",
    "\n",
    "f = np.reshape(f, d.shape) \n",
    "print(d)\n",
    "f\n",
    "\n"
   ]
  },
  {
   "cell_type": "markdown",
   "metadata": {},
   "source": [
    "#### 17. Print *d* and *f*. Do you have your expected *f*?\n",
    "For instance, if your *d* is:\n",
    "```python\n",
    "[[[1.85836099, 1.67064465, 1.62576044, 1.40243961, 1.88454931],\n",
    "[1.75354326, 1.69403643, 1.36729252, 1.61415071, 1.12104981],\n",
    "[1.72201435, 1.1862918 , 1.87078449, 1.7726778 , 1.88180042]],\n",
    "[[1.44747908, 1.31673383, 1.02000951, 1.52218947, 1.97066381],\n",
    "[1.79129243, 1.74983003, 1.96028037, 1.85166831, 1.65450881],\n",
    "[1.18068344, 1.9587381 , 1.00656599, 1.93402165, 1.73514584]]]\n",
    "```\n",
    "Your *f* should be:\n",
    "```python\n",
    "[[[ 75.,  75.,  75.,  25.,  75.],\n",
    "[ 75.,  75.,  25.,  25.,  25.],\n",
    "[ 75.,  25.,  75.,  75.,  75.]],\n",
    "[[ 25.,  25.,  25.,  25., 100.],\n",
    "[ 75.,  75.,  75.,  75.,  75.],\n",
    "[ 25.,  75.,   0.,  75.,  75.]]]\n",
    "```"
   ]
  },
  {
   "cell_type": "code",
   "execution_count": 239,
   "metadata": {},
   "outputs": [
    {
     "name": "stdout",
     "output_type": "stream",
     "text": [
      "[[[1.18735616 1.91996607 1.66168682 1.35465348 1.95358968]\n",
      "  [1.1451573  1.17339121 1.5091223  1.02587329 1.46096725]\n",
      "  [1.87327477 1.05154621 1.87417141 1.30936865 1.58303425]]\n",
      "\n",
      " [[1.59384567 1.08075741 1.73852591 1.70636762 1.03926711]\n",
      "  [1.81522137 1.61002174 1.51947912 1.54601431 1.21277006]\n",
      "  [1.44711181 1.35430245 1.75567209 1.12113423 1.58731077]]]\n",
      "\n",
      "[[[ 25  75  75  25 100]\n",
      "  [ 25  25  75   0  25]\n",
      "  [ 75  25  75  25  75]]\n",
      "\n",
      " [[ 75  25  75  75  25]\n",
      "  [ 75  75  75  75  25]\n",
      "  [ 25  25  75  25  75]]]\n"
     ]
    }
   ],
   "source": [
    "# your code here\n",
    "print(d)\n",
    "print('')\n",
    "print(f)"
   ]
  },
  {
   "cell_type": "markdown",
   "metadata": {},
   "source": [
    "#### 18. Bonus question: instead of using numbers (i.e. 0, 25, 50, 75, and 100), use string values  (\"A\", \"B\", \"C\", \"D\", and \"E\") to label the array elements. For the example above, the expected result is:\n",
    "\n",
    "```python\n",
    "[[[ 'D',  'D',  'D',  'B',  'D'],\n",
    "[ 'D',  'D',  'B',  'B',  'B'],\n",
    "[ 'D',  'B',  'D',  'D',  'D']],\n",
    "[[ 'B',  'B',  'B',  'B',  'E'],\n",
    "[ 'D',  'D',  'D',  'D',  'D'],\n",
    "[ 'B',  'D',   'A',  'D', 'D']]]\n",
    "```\n",
    "**Note**: you don't have to use Numpy in this question."
   ]
  },
  {
   "cell_type": "code",
   "execution_count": 240,
   "metadata": {},
   "outputs": [
    {
     "data": {
      "text/plain": [
       "['B']"
      ]
     },
     "execution_count": 240,
     "metadata": {},
     "output_type": "execute_result"
    }
   ],
   "source": [
    "# your code here\n",
    "for i in np.nditer(f):\n",
    "    if i == 0:\n",
    "        f=['E']\n",
    "    elif i == 25:\n",
    "        f=['D']\n",
    "    elif i == 50:\n",
    "        f=['C']\n",
    "    elif i== 75:\n",
    "        f=['B']\n",
    "    elif i == 100:\n",
    "        f=['A']\n",
    "f\n",
    "    \n"
   ]
  },
  {
   "cell_type": "code",
   "execution_count": null,
   "metadata": {},
   "outputs": [],
   "source": []
  }
 ],
 "metadata": {
  "kernelspec": {
   "display_name": "Python 3",
   "language": "python",
   "name": "python3"
  },
  "language_info": {
   "codemirror_mode": {
    "name": "ipython",
    "version": 3
   },
   "file_extension": ".py",
   "mimetype": "text/x-python",
   "name": "python",
   "nbconvert_exporter": "python",
   "pygments_lexer": "ipython3",
   "version": "3.8.8"
  }
 },
 "nbformat": 4,
 "nbformat_minor": 2
}
