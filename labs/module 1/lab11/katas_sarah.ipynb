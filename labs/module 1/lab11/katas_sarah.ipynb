{
 "cells": [
  {
   "cell_type": "code",
   "execution_count": 6,
   "id": "db4b50b6",
   "metadata": {},
   "outputs": [
    {
     "name": "stdout",
     "output_type": "stream",
     "text": [
      "[2, 2, 4]\n"
     ]
    }
   ],
   "source": [
    "# Exercise 1\n",
    "def function(list1,list2):\n",
    "    l = list()\n",
    "    for element in list1:\n",
    "        if element not in list2:\n",
    "            l.append(element)\n",
    "    print(l)\n",
    "\n",
    "integer_list = [1, 1, 2 ,3 ,1 ,2 ,3 ,4]\n",
    "values_list = [1, 3]\n",
    "function(integer_list,values_list)\n"
   ]
  },
  {
   "cell_type": "code",
   "execution_count": 21,
   "id": "0f1ff406",
   "metadata": {},
   "outputs": [
    {
     "name": "stdout",
     "output_type": "stream",
     "text": [
      "[(1, 0), (7, 3), (6, 6), (2, 3), (4, 0)]\n"
     ]
    }
   ],
   "source": [
    "#Exercise 2 \n",
    "def count_spec_digits(integersList,digitList):\n",
    "\n",
    "    result=list()\n",
    "    result_list=list()\n",
    "\n",
    "    integerString=' '.join([str(item) for item in integersList])   #transform first list to string in order to count occurences\n",
    "\n",
    "    for i in range(0,(len(digitList))):\n",
    "        result.append((integerString.count(str(digitList[i]))))    #append a new list with the number of occurences\n",
    "\n",
    "    result_list=list(zip(digitList,result))    #merge the two lists as tuples in a new list\n",
    "    print(result_list)\n",
    "\n",
    "integers_List =  [-77, -65, 56, -79, 6666, 222]\n",
    "digit_List = [1,7,6,2,4]\n",
    "\n",
    "count_spec_digits(integers_List,digit_List)"
   ]
  },
  {
   "cell_type": "code",
   "execution_count": 46,
   "id": "758eb8d7",
   "metadata": {},
   "outputs": [
    {
     "name": "stdout",
     "output_type": "stream",
     "text": [
      "[['a', 5], ['b', 2], ['r', 2], ['c', 1], ['d', 1]]\n"
     ]
    }
   ],
   "source": [
    "#Exercise 3 :\n",
    "# ordered_count(\"abracadabra\") == [('a', 5), ('b', 2), ('r', 2), ('c', 1), ('d', 1)]\n",
    "\n",
    "def ordered_count(sentence):\n",
    "    empty_list = list()\n",
    "    letterAlreadyFound = ''\n",
    "    for i in sentence: \n",
    "        if i not in letterAlreadyFound:\n",
    "            empty_list.append([i,(sentence.count(i))])  #[i,(sentence.count(i))]\n",
    "            letterAlreadyFound = letterAlreadyFound + i\n",
    "    \n",
    "    print(empty_list)\n",
    "\n",
    "sentence='abracadabra'\n",
    "ordered_count(sentence)\n",
    "        \n"
   ]
  },
  {
   "cell_type": "code",
   "execution_count": null,
   "id": "dd7898b2",
   "metadata": {},
   "outputs": [],
   "source": []
  }
 ],
 "metadata": {
  "kernelspec": {
   "display_name": "Python 3",
   "language": "python",
   "name": "python3"
  },
  "language_info": {
   "codemirror_mode": {
    "name": "ipython",
    "version": 3
   },
   "file_extension": ".py",
   "mimetype": "text/x-python",
   "name": "python",
   "nbconvert_exporter": "python",
   "pygments_lexer": "ipython3",
   "version": "3.8.8"
  }
 },
 "nbformat": 4,
 "nbformat_minor": 5
}
