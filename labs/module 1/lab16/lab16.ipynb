{
 "cells": [
  {
   "cell_type": "markdown",
   "metadata": {},
   "source": [
    "# Web Scraping Lab\n",
    "\n",
    "You will find in this notebook some scrapy exercises to practise your scraping skills.\n",
    "\n",
    "**Tips:**\n",
    "\n",
    "- Check the response status code for each request to ensure you have obtained the intended content.\n",
    "- Print the response text in each request to understand the kind of info you are getting and its format.\n",
    "- Check for patterns in the response text to extract the data/info requested in each question.\n",
    "- Visit the urls below and take a look at their source code through Chrome DevTools. You'll need to identify the html tags, special class names, etc used in the html content you are expected to extract.\n",
    "\n",
    "**Resources**:\n",
    "- [Requests library](http://docs.python-requests.org/en/master/#the-user-guide)\n",
    "- [Beautiful Soup Doc](https://www.crummy.com/software/BeautifulSoup/bs4/doc/)\n",
    "- [Urllib](https://docs.python.org/3/library/urllib.html#module-urllib)\n",
    "- [re lib](https://docs.python.org/3/library/re.html)\n",
    "- [lxml lib](https://lxml.de/)\n",
    "- [Scrapy](https://scrapy.org/)\n",
    "- [List of HTTP status codes](https://en.wikipedia.org/wiki/List_of_HTTP_status_codes)\n",
    "- [HTML basics](http://www.simplehtmlguide.com/cheatsheet.php)\n",
    "- [CSS basics](https://www.cssbasics.com/#page_start)"
   ]
  },
  {
   "cell_type": "markdown",
   "metadata": {},
   "source": [
    "#### Below are the libraries and modules you may need. `requests`,  `BeautifulSoup` and `pandas` are already imported for you. If you prefer to use additional libraries feel free to do it."
   ]
  },
  {
   "cell_type": "code",
   "execution_count": 1,
   "metadata": {},
   "outputs": [],
   "source": [
    "import requests\n",
    "from bs4 import BeautifulSoup\n",
    "import pandas as pd"
   ]
  },
  {
   "cell_type": "markdown",
   "metadata": {},
   "source": [
    "#### Download, parse (using BeautifulSoup), and print the content from the Trending Developers page from GitHub:"
   ]
  },
  {
   "cell_type": "code",
   "execution_count": 2,
   "metadata": {},
   "outputs": [],
   "source": [
    "# This is the url you will scrape in this exercise\n",
    "url = 'https://github.com/trending/developers'"
   ]
  },
  {
   "cell_type": "markdown",
   "metadata": {},
   "source": [
    "# Display the names of the trending developers retrieved in the previous step.\n",
    "\n",
    "Your output should be a Python list of developer names. Each name should not contain any html tag.\n",
    "\n",
    "**Instructions:**\n",
    "\n",
    "1. Find out the html tag and class names used for the developer names. You can achieve this using Chrome DevTools.\n",
    "\n",
    "1. Use BeautifulSoup to extract all the html elements that contain the developer names.\n",
    "\n",
    "1. Use string manipulation techniques to replace whitespaces and linebreaks (i.e. `\\n`) in the *text* of each html element. Use a list to store the clean names.\n",
    "\n",
    "1. Print the list of names.\n",
    "\n",
    "Your output should look like below:\n",
    "\n",
    "```\n",
    "['trimstray (@trimstray)',\n",
    " 'joewalnes (JoeWalnes)',\n",
    " 'charlax (Charles-AxelDein)',\n",
    " 'ForrestKnight (ForrestKnight)',\n",
    " 'revery-ui (revery-ui)',\n",
    " 'alibaba (Alibaba)',\n",
    " 'Microsoft (Microsoft)',\n",
    " 'github (GitHub)',\n",
    " 'facebook (Facebook)',\n",
    " 'boazsegev (Bo)',\n",
    " 'google (Google)',\n",
    " 'cloudfetch',\n",
    " 'sindresorhus (SindreSorhus)',\n",
    " 'tensorflow',\n",
    " 'apache (TheApacheSoftwareFoundation)',\n",
    " 'DevonCrawford (DevonCrawford)',\n",
    " 'ARMmbed (ArmMbed)',\n",
    " 'vuejs (vuejs)',\n",
    " 'fastai (fast.ai)',\n",
    " 'QiShaoXuan (Qi)',\n",
    " 'joelparkerhenderson (JoelParkerHenderson)',\n",
    " 'torvalds (LinusTorvalds)',\n",
    " 'CyC2018',\n",
    " 'komeiji-satori (神楽坂覚々)',\n",
    " 'script-8']\n",
    " ```"
   ]
  },
  {
   "cell_type": "code",
   "execution_count": 3,
   "metadata": {},
   "outputs": [
    {
     "ename": "NameError",
     "evalue": "name 'soup' is not defined",
     "output_type": "error",
     "traceback": [
      "\u001b[1;31m---------------------------------------------------------------------------\u001b[0m",
      "\u001b[1;31mNameError\u001b[0m                                 Traceback (most recent call last)",
      "\u001b[1;32m~\\AppData\\Local\\Temp/ipykernel_7540/1190104675.py\u001b[0m in \u001b[0;36m<module>\u001b[1;34m\u001b[0m\n\u001b[0;32m      1\u001b[0m \u001b[0mtags\u001b[0m \u001b[1;33m=\u001b[0m \u001b[1;33m[\u001b[0m\u001b[1;34m'h1'\u001b[0m\u001b[1;33m]\u001b[0m \u001b[1;31m#tags are here\u001b[0m\u001b[1;33m\u001b[0m\u001b[1;33m\u001b[0m\u001b[0m\n\u001b[1;32m----> 2\u001b[1;33m \u001b[0mtext\u001b[0m \u001b[1;33m=\u001b[0m \u001b[1;33m[\u001b[0m\u001b[0melement\u001b[0m\u001b[1;33m.\u001b[0m\u001b[0mtext\u001b[0m \u001b[1;32mfor\u001b[0m \u001b[0melement\u001b[0m \u001b[1;32min\u001b[0m \u001b[0msoup\u001b[0m\u001b[1;33m.\u001b[0m\u001b[0mfind_all\u001b[0m\u001b[1;33m(\u001b[0m\u001b[0mtags\u001b[0m\u001b[1;33m)\u001b[0m\u001b[1;33m]\u001b[0m \u001b[1;31m#we want to find the elements that are related to these tags\u001b[0m\u001b[1;33m\u001b[0m\u001b[1;33m\u001b[0m\u001b[0m\n\u001b[0m\u001b[0;32m      3\u001b[0m \u001b[0mlst\u001b[0m\u001b[1;33m=\u001b[0m\u001b[0mlist\u001b[0m\u001b[1;33m(\u001b[0m\u001b[1;33m)\u001b[0m\u001b[1;33m\u001b[0m\u001b[1;33m\u001b[0m\u001b[0m\n\u001b[0;32m      4\u001b[0m \u001b[1;32mfor\u001b[0m \u001b[0mi\u001b[0m \u001b[1;32min\u001b[0m \u001b[0mtext\u001b[0m\u001b[1;33m:\u001b[0m\u001b[1;33m\u001b[0m\u001b[1;33m\u001b[0m\u001b[0m\n\u001b[0;32m      5\u001b[0m     \u001b[0mi\u001b[0m\u001b[1;33m=\u001b[0m\u001b[0mi\u001b[0m\u001b[1;33m.\u001b[0m\u001b[0mstrip\u001b[0m\u001b[1;33m(\u001b[0m\u001b[1;34m'\\n'\u001b[0m\u001b[1;33m)\u001b[0m\u001b[1;33m\u001b[0m\u001b[1;33m\u001b[0m\u001b[0m\n",
      "\u001b[1;31mNameError\u001b[0m: name 'soup' is not defined"
     ]
    }
   ],
   "source": [
    "tags = ['h1'] #tags are here \n",
    "text = [element.text for element in soup.find_all(tags)] #we want to find the elements that are related to these tags\n",
    "lst=list()\n",
    "for i in text:\n",
    "    i=i.strip('\\n')\n",
    "    i=i.strip()\n",
    "    lst.append(i)\n",
    "lst.pop(0)"
   ]
  },
  {
   "cell_type": "code",
   "execution_count": null,
   "metadata": {},
   "outputs": [],
   "source": [
    "newlst =list()\n",
    "for i in range(0,(len(lst)-1),2):\n",
    "    l=lst[i],lst[i+1]\n",
    "    newlst.append(l)\n",
    "print(newlst)\n"
   ]
  },
  {
   "cell_type": "markdown",
   "metadata": {},
   "source": [
    "#### Display the trending Python repositories in GitHub.\n",
    "\n",
    "The steps to solve this problem is similar to the previous one except that you need to find out the repository names instead of developer names."
   ]
  },
  {
   "cell_type": "code",
   "execution_count": null,
   "metadata": {},
   "outputs": [],
   "source": [
    "# This is the url you will scrape in this exercise\n",
    "url = 'https://github.com/trending/python?since=daily'"
   ]
  },
  {
   "cell_type": "code",
   "execution_count": 4,
   "metadata": {},
   "outputs": [
    {
     "data": {
      "text/plain": [
       "[]"
      ]
     },
     "execution_count": 4,
     "metadata": {},
     "output_type": "execute_result"
    }
   ],
   "source": [
    "# your code here\n",
    "url = 'https://github.com/trending/python?since=daily'\n",
    "r2 = requests.get(url).content\n",
    "soup2 = BeautifulSoup(r2, 'lxml') #lxml is the format we are trying to read\n",
    "tags = ['span class=\"text-normal\" data-view-component=\"true\"']\n",
    "text = [element.text for element in soup2.find_all(tags)] #we want to find the elements that are related to these tags\n",
    "text"
   ]
  },
  {
   "cell_type": "code",
   "execution_count": 6,
   "metadata": {},
   "outputs": [
    {
     "data": {
      "text/plain": [
       "[<span class=\"text-normal\" data-view-component=\"true\">\n",
       "         Tencent /\n",
       " </span>,\n",
       " <span class=\"text-normal\" data-view-component=\"true\">\n",
       "         PyGithub /\n",
       " </span>,\n",
       " <span class=\"text-normal\" data-view-component=\"true\">\n",
       "         cert-ee /\n",
       " </span>,\n",
       " <span class=\"text-normal\" data-view-component=\"true\">\n",
       "         NCSC-NL /\n",
       " </span>,\n",
       " <span class=\"text-normal\" data-view-component=\"true\">\n",
       "         CyberPunkMetalHead /\n",
       " </span>,\n",
       " <span class=\"text-normal\" data-view-component=\"true\">\n",
       "         PyTorchLightning /\n",
       " </span>,\n",
       " <span class=\"text-normal\" data-view-component=\"true\">\n",
       "         mpcabete /\n",
       " </span>,\n",
       " <span class=\"text-normal\" data-view-component=\"true\">\n",
       "         sml2h3 /\n",
       " </span>,\n",
       " <span class=\"text-normal\" data-view-component=\"true\">\n",
       "         MIC-DKFZ /\n",
       " </span>,\n",
       " <span class=\"text-normal\" data-view-component=\"true\">\n",
       "         crowsonkb /\n",
       " </span>,\n",
       " <span class=\"text-normal\" data-view-component=\"true\">\n",
       "         JMTHON-AR /\n",
       " </span>,\n",
       " <span class=\"text-normal\" data-view-component=\"true\">\n",
       "         commaai /\n",
       " </span>,\n",
       " <span class=\"text-normal\" data-view-component=\"true\">\n",
       "         edx /\n",
       " </span>,\n",
       " <span class=\"text-normal\" data-view-component=\"true\">\n",
       "         Asabeneh /\n",
       " </span>,\n",
       " <span class=\"text-normal\" data-view-component=\"true\">\n",
       "         Azure /\n",
       " </span>,\n",
       " <span class=\"text-normal\" data-view-component=\"true\">\n",
       "         PaddlePaddle /\n",
       " </span>,\n",
       " <span class=\"text-normal\" data-view-component=\"true\">\n",
       "         huggingface /\n",
       " </span>,\n",
       " <span class=\"text-normal\" data-view-component=\"true\">\n",
       "         momosecurity /\n",
       " </span>,\n",
       " <span class=\"text-normal\" data-view-component=\"true\">\n",
       "         locustio /\n",
       " </span>,\n",
       " <span class=\"text-normal\" data-view-component=\"true\">\n",
       "         open-mmlab /\n",
       " </span>,\n",
       " <span class=\"text-normal\" data-view-component=\"true\">\n",
       "         Megvii-BaseDetection /\n",
       " </span>,\n",
       " <span class=\"text-normal\" data-view-component=\"true\">\n",
       "         jackfrued /\n",
       " </span>,\n",
       " <span class=\"text-normal\" data-view-component=\"true\">\n",
       "         cython /\n",
       " </span>,\n",
       " <span class=\"text-normal\" data-view-component=\"true\">\n",
       "         google-research /\n",
       " </span>,\n",
       " <span class=\"text-normal\" data-view-component=\"true\">\n",
       "         dwyl /\n",
       " </span>]"
      ]
     },
     "execution_count": 6,
     "metadata": {},
     "output_type": "execute_result"
    }
   ],
   "source": [
    "repos = []\n",
    "repos2 = []\n",
    "\n",
    "repos = soup2.findAll('span',{'class':'text-normal'})\n",
    "for item in repos:\n",
    "    repos2.append(item.text.strip().strip('/').strip())\n",
    "repos2\n"
   ]
  },
  {
   "cell_type": "markdown",
   "metadata": {},
   "source": [
    "#### Display all the image links from Walt Disney wikipedia page."
   ]
  },
  {
   "cell_type": "code",
   "execution_count": null,
   "metadata": {},
   "outputs": [],
   "source": [
    "# This is the url you will scrape in this exercise\n",
    "url = 'https://en.wikipedia.org/wiki/Walt_Disney'"
   ]
  },
  {
   "cell_type": "code",
   "execution_count": 7,
   "metadata": {},
   "outputs": [
    {
     "name": "stdout",
     "output_type": "stream",
     "text": [
      " : \n",
      " : \n",
      " : \n",
      " : \n",
      "@Lingghh : https://avatars.githubusercontent.com/u/5992684?s=40&v=4\n",
      "@zhang9w0v5 : https://avatars.githubusercontent.com/u/5045948?s=40&v=4\n",
      "@bensonhome : https://avatars.githubusercontent.com/u/13017362?s=40&v=4\n",
      "@jacquev6 : https://avatars.githubusercontent.com/u/327146?s=40&v=4\n",
      "@s-t-e-v-e-n-k : https://avatars.githubusercontent.com/u/15225059?s=40&v=4\n",
      "@sfdye : https://avatars.githubusercontent.com/u/1016390?s=40&v=4\n",
      "@akfish : https://avatars.githubusercontent.com/u/922715?s=40&v=4\n",
      "@jzelinskie : https://avatars.githubusercontent.com/u/343539?s=40&v=4\n",
      "@amadisson : https://avatars.githubusercontent.com/u/8858760?s=40&v=4\n",
      "@pbeij : https://avatars.githubusercontent.com/u/96001122?s=40&v=4\n",
      "@DFFspace : https://avatars.githubusercontent.com/u/69241933?s=40&v=4\n",
      "@count0x00 : https://avatars.githubusercontent.com/u/17312174?s=40&v=4\n",
      "@stijnos1991 : https://avatars.githubusercontent.com/u/23038729?s=40&v=4\n",
      "@tschmidtb51 : https://avatars.githubusercontent.com/u/65305130?s=40&v=4\n",
      "@busyuqboy : https://avatars.githubusercontent.com/u/4298131?s=40&v=4\n",
      "@CyberPunkMetalHead : https://avatars.githubusercontent.com/u/45662650?s=40&v=4\n",
      "@mikeczabator : https://avatars.githubusercontent.com/u/35580719?s=40&v=4\n",
      "@Jrjy3 : https://avatars.githubusercontent.com/u/1194768?s=40&v=4\n",
      "@Triasmus : https://avatars.githubusercontent.com/u/14927087?s=40&v=4\n",
      "@williamFalcon : https://avatars.githubusercontent.com/u/3640001?s=40&v=4\n",
      "@Borda : https://avatars.githubusercontent.com/u/6035284?s=40&v=4\n",
      "@awaelchli : https://avatars.githubusercontent.com/u/5495193?s=40&v=4\n",
      "@carmocca : https://avatars.githubusercontent.com/u/11067892?s=40&v=4\n",
      "@tchaton : https://avatars.githubusercontent.com/u/12861981?s=40&v=4\n",
      "@mpcabete : https://avatars.githubusercontent.com/u/69962256?s=40&v=4\n",
      "@filipecavalc : https://avatars.githubusercontent.com/u/15673929?s=40&v=4\n",
      "@Nucito : https://avatars.githubusercontent.com/u/19374522?s=40&v=4\n",
      "@newerton : https://avatars.githubusercontent.com/u/4175945?s=40&v=4\n",
      "@cristhianbreunig : https://avatars.githubusercontent.com/u/38818343?s=40&v=4\n",
      "@sml2h3 : https://avatars.githubusercontent.com/u/17084976?s=40&v=4\n",
      "@ashawkey : https://avatars.githubusercontent.com/u/25863658?s=40&v=4\n",
      "@FabianIsensee : https://avatars.githubusercontent.com/u/11302164?s=40&v=4\n",
      "@PeterMFull : https://avatars.githubusercontent.com/u/47388612?s=40&v=4\n",
      "@arthursw : https://avatars.githubusercontent.com/u/1814799?s=40&v=4\n",
      "@whikwon : https://avatars.githubusercontent.com/u/30768596?s=40&v=4\n",
      "@JanSellner : https://avatars.githubusercontent.com/u/11442755?s=40&v=4\n",
      "@crowsonkb : https://avatars.githubusercontent.com/u/4657022?s=40&v=4\n",
      "@JMTHON-AR : https://avatars.githubusercontent.com/u/85131843?s=40&v=4\n",
      "@adeebshihadeh : https://avatars.githubusercontent.com/u/8762862?s=40&v=4\n",
      "@pd0wm : https://avatars.githubusercontent.com/u/1314752?s=40&v=4\n",
      "@deanlee : https://avatars.githubusercontent.com/u/27770?s=40&v=4\n",
      "@HaraldSchafer : https://avatars.githubusercontent.com/u/6804392?s=40&v=4\n",
      "@geohot : https://avatars.githubusercontent.com/u/72895?s=40&v=4\n",
      "@cpennington : https://avatars.githubusercontent.com/u/30236?s=40&v=4\n",
      "@nedbat : https://avatars.githubusercontent.com/u/23789?s=40&v=4\n",
      "@chrisndodge : https://avatars.githubusercontent.com/u/2362917?s=40&v=4\n",
      "@singingwolfboy : https://avatars.githubusercontent.com/u/132355?s=40&v=4\n",
      "@dianakhuang : https://avatars.githubusercontent.com/u/2952947?s=40&v=4\n",
      "@Asabeneh : https://avatars.githubusercontent.com/u/9008063?s=40&v=4\n",
      "@pkiczko : https://avatars.githubusercontent.com/u/36337174?s=40&v=4\n",
      "@Rasbin : https://avatars.githubusercontent.com/u/15159607?s=40&v=4\n",
      "@mesfint : https://avatars.githubusercontent.com/u/277103?s=40&v=4\n",
      "@Sumanth-Talluri : https://avatars.githubusercontent.com/u/30266724?s=40&v=4\n",
      "@derekbekoe : https://avatars.githubusercontent.com/u/16448634?s=40&v=4\n",
      "@tjprescott : https://avatars.githubusercontent.com/u/5723682?s=40&v=4\n",
      "@yugangw-msft : https://avatars.githubusercontent.com/u/6014209?s=40&v=4\n",
      "@troydai : https://avatars.githubusercontent.com/u/1329240?s=40&v=4\n",
      "@BurtBiel : https://avatars.githubusercontent.com/u/10136041?s=40&v=4\n",
      "@nepeplwu : https://avatars.githubusercontent.com/u/45024560?s=40&v=4\n",
      "@Steffy-zxf : https://avatars.githubusercontent.com/u/48793257?s=40&v=4\n",
      "@ZeyuChen : https://avatars.githubusercontent.com/u/1371212?s=40&v=4\n",
      "@ShenYuhan : https://avatars.githubusercontent.com/u/28444161?s=40&v=4\n",
      "@kinghuin : https://avatars.githubusercontent.com/u/11913168?s=40&v=4\n",
      "@lhoestq : https://avatars.githubusercontent.com/u/42851186?s=40&v=4\n",
      "@albertvillanova : https://avatars.githubusercontent.com/u/8515462?s=40&v=4\n",
      "@patrickvonplaten : https://avatars.githubusercontent.com/u/23423619?s=40&v=4\n",
      "@thomwolf : https://avatars.githubusercontent.com/u/7353373?s=40&v=4\n",
      "@mariosasko : https://avatars.githubusercontent.com/u/47462742?s=40&v=4\n",
      "@ResidualLaugh : https://avatars.githubusercontent.com/u/23581090?s=40&v=4\n",
      "@leohowell : https://avatars.githubusercontent.com/u/5725123?s=40&v=4\n",
      "@heyman : https://avatars.githubusercontent.com/u/54217?s=40&v=4\n",
      "@cyberw : https://avatars.githubusercontent.com/u/1134328?s=40&v=4\n",
      "@mboutet : https://avatars.githubusercontent.com/u/52334444?s=40&v=4\n",
      "@HeyHugo : https://avatars.githubusercontent.com/u/1010517?s=40&v=4\n",
      "@Trouv : https://avatars.githubusercontent.com/u/15664670?s=40&v=4\n",
      "@sshaoshuai : https://avatars.githubusercontent.com/u/8805870?s=40&v=4\n",
      "@jihanyang : https://avatars.githubusercontent.com/u/17939045?s=40&v=4\n",
      "@Gus-Guo : https://avatars.githubusercontent.com/u/24970271?s=40&v=4\n",
      "@acivgin1 : https://avatars.githubusercontent.com/u/7559356?s=40&v=4\n",
      "@MartinHahner : https://avatars.githubusercontent.com/u/14181188?s=40&v=4\n",
      "@FateScript : https://avatars.githubusercontent.com/u/12154809?s=40&v=4\n",
      "@GOATmessi7 : https://avatars.githubusercontent.com/u/5692572?s=40&v=4\n",
      "@Joker316701882 : https://avatars.githubusercontent.com/u/18679821?s=40&v=4\n",
      "@developer0hye : https://avatars.githubusercontent.com/u/35001605?s=40&v=4\n",
      "@ankandrew : https://avatars.githubusercontent.com/u/61120139?s=40&v=4\n",
      "@jackfrued : https://avatars.githubusercontent.com/u/7474657?s=40&v=4\n",
      "@softpo : https://avatars.githubusercontent.com/u/13017944?s=40&v=4\n",
      "@geekya215 : https://avatars.githubusercontent.com/u/10865729?s=40&v=4\n",
      "@wjsvec : https://avatars.githubusercontent.com/u/39830125?s=40&v=4\n",
      "@jankeromnes : https://avatars.githubusercontent.com/u/599268?s=40&v=4\n",
      "@scoder : https://avatars.githubusercontent.com/u/491659?s=40&v=4\n",
      "@robertwb : https://avatars.githubusercontent.com/u/486017?s=40&v=4\n",
      "@markflorisson : https://avatars.githubusercontent.com/u/413428?s=40&v=4\n",
      "@dalcinl : https://avatars.githubusercontent.com/u/294981?s=40&v=4\n",
      "@vitek : https://avatars.githubusercontent.com/u/489439?s=40&v=4\n",
      "@jacobdevlin-google : https://avatars.githubusercontent.com/u/44483550?s=40&v=4\n",
      "@abhishekraok : https://avatars.githubusercontent.com/u/783844?s=40&v=4\n",
      "@dalequark : https://avatars.githubusercontent.com/u/2328571?s=40&v=4\n",
      "@cbockman : https://avatars.githubusercontent.com/u/4667922?s=40&v=4\n",
      "@eric-haibin-lin : https://avatars.githubusercontent.com/u/5545640?s=40&v=4\n",
      "@nelsonic : https://avatars.githubusercontent.com/u/194400?s=40&v=4\n",
      "@simonsteele24 : https://avatars.githubusercontent.com/u/46796437?s=40&v=4\n",
      "@spookiecookie : https://avatars.githubusercontent.com/u/5195215?s=40&v=4\n",
      "@nkamc : https://avatars.githubusercontent.com/u/10835816?s=40&v=4\n",
      "@Awe23123 : https://avatars.githubusercontent.com/u/17517776?s=40&v=4\n"
     ]
    }
   ],
   "source": [
    "# your code here\n",
    "r3 = requests.get(url).content\n",
    "soup3 = BeautifulSoup(r3, \"lxml\")\n",
    "\n",
    "images = soup3.find_all('img')\n",
    "for image in images:\n",
    "    name = image['alt']\n",
    "    link = image['src']\n",
    "    print(name +' : '+ link)\n",
    "\n"
   ]
  },
  {
   "cell_type": "markdown",
   "metadata": {},
   "source": [
    "#### Retrieve an arbitary Wikipedia page of \"Python\" and create a list of links on that page."
   ]
  },
  {
   "cell_type": "code",
   "execution_count": null,
   "metadata": {},
   "outputs": [],
   "source": [
    "# This is the url you will scrape in this exercise\n",
    "url ='https://en.wikipedia.org/wiki/Python' "
   ]
  },
  {
   "cell_type": "code",
   "execution_count": null,
   "metadata": {},
   "outputs": [],
   "source": [
    "# your code here\n",
    "from urllib.request import urlopen\n",
    "from bs4 import BeautifulSoup\n",
    "html = urlopen(url)\n",
    "soup4 = BeautifulSoup(html)\n",
    "for link in soup4.findAll(\"a\"):\n",
    "    if 'href' in link.attrs:\n",
    "        print(link.attrs['href'])"
   ]
  },
  {
   "cell_type": "markdown",
   "metadata": {},
   "source": [
    "#### Find the number of titles that have changed in the United States Code since its last release point."
   ]
  },
  {
   "cell_type": "code",
   "execution_count": null,
   "metadata": {},
   "outputs": [],
   "source": [
    "# This is the url you will scrape in this exercise\n",
    "url = 'http://uscode.house.gov/download/download.shtml'"
   ]
  },
  {
   "cell_type": "code",
   "execution_count": null,
   "metadata": {},
   "outputs": [],
   "source": [
    "# your code here\n",
    "r4 = requests.get(url).content\n",
    "soup4 = BeautifulSoup(r4, \"html.parser\")\n",
    "titles = soup4.findAll('div',{'class':'usctitlechanged'})\n",
    "numberoftitles = 0\n",
    "for title in titles:\n",
    "    print(title.text.strip())\n",
    "    numberoftitles +=1\n",
    "print('There are',numberoftitles, \"titles that have changed in the US Code since last relase point\")\n",
    "\n"
   ]
  },
  {
   "cell_type": "markdown",
   "metadata": {},
   "source": [
    "#### Find a Python list with the top ten FBI's Most Wanted names."
   ]
  },
  {
   "cell_type": "code",
   "execution_count": null,
   "metadata": {},
   "outputs": [],
   "source": [
    "# This is the url you will scrape in this exercise\n",
    "url = 'https://www.fbi.gov/wanted/topten'"
   ]
  },
  {
   "cell_type": "code",
   "execution_count": null,
   "metadata": {},
   "outputs": [],
   "source": [
    "# your code here\n",
    "r5 = requests.get(url).content\n",
    "soup5 = BeautifulSoup(r5, 'html.parser')\n",
    "topten = soup5.findAll('h3',{'class':'title'})\n",
    "toptenlist = []\n",
    "for wanted in topten:\n",
    "    toptenlist.append(wanted.text.strip())\n",
    "toptenlist"
   ]
  },
  {
   "cell_type": "markdown",
   "metadata": {},
   "source": [
    "####  Display the 20 latest earthquakes info (date, time, latitude, longitude and region name) by the EMSC as a pandas dataframe."
   ]
  },
  {
   "cell_type": "code",
   "execution_count": null,
   "metadata": {},
   "outputs": [],
   "source": [
    "# This is the url you will scrape in this exercise\n",
    "url = 'https://www.emsc-csem.org/Earthquake/'"
   ]
  },
  {
   "cell_type": "code",
   "execution_count": null,
   "metadata": {},
   "outputs": [],
   "source": [
    "# your code here\n",
    "r6 = requests.get(url).content\n",
    "dfs = pd.read_html(url)\n",
    "table = dfs[3]\n",
    "fields = ['Date & Time UTC', \"Latitude degrees\", \"Longitude degrees\",\"Region name [+]\"]\n",
    "data = table[fields]\n",
    "data.head(20)"
   ]
  },
  {
   "cell_type": "markdown",
   "metadata": {},
   "source": [
    "#### Count the number of tweets by a given Twitter account.\n",
    "Ask the user for the handle (@handle) of a twitter account. You will need to include a ***try/except block*** for account names not found. \n",
    "<br>***Hint:*** the program should count the number of tweets for any provided account."
   ]
  },
  {
   "cell_type": "code",
   "execution_count": null,
   "metadata": {},
   "outputs": [],
   "source": [
    "# This is the url you will scrape in this exercise \n",
    "# You will need to add the account credentials to this url\n",
    "url = 'https://twitter.com/'\n",
    "import tweepy\n",
    "auth = tweepy.OAuthHandler('89qjfb3igk5HSCZdf1Qh0nPMu', 'au3yWZ2XOX7RBkTiJamZjb4rkUO1QS3thuVCKabtZuabUxJvxh')\n",
    "auth.set_access_token('782494848-hE7BFv17XNWIlASLqS33GaXZYfhH5RGH2sYCfFKJ', 'nzTtQtNYgnshPoAOEkzFL8sJQgEhWTrzuGWD1Ksjgwpsk')\n",
    "api = tweepy.API(auth)\n",
    "\n",
    "try:\n",
    "    handle = input('Please enter a Twitter account')\n",
    "    user = api.get_user(screen_name = handle)\n",
    "    count = user.statuses_count\n",
    "    print(count)\n",
    "except:\n",
    "    \n",
    "## Not the right level of authorisation for this"
   ]
  },
  {
   "cell_type": "markdown",
   "metadata": {},
   "source": [
    "#### Number of followers of a given twitter account\n",
    "Ask the user for the handle (@handle) of a twitter account. You will need to include a ***try/except block*** for account names not found. \n",
    "<br>***Hint:*** the program should count the followers for any provided account."
   ]
  },
  {
   "cell_type": "code",
   "execution_count": null,
   "metadata": {},
   "outputs": [],
   "source": [
    "# This is the url you will scrape in this exercise \n",
    "# You will need to add the account credentials to this url\n",
    "url = 'https://twitter.com/'\n",
    "auth = tweepy.OAuthHandler('89qjfb3igk5HSCZdf1Qh0nPMu', 'au3yWZ2XOX7RBkTiJamZjb4rkUO1QS3thuVCKabtZuabUxJvxh')\n",
    "auth.set_access_token('782494848-hE7BFv17XNWIlASLqS33GaXZYfhH5RGH2sYCfFKJ', 'nzTtQtNYgnshPoAOEkzFL8sJQgEhWTrzuGWD1Ksjgwpsk')\n",
    "api = tweepy.API(auth)\n",
    "\n",
    "try:\n",
    "    handle = input('Please enter a Twitter account')\n",
    "    user = api.get_user(screen_name = handle)\n",
    "    count = user.followers_count\n",
    "    print(count)\n",
    "except:"
   ]
  },
  {
   "cell_type": "code",
   "execution_count": null,
   "metadata": {},
   "outputs": [],
   "source": [
    "# your code here"
   ]
  },
  {
   "cell_type": "markdown",
   "metadata": {},
   "source": [
    "#### List all language names and number of related articles in the order they appear in wikipedia.org."
   ]
  },
  {
   "cell_type": "code",
   "execution_count": null,
   "metadata": {},
   "outputs": [],
   "source": [
    "# This is the url you will scrape in this exercise\n",
    "url = 'https://www.wikipedia.org/'"
   ]
  },
  {
   "cell_type": "code",
   "execution_count": null,
   "metadata": {},
   "outputs": [],
   "source": [
    "# your code here\n",
    "r8 = requests.get(url).content\n",
    "soup8 = BeautifulSoup(r8, 'html.parser')\n",
    "soup8\n",
    "languages = soup8.findAll('div',{'class':'central-featured-lang'})\n",
    "for element in languages:\n",
    "    language_articles.append(element.text.strip())\n",
    "    print(element.text.strip())\n"
   ]
  },
  {
   "cell_type": "code",
   "execution_count": null,
   "metadata": {},
   "outputs": [],
   "source": [
    "languages"
   ]
  },
  {
   "cell_type": "code",
   "execution_count": null,
   "metadata": {},
   "outputs": [],
   "source": []
  },
  {
   "cell_type": "markdown",
   "metadata": {},
   "source": [
    "#### A list with the different kind of datasets available in data.gov.uk."
   ]
  },
  {
   "cell_type": "code",
   "execution_count": null,
   "metadata": {},
   "outputs": [],
   "source": [
    "# This is the url you will scrape in this exercise\n",
    "url = 'https://data.gov.uk/'"
   ]
  },
  {
   "cell_type": "code",
   "execution_count": null,
   "metadata": {},
   "outputs": [],
   "source": [
    "# your code here\n",
    "r9 = requests.get(url).content\n",
    "soup9 = BeautifulSoup(r9, 'html.parser')\n",
    "soup9\n",
    "dataset = []\n",
    "datasets = soup9.findAll('a',{'class':'govuk-link'})\n",
    "for kind in datasets[4:]:\n",
    "    dataset.append(kind.text)\n",
    "dataset"
   ]
  },
  {
   "cell_type": "markdown",
   "metadata": {},
   "source": [
    "#### Display the top 10 languages by number of native speakers stored in a pandas dataframe."
   ]
  },
  {
   "cell_type": "code",
   "execution_count": null,
   "metadata": {},
   "outputs": [],
   "source": [
    "# This is the url you will scrape in this exercise\n",
    "url = 'https://en.wikipedia.org/wiki/List_of_languages_by_number_of_native_speakers'"
   ]
  },
  {
   "cell_type": "code",
   "execution_count": null,
   "metadata": {},
   "outputs": [],
   "source": [
    "# your code here\n",
    "r10 = requests.get(url).content\n",
    "dfs = pd.read_html(url, match=\"Languages with at least 10 million first-language speakers\")\n",
    "df = dfs[0]\n",
    "df.head(10)"
   ]
  },
  {
   "cell_type": "markdown",
   "metadata": {},
   "source": [
    "## Bonus\n",
    "#### Scrape a certain number of tweets of a given Twitter account."
   ]
  },
  {
   "cell_type": "code",
   "execution_count": null,
   "metadata": {},
   "outputs": [],
   "source": [
    "# This is the url you will scrape in this exercise \n",
    "# You will need to add the account credentials to this url\n",
    "url = 'https://twitter.com/'"
   ]
  },
  {
   "cell_type": "code",
   "execution_count": null,
   "metadata": {},
   "outputs": [],
   "source": [
    "# your code here"
   ]
  },
  {
   "cell_type": "markdown",
   "metadata": {},
   "source": [
    "#### Display IMDB's top 250 data (movie name, initial release, director name and stars) as a pandas dataframe."
   ]
  },
  {
   "cell_type": "code",
   "execution_count": null,
   "metadata": {},
   "outputs": [],
   "source": [
    "# This is the url you will scrape in this exercise \n",
    "url = 'https://www.imdb.com/chart/top'"
   ]
  },
  {
   "cell_type": "code",
   "execution_count": null,
   "metadata": {},
   "outputs": [],
   "source": [
    "# your code here"
   ]
  },
  {
   "cell_type": "markdown",
   "metadata": {},
   "source": [
    "#### Display the movie name, year and a brief summary of the top 10 random movies (IMDB) as a pandas dataframe."
   ]
  },
  {
   "cell_type": "code",
   "execution_count": null,
   "metadata": {},
   "outputs": [],
   "source": [
    "#This is the url you will scrape in this exercise\n",
    "url = 'http://www.imdb.com/chart/top'"
   ]
  },
  {
   "cell_type": "code",
   "execution_count": null,
   "metadata": {},
   "outputs": [],
   "source": [
    "# your code here"
   ]
  },
  {
   "cell_type": "markdown",
   "metadata": {},
   "source": [
    "#### Find the live weather report (temperature, wind speed, description and weather) of a given city."
   ]
  },
  {
   "cell_type": "code",
   "execution_count": null,
   "metadata": {},
   "outputs": [],
   "source": [
    "#https://openweathermap.org/current\n",
    "city = input('Enter the city: ')\n",
    "url = 'http://api.openweathermap.org/data/2.5/weather?'+'q='+city+'&APPID=b35975e18dc93725acb092f7272cc6b8&units=metric'"
   ]
  },
  {
   "cell_type": "code",
   "execution_count": null,
   "metadata": {},
   "outputs": [],
   "source": [
    "# your code here"
   ]
  },
  {
   "cell_type": "markdown",
   "metadata": {},
   "source": [
    "#### Find the book name, price and stock availability as a pandas dataframe."
   ]
  },
  {
   "cell_type": "code",
   "execution_count": null,
   "metadata": {},
   "outputs": [],
   "source": [
    "# This is the url you will scrape in this exercise. \n",
    "# It is a fictional bookstore created to be scraped. \n",
    "url = 'http://books.toscrape.com/'"
   ]
  },
  {
   "cell_type": "code",
   "execution_count": null,
   "metadata": {},
   "outputs": [],
   "source": [
    "# your code here"
   ]
  }
 ],
 "metadata": {
  "kernelspec": {
   "display_name": "Python 3 (ipykernel)",
   "language": "python",
   "name": "python3"
  },
  "language_info": {
   "codemirror_mode": {
    "name": "ipython",
    "version": 3
   },
   "file_extension": ".py",
   "mimetype": "text/x-python",
   "name": "python",
   "nbconvert_exporter": "python",
   "pygments_lexer": "ipython3",
   "version": "3.9.7"
  }
 },
 "nbformat": 4,
 "nbformat_minor": 2
}
