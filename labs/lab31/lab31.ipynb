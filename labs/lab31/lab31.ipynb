{
 "cells": [
  {
   "cell_type": "code",
   "execution_count": 1,
   "id": "4f6d24da",
   "metadata": {},
   "outputs": [],
   "source": [
    "import pandas as pd"
   ]
  },
  {
   "cell_type": "code",
   "execution_count": 2,
   "id": "6204d04d",
   "metadata": {},
   "outputs": [],
   "source": [
    "lab31 = pd.DataFrame()"
   ]
  },
  {
   "cell_type": "code",
   "execution_count": 3,
   "id": "9e34a725",
   "metadata": {},
   "outputs": [],
   "source": [
    "data = [[1, 231, 'Self-employed', '009', 'High',2, 30200], [2, 765, 'students' ,'005', 'high',3, 12700], \n",
    "        [3, 453, 'Horeca', '007',  'medium' ,5,89400], [4, 231, 'self-employed', '009', 'high' ,2 , 30200],\n",
    "        [5, 892, 'finance', '003', 'low', 3,740000]]"
   ]
  },
  {
   "cell_type": "code",
   "execution_count": null,
   "id": "2cd0042d",
   "metadata": {},
   "outputs": [],
   "source": [
    "lab31 = pd.DataFrame(data, columns = ['TransactionID', 'ClientID | Profession | Bank_dep | Risk | Number of credits | Revenue)"
   ]
  }
 ],
 "metadata": {
  "kernelspec": {
   "display_name": "Python 3 (ipykernel)",
   "language": "python",
   "name": "python3"
  },
  "language_info": {
   "codemirror_mode": {
    "name": "ipython",
    "version": 3
   },
   "file_extension": ".py",
   "mimetype": "text/x-python",
   "name": "python",
   "nbconvert_exporter": "python",
   "pygments_lexer": "ipython3",
   "version": "3.9.7"
  }
 },
 "nbformat": 4,
 "nbformat_minor": 5
}
