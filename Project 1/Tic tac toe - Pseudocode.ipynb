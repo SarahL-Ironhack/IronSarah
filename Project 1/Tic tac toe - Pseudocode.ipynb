{
 "cells": [
  {
   "cell_type": "markdown",
   "id": "17be765d",
   "metadata": {},
   "source": [
    "# Tic Tac Toe - Pseudocode"
   ]
  },
  {
   "cell_type": "markdown",
   "id": "85e4dc21",
   "metadata": {},
   "source": [
    "Step 1 : gaming board\n",
    "- create a board of 3x3 boxes, each box need to be linked to a precise place and be able to be marked by player. Meaning two values per box, resembling a key-values dictionary.\n",
    "Name boxes from 1 to 9 (keys), empty values at first\n",
    "\n",
    "Step 2 : visual board \n",
    "- need to be printable so that it can visually represent the state of the game after each turn \n",
    "\n",
    "Step 3 : define players\n",
    "player 1 = (X)\n",
    "player 2 = (O)\n",
    "\n",
    "Step 4 : create function explaining each turn\n",
    "Player 1 starts\n",
    "Print visual board - Ask player input on where they want to play on gaming board (keys from 1 to 9 as defined in step 1)\n",
    "Mark chosen key's value with player's mark (X) \n",
    "Warning:\n",
    "- code must be strong and not accept another value than 1 to 9 \n",
    "- code must check if place is available (meaning 'value' = empty)\n",
    "- if not ask player to input another int\n",
    "End of turn condition:\n",
    "- game does not end (no winner or draw) - call appropriate function\n",
    "\n",
    "Player 2 plays with same conditions\n",
    "\n",
    "Step 5 : create function to define how game ends\n",
    "2 conditions for game to end :\n",
    "- one player wins\n",
    "wins = all 3 in a row on horizontal, vertical or diagonal values from gaming board dictionary \n",
    "- dram\n",
    "\n",
    "Step 6: play again ? :)"
   ]
  }
 ],
 "metadata": {
  "kernelspec": {
   "display_name": "Python 3",
   "language": "python",
   "name": "python3"
  },
  "language_info": {
   "codemirror_mode": {
    "name": "ipython",
    "version": 3
   },
   "file_extension": ".py",
   "mimetype": "text/x-python",
   "name": "python",
   "nbconvert_exporter": "python",
   "pygments_lexer": "ipython3",
   "version": "3.8.8"
  }
 },
 "nbformat": 4,
 "nbformat_minor": 5
}
